{
 "cells": [
  {
   "cell_type": "code",
   "execution_count": 5,
   "id": "b54167fc",
   "metadata": {},
   "outputs": [],
   "source": [
    "import pandas as pd\n",
    "import numpy as np\n",
    "from catboost import CatBoostClassifier, Pool\n",
    "from sklearn.metrics import f1_score, confusion_matrix"
   ]
  },
  {
   "cell_type": "code",
   "execution_count": 4,
   "id": "d35ad9ab",
   "metadata": {},
   "outputs": [],
   "source": [
    "data = pd.read_csv(\"learn.csv\")"
   ]
  },
  {
   "cell_type": "markdown",
   "id": "e62f7659",
   "metadata": {},
   "source": [
    "data preprocessing:\n",
    "* change \"insert_time\" and \"company_enter_month\" to datetime format\n",
    "* one-hot-encode \"income_type\"\n",
    "* only take useful columns "
   ]
  },
  {
   "cell_type": "code",
   "execution_count": 6,
   "id": "54722806",
   "metadata": {},
   "outputs": [],
   "source": [
    "del data [\"Unnamed: 0\"]\n",
    "data.insert_time = pd.to_datetime(data.insert_time)\n",
    "data.company_enter_month = pd.to_datetime(data.company_enter_month)\n",
    "c1 = pd.get_dummies(data.income_type)\n",
    "data = pd.concat([data, c1], axis = 1)\n",
    "del data['income_type']"
   ]
  },
  {
   "cell_type": "code",
   "execution_count": 7,
   "id": "3f8e6caa",
   "metadata": {},
   "outputs": [],
   "source": [
    "data = data[[\"application_id\", \"loan_limit\", \"loan_rate\", \"credit_score\", \"company_enter_month\",\"insert_time\",\n",
    "                  \"desired_amount\", \"EARNEDINCOME\", \"is_applied\"]]"
   ]
  },
  {
   "cell_type": "markdown",
   "id": "f1a64d8d",
   "metadata": {},
   "source": [
    "Problem 1: <br>\n",
    "Predict which applications will be applied<br>\n",
    "divide test & train data based on date"
   ]
  },
  {
   "cell_type": "code",
   "execution_count": 143,
   "id": "706c6b7d",
   "metadata": {},
   "outputs": [
    {
     "name": "stderr",
     "output_type": "stream",
     "text": [
      "/var/folders/mj/jcmvk9nd451b_mnylnj74qrm0000gn/T/ipykernel_6166/1987880793.py:3: FutureWarning: In a future version of pandas all arguments of DataFrame.reset_index except for the argument 'level' will be keyword-only.\n",
      "  test_data_grouped = test_data.groupby('application_id').max().reset_index('inplace' == True, 'drop' == True)\n",
      "/var/folders/mj/jcmvk9nd451b_mnylnj74qrm0000gn/T/ipykernel_6166/1987880793.py:4: FutureWarning: In a future version of pandas all arguments of DataFrame.reset_index except for the argument 'level' will be keyword-only.\n",
      "  train_data_grouped = train_data.groupby('application_id').max().reset_index('inplace' == True, 'drop' == True)\n"
     ]
    }
   ],
   "source": [
    "test_data = data[data['insert_time']>='2022-05-16']\n",
    "train_data = data[data['insert_time']<'2022-05-16']\n",
    "test_data_grouped = test_data.groupby('application_id').max().reset_index('inplace' == True, 'drop' == True)\n",
    "train_data_grouped = train_data.groupby('application_id').max().reset_index('inplace' == True, 'drop' == True)\n",
    "test_label_grouped = test_data_grouped[\"is_applied\"]\n",
    "del test_data_grouped[\"is_applied\"]\n",
    "train_label_grouped = train_data_grouped[\"is_applied\"]\n",
    "del train_data_grouped[\"is_applied\"]"
   ]
  },
  {
   "cell_type": "markdown",
   "id": "61f400f4",
   "metadata": {},
   "source": [
    "Use CatBoost for Problem 1"
   ]
  },
  {
   "cell_type": "code",
   "execution_count": 144,
   "id": "474158c3",
   "metadata": {},
   "outputs": [],
   "source": [
    "by_application = data.groupby(\"application_id\").max()\n",
    "rate = by_application.is_applied.mean()"
   ]
  },
  {
   "cell_type": "code",
   "execution_count": 145,
   "id": "4277f02c",
   "metadata": {},
   "outputs": [
    {
     "name": "stdout",
     "output_type": "stream",
     "text": [
      "0:\tlearn: 0.6562759\ttotal: 563ms\tremaining: 563ms\n",
      "1:\tlearn: 0.6503298\ttotal: 987ms\tremaining: 0us\n"
     ]
    },
    {
     "data": {
      "text/plain": [
       "0.6605963644024834"
      ]
     },
     "execution_count": 145,
     "metadata": {},
     "output_type": "execute_result"
    }
   ],
   "source": [
    "model = CatBoostClassifier(iterations=2,\n",
    "                           depth=15,\n",
    "                           learning_rate=0.89,\n",
    "                           loss_function='Logloss')\n",
    "train = Pool(\n",
    "    data = train_data_grouped,\n",
    "    label = train_label_grouped,\n",
    "    weight = train_label * (1-2*rate) + rate\n",
    ")\n",
    "model.fit(train)\n",
    "predict = model.predict(test_data_grouped)\n",
    "f1_score(test_label_grouped, predict)"
   ]
  },
  {
   "cell_type": "markdown",
   "id": "8a59b1b0",
   "metadata": {},
   "source": [
    "Problem 2: <br>\n",
    "Predict which products will be chosen among the chosen applications\n",
    "* Take applications which are predicted to be applied by Problem 1\n",
    "* Assume people apply for loans that have the least loan_rate, until they have fulfilled their desired_amount"
   ]
  },
  {
   "cell_type": "code",
   "execution_count": 146,
   "id": "7d894d98",
   "metadata": {},
   "outputs": [],
   "source": [
    "test_data_grouped.loc[:, \"predict\"] = predict\n",
    "applied_application_ids = test_data_grouped.loc[test_data_grouped.predict == 1, \"application_id\"]\n",
    "applied_applications = data.loc[data.application_id.isin(applied_application_ids)]\n",
    "applied_applications = applied_applications[[\"application_id\", \"loan_limit\", \"loan_rate\", \"is_applied\", \"desired_amount\"]]\n",
    "applied_applications = applied_applications.sort_values(by = [\"application_id\", \"loan_rate\"])"
   ]
  },
  {
   "cell_type": "code",
   "execution_count": 151,
   "id": "c73d34d9",
   "metadata": {},
   "outputs": [],
   "source": [
    "applied_applications.loc[:, [\"sum\", \"is_enough\", \"predict\"]] = 0\n",
    "applied_applications.iloc[0, 5] = applied_applications.iloc[0, 1]"
   ]
  },
  {
   "cell_type": "code",
   "execution_count": 152,
   "id": "ca29056b",
   "metadata": {},
   "outputs": [],
   "source": [
    "for i in range (1, len(applied_applications)):\n",
    "    applied_applications.iloc[i, 5] = applied_applications.iloc[i, 1]\n",
    "    if (applied_applications.iloc[i, 0] == applied_applications.iloc[i-1, 0]):\n",
    "        applied_applications.iloc[i, 5] += applied_applications.iloc[i-1, 5]"
   ]
  },
  {
   "cell_type": "code",
   "execution_count": 153,
   "id": "a1091f9b",
   "metadata": {},
   "outputs": [],
   "source": [
    "applied_applications[\"is_enough\"] = applied_applications[\"sum\"] > applied_applications[\"desired_amount\"]"
   ]
  },
  {
   "cell_type": "code",
   "execution_count": 157,
   "id": "ee0a6bec",
   "metadata": {},
   "outputs": [],
   "source": [
    "applied_applications.iloc[0, 7] = 1\n",
    "applied_applications.iloc[1, 7] = 1"
   ]
  },
  {
   "cell_type": "code",
   "execution_count": 158,
   "id": "b1342c3d",
   "metadata": {},
   "outputs": [],
   "source": [
    "for i in range(2, len(applied_applications)):\n",
    "    if (applied_applications.iloc[i, 0] == applied_applications.iloc[i-1, 0]):\n",
    "        if (not applied_applications.iloc[i, 6]):\n",
    "            applied_applications.iloc[i, 7] = 1\n",
    "        elif (not applied_applications.iloc[i-1, 6]):\n",
    "            applied_applications.iloc[i, 7] = 1\n",
    "        elif (not applied_applications.iloc[i-2, 6]):\n",
    "            applied_applications.iloc[i, 7] = 1\n",
    "    else:\n",
    "        applied_applications.iloc[i, 7] = 1"
   ]
  },
  {
   "cell_type": "code",
   "execution_count": 164,
   "id": "dfd326c0",
   "metadata": {},
   "outputs": [
    {
     "data": {
      "text/plain": [
       "0.4297124676722598"
      ]
     },
     "execution_count": 164,
     "metadata": {},
     "output_type": "execute_result"
    }
   ],
   "source": [
    "f1_score(applied_applications.is_applied, applied_applications.predict)"
   ]
  },
  {
   "cell_type": "markdown",
   "id": "00a7c9d4",
   "metadata": {},
   "source": [
    "Use the Results of Problem 1 & 2 to Predict the Total Problem"
   ]
  },
  {
   "cell_type": "code",
   "execution_count": 159,
   "id": "77cab0e2",
   "metadata": {},
   "outputs": [],
   "source": [
    "applied_products_id = applied_applications.loc[applied_applications.predict == 1].index"
   ]
  },
  {
   "cell_type": "code",
   "execution_count": 161,
   "id": "ed9d926e",
   "metadata": {},
   "outputs": [
    {
     "name": "stderr",
     "output_type": "stream",
     "text": [
      "/var/folders/mj/jcmvk9nd451b_mnylnj74qrm0000gn/T/ipykernel_6166/912087388.py:1: SettingWithCopyWarning: \n",
      "A value is trying to be set on a copy of a slice from a DataFrame.\n",
      "Try using .loc[row_indexer,col_indexer] = value instead\n",
      "\n",
      "See the caveats in the documentation: https://pandas.pydata.org/pandas-docs/stable/user_guide/indexing.html#returning-a-view-versus-a-copy\n",
      "  test_data.loc[:, \"predict\"] = 0\n"
     ]
    }
   ],
   "source": [
    "test_data.loc[:, \"predict\"] = 0\n",
    "test_data.loc[applied_products_id, \"predict\"] = 1"
   ]
  },
  {
   "cell_type": "code",
   "execution_count": 165,
   "id": "4422b36e",
   "metadata": {},
   "outputs": [
    {
     "data": {
      "text/plain": [
       "0.3733890659272441"
      ]
     },
     "execution_count": 165,
     "metadata": {},
     "output_type": "execute_result"
    }
   ],
   "source": [
    "f1_score(test_data.is_applied, test_data.predict)"
   ]
  },
  {
   "cell_type": "code",
   "execution_count": 167,
   "id": "bc95e4c2",
   "metadata": {},
   "outputs": [
    {
     "data": {
      "text/plain": [
       "array([1672209,   89701,   61707,   45111])"
      ]
     },
     "execution_count": 167,
     "metadata": {},
     "output_type": "execute_result"
    }
   ],
   "source": [
    "confusion_matrix(test_data.is_applied, test_data.predict).ravel()"
   ]
  }
 ],
 "metadata": {
  "kernelspec": {
   "display_name": "Python 3 (ipykernel)",
   "language": "python",
   "name": "python3"
  },
  "language_info": {
   "codemirror_mode": {
    "name": "ipython",
    "version": 3
   },
   "file_extension": ".py",
   "mimetype": "text/x-python",
   "name": "python",
   "nbconvert_exporter": "python",
   "pygments_lexer": "ipython3",
   "version": "3.10.6"
  }
 },
 "nbformat": 4,
 "nbformat_minor": 5
}
