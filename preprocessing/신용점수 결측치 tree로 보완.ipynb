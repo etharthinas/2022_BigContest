{
 "cells": [
  {
   "cell_type": "code",
   "execution_count": 2,
   "metadata": {
    "id": "VBTs6mMlo8-e"
   },
   "outputs": [
    {
     "name": "stderr",
     "output_type": "stream",
     "text": [
      "/Users/jinwon/opt/anaconda3/lib/python3.8/site-packages/numpy/lib/arraysetops.py:583: FutureWarning: elementwise comparison failed; returning scalar instead, but in the future will perform elementwise comparison\n",
      "  mask |= (ar1 == a)\n"
     ]
    }
   ],
   "source": [
    "# 신용점수 외의 다른 값이 모두 전처리되고 join된 자료 불러오기\n",
    "import pandas as pd\n",
    "joined = pd.read_csv('joined.csv',index_col=0)"
   ]
  },
  {
   "cell_type": "code",
   "execution_count": 3,
   "metadata": {
    "id": "NXVSVW_XqObz"
   },
   "outputs": [],
   "source": [
    "# tree에 넣기 위해 전처리\n",
    "joined['birth_year'] = joined['birth_year'].apply(lambda x: int(str(x)[0:4]))\n",
    "joined['yearly_income'] = joined['yearly_income'].apply(lambda t: int(t)/1000000)\n",
    "joined['desired_amount'] = joined['desired_amount'].apply(lambda t: int(t)/1000000)\n",
    "joined['existing_loan_amt'] = joined['existing_loan_amt'].apply(lambda t: int(t)/1000000)\n",
    "joined['existing_loan_cnt'] = joined['existing_loan_cnt'].apply(lambda t: int(float(t)))"
   ]
  },
  {
   "cell_type": "code",
   "execution_count": 4,
   "metadata": {
    "id": "8K84wXH8ueiW"
   },
   "outputs": [],
   "source": [
    "# 범주형 자료를 one-hot encoding하고 회귀나무에 넣을 수 있는 feature만 선택\n",
    "treejoined = pd.concat(\n",
    "    [\n",
    "        joined,\n",
    "        pd.get_dummies(joined.income_type, prefix='income'),\n",
    "        pd.get_dummies(joined.houseown_type, prefix='house')\n",
    "    ],\n",
    "    axis=1\n",
    ").reset_index(drop=True).drop(\n",
    "    [\n",
    "        \"application_id\", \"loanapply_insert_time\",\n",
    "        'insert_time',\"bank_id\", \"product_id\",\n",
    "        'income_type','loan_rate','loan_limit',\n",
    "        'is_applied','user_id','company_enter_month',\n",
    "        'purpose','employment_type','houseown_type'\n",
    "    ],\n",
    "    axis=1\n",
    ")"
   ]
  },
  {
   "cell_type": "code",
   "execution_count": 6,
   "metadata": {
    "id": "WX_Qn0677Plp"
   },
   "outputs": [],
   "source": [
    "# 신용점수가 기록된 자료와 null인 자료 분리\n",
    "traincredit = treejoined[treejoined['credit_score'].notna()]\n",
    "trainnullcredit = treejoined[treejoined['credit_score'].isna()]\n",
    "treejoined = pd.DataFrame()"
   ]
  },
  {
   "cell_type": "code",
   "execution_count": 8,
   "metadata": {
    "id": "7rGyp7f44J6o"
   },
   "outputs": [],
   "source": [
    "# sklearn으로 데이터를 학습/검증 데이터 분할하고, tree모델을 적합시킨다.\n",
    "from sklearn.model_selection import train_test_split\n",
    "from sklearn.tree import DecisionTreeRegressor\n",
    "X = traincredit.drop(['credit_score'], axis=1)\n",
    "y = traincredit['credit_score']\n",
    "X_train, X_test, y_train, y_test = train_test_split(X, y, test_size=0.3, random_state=44)\n",
    "model = DecisionTreeRegressor(random_state=44)\n",
    "model.fit(X_train, y_train)"
   ]
  },
  {
   "cell_type": "code",
   "execution_count": 11,
   "metadata": {
    "id": "9-0RsUriHs6O"
   },
   "outputs": [
    {
     "name": "stderr",
     "output_type": "stream",
     "text": [
      "/Users/jinwon/opt/anaconda3/lib/python3.8/site-packages/numpy/lib/arraysetops.py:583: FutureWarning: elementwise comparison failed; returning scalar instead, but in the future will perform elementwise comparison\n",
      "  mask |= (ar1 == a)\n",
      "<ipython-input-11-ad5d0805df6e>:4: SettingWithCopyWarning: \n",
      "A value is trying to be set on a copy of a slice from a DataFrame.\n",
      "Try using .loc[row_indexer,col_indexer] = value instead\n",
      "\n",
      "See the caveats in the documentation: https://pandas.pydata.org/pandas-docs/stable/user_guide/indexing.html#returning-a-view-versus-a-copy\n",
      "  nullcredit['credit_score'] = predictions\n"
     ]
    }
   ],
   "source": [
    "# 적합시킨 tree에 신용점수가 null인 자료를 넣어 회귀값을 구한다.\n",
    "predictions = model.predict(trainnullcredit.drop(['credit_score'],axis = 1))\n",
    "joined = pd.read_csv('joined.csv',index_col=0)\n",
    "nullcredit = joined[joined['credit_score'].isna()]\n",
    "nullcredit['credit_score'] = predictions"
   ]
  },
  {
   "cell_type": "code",
   "execution_count": 14,
   "metadata": {
    "id": "4PEgidMmtU3k"
   },
   "outputs": [
    {
     "name": "stderr",
     "output_type": "stream",
     "text": [
      "<ipython-input-14-d206d4141f35>:1: SettingWithCopyWarning: \n",
      "A value is trying to be set on a copy of a slice from a DataFrame.\n",
      "Try using .loc[row_indexer,col_indexer] = value instead\n",
      "\n",
      "See the caveats in the documentation: https://pandas.pydata.org/pandas-docs/stable/user_guide/indexing.html#returning-a-view-versus-a-copy\n",
      "  nullcredit['credit_score']= nullcredit['credit_score']//10*10\n"
     ]
    }
   ],
   "source": [
    "# 나머지 데이터에 맞게 일의 자리는 버림한다.\n",
    "nullcredit['credit_score']= nullcredit['credit_score']//10*10"
   ]
  },
  {
   "cell_type": "code",
   "execution_count": 13,
   "metadata": {
    "id": "befMbUMII24o"
   },
   "outputs": [],
   "source": [
    "# 기존 데이터와 합쳐 내보내기한다.\n",
    "fulljoined = pd.concat([joined[joined['credit_score'].notna()],nullcredit])\n",
    "fulljoined.to_csv(\"fulljoined.csv\")"
   ]
  }
 ],
 "metadata": {
  "colab": {
   "collapsed_sections": [],
   "provenance": []
  },
  "kernelspec": {
   "display_name": "Python 3",
   "language": "python",
   "name": "python3"
  },
  "language_info": {
   "codemirror_mode": {
    "name": "ipython",
    "version": 3
   },
   "file_extension": ".py",
   "mimetype": "text/x-python",
   "name": "python",
   "nbconvert_exporter": "python",
   "pygments_lexer": "ipython3",
   "version": "3.8.8"
  }
 },
 "nbformat": 4,
 "nbformat_minor": 1
}
