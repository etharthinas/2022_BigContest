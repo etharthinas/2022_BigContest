{
 "cells": [
  {
   "cell_type": "code",
   "execution_count": 1,
   "id": "99340f2e",
   "metadata": {},
   "outputs": [],
   "source": [
    "import pandas as pd\n",
    "from datetime import datetime\n",
    "from datetime import timedelta\n",
    "import numpy as np"
   ]
  },
  {
   "cell_type": "code",
   "execution_count": 2,
   "id": "78f9c89a",
   "metadata": {},
   "outputs": [],
   "source": [
    "# log_data 가져오기\n",
    "logdata = pd.read_csv(\"log_data.csv\")\n",
    "logdata['timestamp'] = pd.to_datetime(logdata['timestamp'])"
   ]
  },
  {
   "cell_type": "code",
   "execution_count": 3,
   "id": "cf52fb20",
   "metadata": {},
   "outputs": [],
   "source": [
    "# 한도 조회 과정에 해당하는 event들 중, user가 각 session에서 마지막으로 발생시킨 event만 남긴다.\n",
    "# CompleteIDCertification까지 했다면, 앞의 ViewLoanApplyIntro와 StartLoanApply를 지우는 식이다.\n",
    "eventdata = logdata[['user_id','event','timestamp']].sort_values(\n",
    "    by=['user_id','timestamp'],ascending = True\n",
    ")\n",
    "# 이를 위해 한도조회에 해당하는 event들은 1,2,3의 값을 주고,\n",
    "# 큰 수가 오면 바로 앞의 작은 수가 있는 event를 지우는 식으로 연산하였다.\n",
    "eventdata['code'] = eventdata['event'].map(\n",
    "    {'OpenApp':'OpenApp','GetCreditInfo':\"GetCreditInfo\",\n",
    "     'UseLoanManage':\"UseLoanManage\",'UsePrepayCalc':\"UsePrepayCalc\",\n",
    "     'ViewLoanApplyIntro':1,'StartLoanApply':2,\n",
    "     'CompleteIDCertification':3,'UseDSRCalc':\"UseDSRCalc\"}\n",
    ")\n",
    "codelist = np.array(eventdata.code)\n",
    "survlist = []\n",
    "for i in range(len(codelist)-1):\n",
    "    if (len(str(codelist[i])) == 1) and (len(str(codelist[i+1])) == 1):\n",
    "        if (int(codelist[i+1]) > int(codelist[i])):\n",
    "            survlist.append(True)\n",
    "        else:\n",
    "            survlist.append(False)\n",
    "    else:\n",
    "        survlist.append(False)\n",
    "survlist.append(True)\n",
    "eventdata['survive'] = survlist\n",
    "eventdata = eventdata[eventdata['survive']]\n",
    "del eventdata['survive'], eventdata['code'],survlist, codelist"
   ]
  },
  {
   "cell_type": "code",
   "execution_count": 5,
   "id": "ac6fe986",
   "metadata": {},
   "outputs": [],
   "source": [
    "# user_spec의 application 정보와 loan_result의 is_applied 정보 합치기\n",
    "user_spec = pd.read_csv('user_spec.csv')\n",
    "loan_result = pd.read_csv('loan_result.csv') \n",
    "user_app = pd.merge(\n",
    "    user_spec[['user_id','application_id','insert_time']].drop_duplicates(\n",
    "        subset='application_id'\n",
    "    ),\n",
    "    loan_result[['application_id','is_applied']].dropna(),\n",
    "    on='application_id'\n",
    ").sort_values(\n",
    "    by='is_applied',ascending = False\n",
    ").drop_duplicates(subset = 'application_id')"
   ]
  },
  {
   "cell_type": "code",
   "execution_count": 6,
   "id": "d42d0ca4",
   "metadata": {},
   "outputs": [],
   "source": [
    "# is_applied 정보를 각각 'IsApplied', 'NotApplied' event로 변환\n",
    "user_app['event'] = user_app['is_applied'].map(\n",
    "    {1.0: \"IsApplied\", 0.0: \"NotApplied\"}\n",
    ")"
   ]
  },
  {
   "cell_type": "code",
   "execution_count": 7,
   "id": "cc3ada46",
   "metadata": {},
   "outputs": [],
   "source": [
    "# DataFrame 정리\n",
    "apply_event = user_app[['user_id','event','insert_time']].rename(\n",
    "    columns = {'insert_time':'timestamp'}\n",
    ").reset_index(drop = True)"
   ]
  },
  {
   "cell_type": "code",
   "execution_count": 8,
   "id": "46ce7940",
   "metadata": {},
   "outputs": [],
   "source": [
    "# 다른 event들이 있는 dataframe과 합친다.\n",
    "alllog = pd.concat([eventdata,apply_event],axis = 0)"
   ]
  },
  {
   "cell_type": "code",
   "execution_count": 9,
   "id": "8a611bb4",
   "metadata": {},
   "outputs": [],
   "source": [
    "# alllog.csv로 내보낸다.\n",
    "alllog[['user_id','event','timestamp']].sort_values(\n",
    "    by=['user_id','timestamp'],ascending = True\n",
    ").to_csv('alllog.csv')"
   ]
  }
 ],
 "metadata": {
  "kernelspec": {
   "display_name": "Python 3",
   "language": "python",
   "name": "python3"
  },
  "language_info": {
   "codemirror_mode": {
    "name": "ipython",
    "version": 3
   },
   "file_extension": ".py",
   "mimetype": "text/x-python",
   "name": "python",
   "nbconvert_exporter": "python",
   "pygments_lexer": "ipython3",
   "version": "3.8.8"
  }
 },
 "nbformat": 4,
 "nbformat_minor": 5
}
