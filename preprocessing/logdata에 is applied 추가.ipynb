{
 "cells": [
  {
   "cell_type": "code",
   "execution_count": 1,
   "id": "80ceebdd",
   "metadata": {},
   "outputs": [],
   "source": [
    "# log data에 loan_result의 is_applied를 event로 추가"
   ]
  },
  {
   "cell_type": "code",
   "execution_count": 2,
   "id": "f3e7fae8",
   "metadata": {},
   "outputs": [],
   "source": [
    "# user_spec과 loan_result 가져오기\n",
    "import pandas as pd\n",
    "user_spec = pd.read_csv('user_spec.csv')\n",
    "loan_result = pd.read_csv('loan_result.csv') "
   ]
  },
  {
   "cell_type": "code",
   "execution_count": 6,
   "id": "d7965ad2",
   "metadata": {},
   "outputs": [],
   "source": [
    "# user_spec의 application 정보와 loan_result의 is_applied 정보 합치기\n",
    "user_app = pd.merge(\n",
    "    user_spec[['user_id','application_id','insert_time']].drop_duplicates(\n",
    "        subset='application_id'\n",
    "    ),\n",
    "    loan_result[['application_id','is_applied']].dropna(),\n",
    "    on='application_id'\n",
    ").sort_values(\n",
    "    by='is_applied',ascending = False\n",
    ").drop_duplicates(subset = 'application_id')"
   ]
  },
  {
   "cell_type": "code",
   "execution_count": 7,
   "id": "6048991f",
   "metadata": {},
   "outputs": [],
   "source": [
    "# is_applied 정보를 각각 'IsApplied', 'NotApplied' event로 변환\n",
    "user_app['event'] = user_app['is_applied'].map(\n",
    "    {1.0: \"IsApplied\", 0.0: \"NotApplied\"}\n",
    ")"
   ]
  },
  {
   "cell_type": "code",
   "execution_count": 9,
   "id": "33de60ee",
   "metadata": {},
   "outputs": [],
   "source": [
    "# DataFrame 정리\n",
    "apply_event = user_app[['user_id','event','insert_time']].rename(\n",
    "    columns = {'insert_time':'timestamp'}\n",
    ").reset_index()"
   ]
  },
  {
   "cell_type": "code",
   "execution_count": 10,
   "id": "919c903a",
   "metadata": {},
   "outputs": [
    {
     "data": {
      "text/html": [
       "<div>\n",
       "<style scoped>\n",
       "    .dataframe tbody tr th:only-of-type {\n",
       "        vertical-align: middle;\n",
       "    }\n",
       "\n",
       "    .dataframe tbody tr th {\n",
       "        vertical-align: top;\n",
       "    }\n",
       "\n",
       "    .dataframe thead th {\n",
       "        text-align: right;\n",
       "    }\n",
       "</style>\n",
       "<table border=\"1\" class=\"dataframe\">\n",
       "  <thead>\n",
       "    <tr style=\"text-align: right;\">\n",
       "      <th></th>\n",
       "      <th>index</th>\n",
       "      <th>user_id</th>\n",
       "      <th>event</th>\n",
       "      <th>timestamp</th>\n",
       "    </tr>\n",
       "  </thead>\n",
       "  <tbody>\n",
       "    <tr>\n",
       "      <th>0</th>\n",
       "      <td>10270010</td>\n",
       "      <td>3864</td>\n",
       "      <td>IsApplied</td>\n",
       "      <td>2022-03-22 08:55:14</td>\n",
       "    </tr>\n",
       "    <tr>\n",
       "      <th>1</th>\n",
       "      <td>9749854</td>\n",
       "      <td>859677</td>\n",
       "      <td>IsApplied</td>\n",
       "      <td>2022-05-27 10:09:26</td>\n",
       "    </tr>\n",
       "    <tr>\n",
       "      <th>2</th>\n",
       "      <td>6292014</td>\n",
       "      <td>780015</td>\n",
       "      <td>IsApplied</td>\n",
       "      <td>2022-03-07 10:38:12</td>\n",
       "    </tr>\n",
       "    <tr>\n",
       "      <th>3</th>\n",
       "      <td>6825558</td>\n",
       "      <td>402465</td>\n",
       "      <td>IsApplied</td>\n",
       "      <td>2022-04-15 10:28:51</td>\n",
       "    </tr>\n",
       "    <tr>\n",
       "      <th>4</th>\n",
       "      <td>2347994</td>\n",
       "      <td>778891</td>\n",
       "      <td>IsApplied</td>\n",
       "      <td>2022-03-18 12:18:42</td>\n",
       "    </tr>\n",
       "    <tr>\n",
       "      <th>...</th>\n",
       "      <td>...</td>\n",
       "      <td>...</td>\n",
       "      <td>...</td>\n",
       "      <td>...</td>\n",
       "    </tr>\n",
       "    <tr>\n",
       "      <th>728879</th>\n",
       "      <td>3520028</td>\n",
       "      <td>457469</td>\n",
       "      <td>NotApplied</td>\n",
       "      <td>2022-05-29 01:06:33</td>\n",
       "    </tr>\n",
       "    <tr>\n",
       "      <th>728880</th>\n",
       "      <td>3520220</td>\n",
       "      <td>770735</td>\n",
       "      <td>NotApplied</td>\n",
       "      <td>2022-05-29 19:14:07</td>\n",
       "    </tr>\n",
       "    <tr>\n",
       "      <th>728881</th>\n",
       "      <td>3520203</td>\n",
       "      <td>140196</td>\n",
       "      <td>NotApplied</td>\n",
       "      <td>2022-05-29 21:44:03</td>\n",
       "    </tr>\n",
       "    <tr>\n",
       "      <th>728882</th>\n",
       "      <td>3520142</td>\n",
       "      <td>694421</td>\n",
       "      <td>NotApplied</td>\n",
       "      <td>2022-05-29 02:22:57</td>\n",
       "    </tr>\n",
       "    <tr>\n",
       "      <th>728883</th>\n",
       "      <td>3520130</td>\n",
       "      <td>79821</td>\n",
       "      <td>NotApplied</td>\n",
       "      <td>2022-05-29 12:27:23</td>\n",
       "    </tr>\n",
       "  </tbody>\n",
       "</table>\n",
       "<p>728884 rows × 4 columns</p>\n",
       "</div>"
      ],
      "text/plain": [
       "           index  user_id       event            timestamp\n",
       "0       10270010     3864   IsApplied  2022-03-22 08:55:14\n",
       "1        9749854   859677   IsApplied  2022-05-27 10:09:26\n",
       "2        6292014   780015   IsApplied  2022-03-07 10:38:12\n",
       "3        6825558   402465   IsApplied  2022-04-15 10:28:51\n",
       "4        2347994   778891   IsApplied  2022-03-18 12:18:42\n",
       "...          ...      ...         ...                  ...\n",
       "728879   3520028   457469  NotApplied  2022-05-29 01:06:33\n",
       "728880   3520220   770735  NotApplied  2022-05-29 19:14:07\n",
       "728881   3520203   140196  NotApplied  2022-05-29 21:44:03\n",
       "728882   3520142   694421  NotApplied  2022-05-29 02:22:57\n",
       "728883   3520130    79821  NotApplied  2022-05-29 12:27:23\n",
       "\n",
       "[728884 rows x 4 columns]"
      ]
     },
     "execution_count": 10,
     "metadata": {},
     "output_type": "execute_result"
    }
   ],
   "source": [
    "apply_event"
   ]
  },
  {
   "cell_type": "code",
   "execution_count": 37,
   "id": "c538fe54",
   "metadata": {},
   "outputs": [],
   "source": [
    "# applyevent.csv로 내보내기\n",
    "apply_event.to_csv('applyevent.csv')"
   ]
  }
 ],
 "metadata": {
  "kernelspec": {
   "display_name": "Python 3",
   "language": "python",
   "name": "python3"
  },
  "language_info": {
   "codemirror_mode": {
    "name": "ipython",
    "version": 3
   },
   "file_extension": ".py",
   "mimetype": "text/x-python",
   "name": "python",
   "nbconvert_exporter": "python",
   "pygments_lexer": "ipython3",
   "version": "3.8.8"
  }
 },
 "nbformat": 4,
 "nbformat_minor": 5
}
