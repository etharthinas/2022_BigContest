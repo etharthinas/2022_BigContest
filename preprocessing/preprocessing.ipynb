{
 "cells": [
  {
   "cell_type": "code",
   "execution_count": 1,
   "id": "17b7b4bd",
   "metadata": {},
   "outputs": [],
   "source": [
    "import pandas as pd\n",
    "import numpy as np\n",
    "pd.options.mode.chained_assignment = None\n",
    "pd.set_option('display.max_columns', None)"
   ]
  },
  {
   "cell_type": "code",
   "execution_count": 2,
   "id": "f5646b67",
   "metadata": {},
   "outputs": [],
   "source": [
    "log = pd.read_csv(\"log_data.csv\")\n",
    "loan = pd.read_csv(\"loan_result.csv\")\n",
    "user = pd.read_csv(\"user_spec.csv\")"
   ]
  },
  {
   "cell_type": "code",
   "execution_count": 3,
   "id": "ded3d1ad",
   "metadata": {},
   "outputs": [],
   "source": [
    "joined = loan.join(user.set_index(\"application_id\"), on=\"application_id\")"
   ]
  },
  {
   "cell_type": "code",
   "execution_count": 4,
   "id": "56e9e255",
   "metadata": {},
   "outputs": [],
   "source": [
    "j = joined.dropna(subset = [\"loan_limit\", \"loan_rate\"])"
   ]
  },
  {
   "cell_type": "code",
   "execution_count": 5,
   "id": "947de920",
   "metadata": {},
   "outputs": [],
   "source": [
    "mean_income = j.yearly_income.mean()\n",
    "j.yearly_income = j.yearly_income.fillna(mean_income)"
   ]
  },
  {
   "cell_type": "code",
   "execution_count": 6,
   "id": "e612f73a",
   "metadata": {},
   "outputs": [],
   "source": [
    "median_birth_year = j.birth_year.median()\n",
    "j.birth_year = j.birth_year.fillna(median_birth_year)\n",
    "j.birth_year = pd.to_datetime(j.birth_year, format = \"%Y\")"
   ]
  },
  {
   "cell_type": "code",
   "execution_count": 7,
   "id": "c2e24ad1",
   "metadata": {},
   "outputs": [],
   "source": [
    "j[[\"personal_rehabilitation_yn\", \"personal_rehabilitation_complete_yn\", \n",
    "   \"existing_loan_cnt\", \"existing_loan_amt\"]] = j[[\"personal_rehabilitation_yn\", \n",
    "    \"personal_rehabilitation_complete_yn\", \"existing_loan_cnt\", \"existing_loan_amt\"]].fillna(0)"
   ]
  },
  {
   "cell_type": "code",
   "execution_count": 8,
   "id": "80e4c087",
   "metadata": {},
   "outputs": [],
   "source": [
    "j.company_enter_month = j.company_enter_month.fillna(202206)\n",
    "j.company_enter_month = j.company_enter_month.astype(\"str\").str[:6]\n",
    "x = j.company_enter_month.str[:6]\n",
    "x = pd.to_datetime(x, format = \"%Y%m\")\n",
    "j.company_enter_month = x"
   ]
  },
  {
   "cell_type": "code",
   "execution_count": 9,
   "id": "ff6c0e61",
   "metadata": {},
   "outputs": [],
   "source": [
    "j.loanapply_insert_time = pd.to_datetime(j.loanapply_insert_time)\n",
    "j.user_id = j.user_id.astype(int)"
   ]
  },
  {
   "cell_type": "code",
   "execution_count": 11,
   "id": "ed51844c",
   "metadata": {},
   "outputs": [],
   "source": [
    "p = j[j.gender.isna()]\n",
    "k = j[~j.gender.isna()]\n",
    "total = len(k.user_id.unique())\n",
    "by_user = k.groupby(\"user_id\").max()\n",
    "num_males = by_user.gender.sum()\n",
    "prob = num_males / total"
   ]
  },
  {
   "cell_type": "code",
   "execution_count": 37,
   "id": "18fd84e6",
   "metadata": {},
   "outputs": [],
   "source": [
    "userid = p.user_id.unique()\n",
    "np.random.seed(0)\n",
    "arr = np.random.binomial(1, prob, len(userid))\n",
    "user_gender = dict(zip(userid, arr))\n",
    "a = j.loc[j.user_id.isin(userid)].groupby(j.user_id).max()\n",
    "notnaid = a[~a.gㅎender.isna()].user_id\n",
    "notnagender = a[~a.gender.isna()].gender\n",
    "z = dict(zip(notnaid, notnagender))\n",
    "j.gender = j.gender.fillna(j.user_id.map(z))\n",
    "j.gender = j.gender.fillna(j.user_id.map(user_gender))"
   ]
  },
  {
   "cell_type": "code",
   "execution_count": 40,
   "id": "7f13b1b5",
   "metadata": {},
   "outputs": [],
   "source": [
    "j.to_csv(\"joined.csv\")"
   ]
  }
 ],
 "metadata": {
  "kernelspec": {
   "display_name": "Python 3 (ipykernel)",
   "language": "python",
   "name": "python3"
  },
  "language_info": {
   "codemirror_mode": {
    "name": "ipython",
    "version": 3
   },
   "file_extension": ".py",
   "mimetype": "text/x-python",
   "name": "python",
   "nbconvert_exporter": "python",
   "pygments_lexer": "ipython3",
   "version": "3.10.6"
  }
 },
 "nbformat": 4,
 "nbformat_minor": 5
}
