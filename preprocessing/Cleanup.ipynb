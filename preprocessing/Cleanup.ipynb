{
 "cells": [
  {
   "cell_type": "code",
   "execution_count": 2,
   "id": "5296535f",
   "metadata": {},
   "outputs": [],
   "source": [
    "import pandas as pd\n",
    "import numpy as np\n",
    "import matplotlib.pyplot as plt\n",
    "pd.set_option(\"display.max_columns\", None)\n",
    "import seaborn as sns\n",
    "import plotly.express as px\n",
    "import plotly.graph_objects as go"
   ]
  },
  {
   "cell_type": "code",
   "execution_count": 3,
   "id": "40d9a4db",
   "metadata": {},
   "outputs": [
    {
     "name": "stderr",
     "output_type": "stream",
     "text": [
      "/var/folders/mj/jcmvk9nd451b_mnylnj74qrm0000gn/T/ipykernel_1380/2958704962.py:1: DtypeWarning: Columns (9) have mixed types. Specify dtype option on import or set low_memory=False.\n",
      "  data = pd.read_csv(\"finaljoined.csv\")\n"
     ]
    }
   ],
   "source": [
    "data = pd.read_csv(\"finaljoined.csv\")"
   ]
  },
  {
   "cell_type": "code",
   "execution_count": 4,
   "id": "3b9e7ae5",
   "metadata": {},
   "outputs": [],
   "source": [
    "del data[\"Unnamed: 0\"]"
   ]
  },
  {
   "cell_type": "code",
   "execution_count": 5,
   "id": "b4f6c580",
   "metadata": {},
   "outputs": [],
   "source": [
    "data.loanapply_insert_time = pd.to_datetime(data.loanapply_insert_time)\n",
    "x = data.birth_year.astype(str)\n",
    "x = x.str[:4]\n",
    "data.birth_year = pd.to_datetime(x, format = \"%Y\")\n",
    "data.insert_time = pd.to_datetime(data.insert_time)\n",
    "data.company_enter_month = pd.to_datetime(data.company_enter_month)"
   ]
  },
  {
   "cell_type": "code",
   "execution_count": 7,
   "id": "ed3fa48f",
   "metadata": {},
   "outputs": [],
   "source": [
    "cleaned = data.sort_values(by = \"loanapply_insert_time\")\n",
    "cleaned.to_csv(\"data.csv\")"
   ]
  },
  {
   "cell_type": "code",
   "execution_count": 8,
   "id": "6b5aac68",
   "metadata": {},
   "outputs": [],
   "source": [
    "cleaned = cleaned.dropna()\n",
    "cleaned.to_csv(\"learn.csv\")"
   ]
  }
 ],
 "metadata": {
  "kernelspec": {
   "display_name": "Python 3 (ipykernel)",
   "language": "python",
   "name": "python3"
  },
  "language_info": {
   "codemirror_mode": {
    "name": "ipython",
    "version": 3
   },
   "file_extension": ".py",
   "mimetype": "text/x-python",
   "name": "python",
   "nbconvert_exporter": "python",
   "pygments_lexer": "ipython3",
   "version": "3.10.6"
  }
 },
 "nbformat": 4,
 "nbformat_minor": 5
}
