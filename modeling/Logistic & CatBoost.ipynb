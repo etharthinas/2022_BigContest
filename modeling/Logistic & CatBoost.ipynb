{
 "cells": [
  {
   "cell_type": "code",
   "execution_count": 1,
   "id": "1f0cbe4b",
   "metadata": {},
   "outputs": [],
   "source": [
    "import pandas as pd\n",
    "import numpy as np\n",
    "import matplotlib.pyplot as plt\n",
    "pd.set_option(\"display.max_columns\", None)\n",
    "import plotly.express as px"
   ]
  },
  {
   "cell_type": "code",
   "execution_count": 2,
   "id": "23564db2",
   "metadata": {},
   "outputs": [],
   "source": [
    "data = pd.read_csv(\"learn.csv\")"
   ]
  },
  {
   "cell_type": "code",
   "execution_count": 3,
   "id": "aaf6a301",
   "metadata": {},
   "outputs": [],
   "source": [
    "del data[\"Unnamed: 0\"]"
   ]
  },
  {
   "cell_type": "code",
   "execution_count": 4,
   "id": "7d55688e",
   "metadata": {},
   "outputs": [],
   "source": [
    "data.loanapply_insert_time = pd.to_datetime(data.loanapply_insert_time)\n",
    "data.birth_year = pd.to_datetime(data.birth_year)\n",
    "data.insert_time = pd.to_datetime(data.insert_time)\n",
    "data.company_enter_month = pd.to_datetime(data.company_enter_month)"
   ]
  },
  {
   "cell_type": "code",
   "execution_count": 5,
   "id": "1906003f",
   "metadata": {},
   "outputs": [],
   "source": [
    "x = data.copy()"
   ]
  },
  {
   "cell_type": "code",
   "execution_count": 6,
   "id": "8513f34d",
   "metadata": {},
   "outputs": [],
   "source": [
    "c1 = pd.get_dummies(x.income_type)\n",
    "c2 = pd.get_dummies(x.employment_type)\n",
    "c2.rename(columns = {\"기타\":\"기타_직업\"}, inplace = True)\n",
    "c3 = pd.get_dummies(x.houseown_type)\n",
    "c4 = pd.get_dummies(x.purpose)\n",
    "c4.rename(columns = {\"기타\": \"기타_목적\"}, inplace = True)"
   ]
  },
  {
   "cell_type": "code",
   "execution_count": 7,
   "id": "da35d0c3",
   "metadata": {},
   "outputs": [],
   "source": [
    "c = pd.concat([c1, c2, c3, c4], axis = 1)\n",
    "x.drop([\"income_type\", \"employment_type\", \"houseown_type\", \"purpose\"], inplace = True, axis= 1)\n",
    "x = pd.concat([x, c], axis = 1)"
   ]
  },
  {
   "cell_type": "code",
   "execution_count": 8,
   "id": "78964319",
   "metadata": {},
   "outputs": [],
   "source": [
    "test_data=x[x['insert_time']>='2022-05-16']"
   ]
  },
  {
   "cell_type": "code",
   "execution_count": 9,
   "id": "00675d75",
   "metadata": {},
   "outputs": [],
   "source": [
    "train_data = x[x['insert_time']<'2022-05-16']"
   ]
  },
  {
   "cell_type": "code",
   "execution_count": 10,
   "id": "06b7c400",
   "metadata": {},
   "outputs": [
    {
     "name": "stderr",
     "output_type": "stream",
     "text": [
      "/var/folders/mj/jcmvk9nd451b_mnylnj74qrm0000gn/T/ipykernel_13271/4276231571.py:1: FutureWarning: In a future version of pandas all arguments of DataFrame.reset_index except for the argument 'level' will be keyword-only.\n",
      "  test_data = test_data.groupby('application_id').max().reset_index('inplace' == True, 'drop' == True)\n"
     ]
    }
   ],
   "source": [
    "test_data = test_data.groupby('application_id').max().reset_index('inplace' == True, 'drop' == True)"
   ]
  },
  {
   "cell_type": "code",
   "execution_count": 11,
   "id": "948c5e37",
   "metadata": {},
   "outputs": [],
   "source": [
    "test_label = test_data[\"is_applied\"]\n",
    "del test_data[\"is_applied\"]"
   ]
  },
  {
   "cell_type": "code",
   "execution_count": 12,
   "id": "f87e40ce",
   "metadata": {},
   "outputs": [
    {
     "name": "stderr",
     "output_type": "stream",
     "text": [
      "/var/folders/mj/jcmvk9nd451b_mnylnj74qrm0000gn/T/ipykernel_13271/1691262433.py:1: FutureWarning: In a future version of pandas all arguments of DataFrame.reset_index except for the argument 'level' will be keyword-only.\n",
      "  train_data = train_data.groupby('application_id').max().reset_index('inplace' == True, 'drop' == True)\n"
     ]
    }
   ],
   "source": [
    "train_data = train_data.groupby('application_id').max().reset_index('inplace' == True, 'drop' == True)"
   ]
  },
  {
   "cell_type": "code",
   "execution_count": 13,
   "id": "0fb29b1e",
   "metadata": {},
   "outputs": [],
   "source": [
    "train_label = train_data[\"is_applied\"]\n",
    "del train_data[\"is_applied\"]"
   ]
  },
  {
   "cell_type": "code",
   "execution_count": 14,
   "id": "a8469c7c",
   "metadata": {},
   "outputs": [],
   "source": [
    "from catboost import CatBoostClassifier"
   ]
  },
  {
   "cell_type": "code",
   "execution_count": 15,
   "id": "c7ceb1d4",
   "metadata": {},
   "outputs": [],
   "source": [
    "model = CatBoostClassifier(iterations=2,\n",
    "                           depth=5,\n",
    "                           learning_rate=1,\n",
    "                           loss_function='Logloss',\n",
    "                           verbose=True)"
   ]
  },
  {
   "cell_type": "code",
   "execution_count": 16,
   "id": "3127b97f",
   "metadata": {},
   "outputs": [
    {
     "name": "stdout",
     "output_type": "stream",
     "text": [
      "0:\tlearn: 0.6630300\ttotal: 100ms\tremaining: 100ms\n",
      "1:\tlearn: 0.6579416\ttotal: 139ms\tremaining: 0us\n"
     ]
    },
    {
     "data": {
      "text/plain": [
       "<catboost.core.CatBoostClassifier at 0x2ac30b2e0>"
      ]
     },
     "execution_count": 16,
     "metadata": {},
     "output_type": "execute_result"
    }
   ],
   "source": [
    "model.fit(train_data,train_label)"
   ]
  },
  {
   "cell_type": "code",
   "execution_count": 17,
   "id": "8aefd18c",
   "metadata": {},
   "outputs": [],
   "source": [
    "from sklearn.metrics import f1_score"
   ]
  },
  {
   "cell_type": "code",
   "execution_count": 18,
   "id": "1a5baf1d",
   "metadata": {},
   "outputs": [],
   "source": [
    "p = model.predict(test_data)"
   ]
  },
  {
   "cell_type": "code",
   "execution_count": 19,
   "id": "2b1d1158",
   "metadata": {},
   "outputs": [
    {
     "data": {
      "text/plain": [
       "0.6609089731969441"
      ]
     },
     "execution_count": 19,
     "metadata": {},
     "output_type": "execute_result"
    }
   ],
   "source": [
    "f1_score(test_label, p)"
   ]
  },
  {
   "cell_type": "code",
   "execution_count": 20,
   "id": "efeb8882",
   "metadata": {},
   "outputs": [],
   "source": [
    "app_yes_index = test_data.application_id[p==1]"
   ]
  },
  {
   "cell_type": "code",
   "execution_count": 21,
   "id": "8cb6e299",
   "metadata": {},
   "outputs": [],
   "source": [
    "from sklearn.linear_model import LogisticRegression"
   ]
  },
  {
   "cell_type": "code",
   "execution_count": 22,
   "id": "7d334eb3",
   "metadata": {},
   "outputs": [],
   "source": [
    "lr = LogisticRegression(class_weight = 'balanced')"
   ]
  },
  {
   "cell_type": "code",
   "execution_count": 23,
   "id": "3c2b17fd",
   "metadata": {},
   "outputs": [],
   "source": [
    "y = data.copy()"
   ]
  },
  {
   "cell_type": "code",
   "execution_count": 24,
   "id": "a34bac89",
   "metadata": {},
   "outputs": [],
   "source": [
    "test_d = y[y[\"insert_time\"] >= '2022-05-16']"
   ]
  },
  {
   "cell_type": "code",
   "execution_count": 25,
   "id": "d1d17fe4",
   "metadata": {},
   "outputs": [],
   "source": [
    "train_d = y[y['insert_time']<'2022-05-16']"
   ]
  },
  {
   "cell_type": "code",
   "execution_count": 26,
   "id": "3069d9db",
   "metadata": {},
   "outputs": [],
   "source": [
    "test_l = test_d['is_applied']\n",
    "train_l = train_d['is_applied']"
   ]
  },
  {
   "cell_type": "code",
   "execution_count": 27,
   "id": "b32b1d37",
   "metadata": {},
   "outputs": [],
   "source": [
    "test_d = test_d[['loan_rate', 'loan_limit']]\n",
    "train_d = train_d[['loan_rate', 'loan_limit']]"
   ]
  },
  {
   "cell_type": "code",
   "execution_count": 28,
   "id": "3a14f502",
   "metadata": {},
   "outputs": [],
   "source": [
    "test_d['loan_limit'] = np.log10(1+test_d['loan_limit'])\n",
    "train_d['loan_limit'] = np.log10(1+train_d['loan_limit'])"
   ]
  },
  {
   "cell_type": "code",
   "execution_count": 29,
   "id": "a32eafa8",
   "metadata": {},
   "outputs": [
    {
     "data": {
      "text/html": [
       "<style>#sk-container-id-1 {color: black;background-color: white;}#sk-container-id-1 pre{padding: 0;}#sk-container-id-1 div.sk-toggleable {background-color: white;}#sk-container-id-1 label.sk-toggleable__label {cursor: pointer;display: block;width: 100%;margin-bottom: 0;padding: 0.3em;box-sizing: border-box;text-align: center;}#sk-container-id-1 label.sk-toggleable__label-arrow:before {content: \"▸\";float: left;margin-right: 0.25em;color: #696969;}#sk-container-id-1 label.sk-toggleable__label-arrow:hover:before {color: black;}#sk-container-id-1 div.sk-estimator:hover label.sk-toggleable__label-arrow:before {color: black;}#sk-container-id-1 div.sk-toggleable__content {max-height: 0;max-width: 0;overflow: hidden;text-align: left;background-color: #f0f8ff;}#sk-container-id-1 div.sk-toggleable__content pre {margin: 0.2em;color: black;border-radius: 0.25em;background-color: #f0f8ff;}#sk-container-id-1 input.sk-toggleable__control:checked~div.sk-toggleable__content {max-height: 200px;max-width: 100%;overflow: auto;}#sk-container-id-1 input.sk-toggleable__control:checked~label.sk-toggleable__label-arrow:before {content: \"▾\";}#sk-container-id-1 div.sk-estimator input.sk-toggleable__control:checked~label.sk-toggleable__label {background-color: #d4ebff;}#sk-container-id-1 div.sk-label input.sk-toggleable__control:checked~label.sk-toggleable__label {background-color: #d4ebff;}#sk-container-id-1 input.sk-hidden--visually {border: 0;clip: rect(1px 1px 1px 1px);clip: rect(1px, 1px, 1px, 1px);height: 1px;margin: -1px;overflow: hidden;padding: 0;position: absolute;width: 1px;}#sk-container-id-1 div.sk-estimator {font-family: monospace;background-color: #f0f8ff;border: 1px dotted black;border-radius: 0.25em;box-sizing: border-box;margin-bottom: 0.5em;}#sk-container-id-1 div.sk-estimator:hover {background-color: #d4ebff;}#sk-container-id-1 div.sk-parallel-item::after {content: \"\";width: 100%;border-bottom: 1px solid gray;flex-grow: 1;}#sk-container-id-1 div.sk-label:hover label.sk-toggleable__label {background-color: #d4ebff;}#sk-container-id-1 div.sk-serial::before {content: \"\";position: absolute;border-left: 1px solid gray;box-sizing: border-box;top: 0;bottom: 0;left: 50%;z-index: 0;}#sk-container-id-1 div.sk-serial {display: flex;flex-direction: column;align-items: center;background-color: white;padding-right: 0.2em;padding-left: 0.2em;position: relative;}#sk-container-id-1 div.sk-item {position: relative;z-index: 1;}#sk-container-id-1 div.sk-parallel {display: flex;align-items: stretch;justify-content: center;background-color: white;position: relative;}#sk-container-id-1 div.sk-item::before, #sk-container-id-1 div.sk-parallel-item::before {content: \"\";position: absolute;border-left: 1px solid gray;box-sizing: border-box;top: 0;bottom: 0;left: 50%;z-index: -1;}#sk-container-id-1 div.sk-parallel-item {display: flex;flex-direction: column;z-index: 1;position: relative;background-color: white;}#sk-container-id-1 div.sk-parallel-item:first-child::after {align-self: flex-end;width: 50%;}#sk-container-id-1 div.sk-parallel-item:last-child::after {align-self: flex-start;width: 50%;}#sk-container-id-1 div.sk-parallel-item:only-child::after {width: 0;}#sk-container-id-1 div.sk-dashed-wrapped {border: 1px dashed gray;margin: 0 0.4em 0.5em 0.4em;box-sizing: border-box;padding-bottom: 0.4em;background-color: white;}#sk-container-id-1 div.sk-label label {font-family: monospace;font-weight: bold;display: inline-block;line-height: 1.2em;}#sk-container-id-1 div.sk-label-container {text-align: center;}#sk-container-id-1 div.sk-container {/* jupyter's `normalize.less` sets `[hidden] { display: none; }` but bootstrap.min.css set `[hidden] { display: none !important; }` so we also need the `!important` here to be able to override the default hidden behavior on the sphinx rendered scikit-learn.org. See: https://github.com/scikit-learn/scikit-learn/issues/21755 */display: inline-block !important;position: relative;}#sk-container-id-1 div.sk-text-repr-fallback {display: none;}</style><div id=\"sk-container-id-1\" class=\"sk-top-container\"><div class=\"sk-text-repr-fallback\"><pre>LogisticRegression(class_weight=&#x27;balanced&#x27;)</pre><b>In a Jupyter environment, please rerun this cell to show the HTML representation or trust the notebook. <br />On GitHub, the HTML representation is unable to render, please try loading this page with nbviewer.org.</b></div><div class=\"sk-container\" hidden><div class=\"sk-item\"><div class=\"sk-estimator sk-toggleable\"><input class=\"sk-toggleable__control sk-hidden--visually\" id=\"sk-estimator-id-1\" type=\"checkbox\" checked><label for=\"sk-estimator-id-1\" class=\"sk-toggleable__label sk-toggleable__label-arrow\">LogisticRegression</label><div class=\"sk-toggleable__content\"><pre>LogisticRegression(class_weight=&#x27;balanced&#x27;)</pre></div></div></div></div></div>"
      ],
      "text/plain": [
       "LogisticRegression(class_weight='balanced')"
      ]
     },
     "execution_count": 29,
     "metadata": {},
     "output_type": "execute_result"
    }
   ],
   "source": [
    "lr.fit(train_d, train_l)"
   ]
  },
  {
   "cell_type": "code",
   "execution_count": 30,
   "id": "fbd60275",
   "metadata": {},
   "outputs": [],
   "source": [
    "p2 = lr.predict(test_d)"
   ]
  },
  {
   "cell_type": "code",
   "execution_count": 31,
   "id": "56f7437e",
   "metadata": {},
   "outputs": [
    {
     "data": {
      "text/plain": [
       "0.1335115694758134"
      ]
     },
     "execution_count": 31,
     "metadata": {},
     "output_type": "execute_result"
    }
   ],
   "source": [
    "f1_score(test_l, p2)"
   ]
  },
  {
   "cell_type": "code",
   "execution_count": 32,
   "id": "63b307fb",
   "metadata": {},
   "outputs": [],
   "source": [
    "z = data.copy()"
   ]
  },
  {
   "cell_type": "code",
   "execution_count": 33,
   "id": "153eb45c",
   "metadata": {},
   "outputs": [],
   "source": [
    "z[\"predict\"] = 0"
   ]
  },
  {
   "cell_type": "code",
   "execution_count": 43,
   "id": "e45ab990",
   "metadata": {},
   "outputs": [],
   "source": [
    "z = z.loc[z.insert_time > \"2022-05-16\"]"
   ]
  },
  {
   "cell_type": "code",
   "execution_count": 44,
   "id": "7d628ea5",
   "metadata": {},
   "outputs": [],
   "source": [
    "yes = z.loc[z.application_id.isin(app_yes_index)]"
   ]
  },
  {
   "cell_type": "code",
   "execution_count": 45,
   "id": "b6f9a7fb",
   "metadata": {},
   "outputs": [
    {
     "name": "stderr",
     "output_type": "stream",
     "text": [
      "/var/folders/mj/jcmvk9nd451b_mnylnj74qrm0000gn/T/ipykernel_13271/3098435085.py:1: SettingWithCopyWarning: \n",
      "A value is trying to be set on a copy of a slice from a DataFrame.\n",
      "Try using .loc[row_indexer,col_indexer] = value instead\n",
      "\n",
      "See the caveats in the documentation: https://pandas.pydata.org/pandas-docs/stable/user_guide/indexing.html#returning-a-view-versus-a-copy\n",
      "  yes[\"score\"] = 0\n"
     ]
    }
   ],
   "source": [
    "yes[\"score\"] = 0"
   ]
  },
  {
   "cell_type": "code",
   "execution_count": 46,
   "id": "8457b966",
   "metadata": {},
   "outputs": [],
   "source": [
    "log_lr = np.log10(1+yes.loan_limit)"
   ]
  },
  {
   "cell_type": "code",
   "execution_count": 47,
   "id": "0d1df7c2",
   "metadata": {},
   "outputs": [],
   "source": [
    "xxx = pd.concat([yes.loan_rate, log_lr], axis = 1)"
   ]
  },
  {
   "cell_type": "code",
   "execution_count": 48,
   "id": "c5567b3c",
   "metadata": {},
   "outputs": [
    {
     "name": "stderr",
     "output_type": "stream",
     "text": [
      "/var/folders/mj/jcmvk9nd451b_mnylnj74qrm0000gn/T/ipykernel_13271/729384516.py:1: SettingWithCopyWarning: \n",
      "A value is trying to be set on a copy of a slice from a DataFrame.\n",
      "Try using .loc[row_indexer,col_indexer] = value instead\n",
      "\n",
      "See the caveats in the documentation: https://pandas.pydata.org/pandas-docs/stable/user_guide/indexing.html#returning-a-view-versus-a-copy\n",
      "  yes[\"score\"] = lr.predict_proba(xxx)\n"
     ]
    }
   ],
   "source": [
    "yes[\"score\"] = lr.predict_proba(xxx)"
   ]
  },
  {
   "cell_type": "code",
   "execution_count": 49,
   "id": "5f4d1623",
   "metadata": {},
   "outputs": [],
   "source": [
    "yesyes = yes.copy()"
   ]
  },
  {
   "cell_type": "code",
   "execution_count": 50,
   "id": "26d83071",
   "metadata": {},
   "outputs": [],
   "source": [
    "k = yesyes.sort_values(by = 'score').drop_duplicates(\"application_id\", keep = \"last\").index"
   ]
  },
  {
   "cell_type": "code",
   "execution_count": 52,
   "id": "be21ef45",
   "metadata": {},
   "outputs": [
    {
     "data": {
      "text/plain": [
       "81926"
      ]
     },
     "execution_count": 52,
     "metadata": {},
     "output_type": "execute_result"
    }
   ],
   "source": [
    "len(k)"
   ]
  },
  {
   "cell_type": "code",
   "execution_count": 58,
   "id": "5d98adb3",
   "metadata": {},
   "outputs": [],
   "source": [
    "z.loc[k, \"predict\"] = 1"
   ]
  },
  {
   "cell_type": "code",
   "execution_count": 62,
   "id": "bafd8dee",
   "metadata": {},
   "outputs": [],
   "source": [
    "z[\"predict2\"] = 0"
   ]
  },
  {
   "cell_type": "code",
   "execution_count": 63,
   "id": "60fbd708",
   "metadata": {},
   "outputs": [],
   "source": [
    "kk = yesyes.sort_values(by = \"loan_rate\").drop_duplicates(\"application_id\", keep = \"last\").index"
   ]
  },
  {
   "cell_type": "code",
   "execution_count": 64,
   "id": "512749b5",
   "metadata": {},
   "outputs": [],
   "source": [
    "z.loc[kk, \"predict2\"] = 1"
   ]
  },
  {
   "cell_type": "code",
   "execution_count": 65,
   "id": "79accd20",
   "metadata": {
    "scrolled": true
   },
   "outputs": [
    {
     "data": {
      "text/html": [
       "<div>\n",
       "<style scoped>\n",
       "    .dataframe tbody tr th:only-of-type {\n",
       "        vertical-align: middle;\n",
       "    }\n",
       "\n",
       "    .dataframe tbody tr th {\n",
       "        vertical-align: top;\n",
       "    }\n",
       "\n",
       "    .dataframe thead th {\n",
       "        text-align: right;\n",
       "    }\n",
       "</style>\n",
       "<table border=\"1\" class=\"dataframe\">\n",
       "  <thead>\n",
       "    <tr style=\"text-align: right;\">\n",
       "      <th></th>\n",
       "      <th>application_id</th>\n",
       "      <th>loanapply_insert_time</th>\n",
       "      <th>bank_id</th>\n",
       "      <th>product_id</th>\n",
       "      <th>loan_limit</th>\n",
       "      <th>loan_rate</th>\n",
       "      <th>is_applied</th>\n",
       "      <th>user_id</th>\n",
       "      <th>birth_year</th>\n",
       "      <th>gender</th>\n",
       "      <th>insert_time</th>\n",
       "      <th>credit_score</th>\n",
       "      <th>yearly_income</th>\n",
       "      <th>income_type</th>\n",
       "      <th>company_enter_month</th>\n",
       "      <th>employment_type</th>\n",
       "      <th>houseown_type</th>\n",
       "      <th>desired_amount</th>\n",
       "      <th>purpose</th>\n",
       "      <th>personal_rehabilitation_yn</th>\n",
       "      <th>personal_rehabilitation_complete_yn</th>\n",
       "      <th>existing_loan_cnt</th>\n",
       "      <th>existing_loan_amt</th>\n",
       "      <th>predict</th>\n",
       "      <th>predict2</th>\n",
       "    </tr>\n",
       "  </thead>\n",
       "  <tbody>\n",
       "    <tr>\n",
       "      <th>8395658</th>\n",
       "      <td>2136969</td>\n",
       "      <td>2022-05-16 00:11:51</td>\n",
       "      <td>13</td>\n",
       "      <td>123</td>\n",
       "      <td>13000000.0</td>\n",
       "      <td>17.5</td>\n",
       "      <td>0.0</td>\n",
       "      <td>355550</td>\n",
       "      <td>1994-01-01</td>\n",
       "      <td>1.0</td>\n",
       "      <td>2022-05-16 00:11:50</td>\n",
       "      <td>650.0</td>\n",
       "      <td>24000000.0</td>\n",
       "      <td>OTHERINCOME</td>\n",
       "      <td>2022-06-01</td>\n",
       "      <td>기타</td>\n",
       "      <td>기타가족소유</td>\n",
       "      <td>2000000.0</td>\n",
       "      <td>생활비</td>\n",
       "      <td>0.0</td>\n",
       "      <td>0.0</td>\n",
       "      <td>6.0</td>\n",
       "      <td>10000000.0</td>\n",
       "      <td>1</td>\n",
       "      <td>1</td>\n",
       "    </tr>\n",
       "    <tr>\n",
       "      <th>8395659</th>\n",
       "      <td>2136969</td>\n",
       "      <td>2022-05-16 00:11:51</td>\n",
       "      <td>35</td>\n",
       "      <td>29</td>\n",
       "      <td>5000000.0</td>\n",
       "      <td>14.5</td>\n",
       "      <td>0.0</td>\n",
       "      <td>355550</td>\n",
       "      <td>1994-01-01</td>\n",
       "      <td>1.0</td>\n",
       "      <td>2022-05-16 00:11:50</td>\n",
       "      <td>650.0</td>\n",
       "      <td>24000000.0</td>\n",
       "      <td>OTHERINCOME</td>\n",
       "      <td>2022-06-01</td>\n",
       "      <td>기타</td>\n",
       "      <td>기타가족소유</td>\n",
       "      <td>2000000.0</td>\n",
       "      <td>생활비</td>\n",
       "      <td>0.0</td>\n",
       "      <td>0.0</td>\n",
       "      <td>6.0</td>\n",
       "      <td>10000000.0</td>\n",
       "      <td>0</td>\n",
       "      <td>0</td>\n",
       "    </tr>\n",
       "    <tr>\n",
       "      <th>8395660</th>\n",
       "      <td>2136969</td>\n",
       "      <td>2022-05-16 00:11:52</td>\n",
       "      <td>21</td>\n",
       "      <td>196</td>\n",
       "      <td>3000000.0</td>\n",
       "      <td>12.5</td>\n",
       "      <td>1.0</td>\n",
       "      <td>355550</td>\n",
       "      <td>1994-01-01</td>\n",
       "      <td>1.0</td>\n",
       "      <td>2022-05-16 00:11:50</td>\n",
       "      <td>650.0</td>\n",
       "      <td>24000000.0</td>\n",
       "      <td>OTHERINCOME</td>\n",
       "      <td>2022-06-01</td>\n",
       "      <td>기타</td>\n",
       "      <td>기타가족소유</td>\n",
       "      <td>2000000.0</td>\n",
       "      <td>생활비</td>\n",
       "      <td>0.0</td>\n",
       "      <td>0.0</td>\n",
       "      <td>6.0</td>\n",
       "      <td>10000000.0</td>\n",
       "      <td>0</td>\n",
       "      <td>0</td>\n",
       "    </tr>\n",
       "    <tr>\n",
       "      <th>8395661</th>\n",
       "      <td>824356</td>\n",
       "      <td>2022-05-16 00:11:53</td>\n",
       "      <td>22</td>\n",
       "      <td>221</td>\n",
       "      <td>10000000.0</td>\n",
       "      <td>17.5</td>\n",
       "      <td>1.0</td>\n",
       "      <td>102740</td>\n",
       "      <td>1982-01-01</td>\n",
       "      <td>1.0</td>\n",
       "      <td>2022-05-16 00:11:51</td>\n",
       "      <td>630.0</td>\n",
       "      <td>35000000.0</td>\n",
       "      <td>EARNEDINCOME</td>\n",
       "      <td>2020-10-01</td>\n",
       "      <td>정규직</td>\n",
       "      <td>기타가족소유</td>\n",
       "      <td>5000000.0</td>\n",
       "      <td>생활비</td>\n",
       "      <td>0.0</td>\n",
       "      <td>0.0</td>\n",
       "      <td>6.0</td>\n",
       "      <td>92000000.0</td>\n",
       "      <td>1</td>\n",
       "      <td>1</td>\n",
       "    </tr>\n",
       "    <tr>\n",
       "      <th>8395662</th>\n",
       "      <td>993637</td>\n",
       "      <td>2022-05-16 00:12:15</td>\n",
       "      <td>35</td>\n",
       "      <td>29</td>\n",
       "      <td>5000000.0</td>\n",
       "      <td>16.3</td>\n",
       "      <td>1.0</td>\n",
       "      <td>707400</td>\n",
       "      <td>1982-01-01</td>\n",
       "      <td>1.0</td>\n",
       "      <td>2022-05-16 00:12:14</td>\n",
       "      <td>700.0</td>\n",
       "      <td>2000000.0</td>\n",
       "      <td>OTHERINCOME</td>\n",
       "      <td>2022-06-01</td>\n",
       "      <td>기타</td>\n",
       "      <td>기타가족소유</td>\n",
       "      <td>1000000.0</td>\n",
       "      <td>생활비</td>\n",
       "      <td>0.0</td>\n",
       "      <td>0.0</td>\n",
       "      <td>2.0</td>\n",
       "      <td>1000000.0</td>\n",
       "      <td>0</td>\n",
       "      <td>0</td>\n",
       "    </tr>\n",
       "    <tr>\n",
       "      <th>...</th>\n",
       "      <td>...</td>\n",
       "      <td>...</td>\n",
       "      <td>...</td>\n",
       "      <td>...</td>\n",
       "      <td>...</td>\n",
       "      <td>...</td>\n",
       "      <td>...</td>\n",
       "      <td>...</td>\n",
       "      <td>...</td>\n",
       "      <td>...</td>\n",
       "      <td>...</td>\n",
       "      <td>...</td>\n",
       "      <td>...</td>\n",
       "      <td>...</td>\n",
       "      <td>...</td>\n",
       "      <td>...</td>\n",
       "      <td>...</td>\n",
       "      <td>...</td>\n",
       "      <td>...</td>\n",
       "      <td>...</td>\n",
       "      <td>...</td>\n",
       "      <td>...</td>\n",
       "      <td>...</td>\n",
       "      <td>...</td>\n",
       "      <td>...</td>\n",
       "    </tr>\n",
       "    <tr>\n",
       "      <th>10264381</th>\n",
       "      <td>455157</td>\n",
       "      <td>2022-05-31 23:54:28</td>\n",
       "      <td>42</td>\n",
       "      <td>258</td>\n",
       "      <td>3000000.0</td>\n",
       "      <td>18.0</td>\n",
       "      <td>0.0</td>\n",
       "      <td>717233</td>\n",
       "      <td>1973-01-01</td>\n",
       "      <td>1.0</td>\n",
       "      <td>2022-05-31 23:54:27</td>\n",
       "      <td>610.0</td>\n",
       "      <td>106000000.0</td>\n",
       "      <td>EARNEDINCOME</td>\n",
       "      <td>1997-04-01</td>\n",
       "      <td>정규직</td>\n",
       "      <td>자가</td>\n",
       "      <td>50000000.0</td>\n",
       "      <td>대환대출</td>\n",
       "      <td>0.0</td>\n",
       "      <td>0.0</td>\n",
       "      <td>12.0</td>\n",
       "      <td>293000000.0</td>\n",
       "      <td>0</td>\n",
       "      <td>0</td>\n",
       "    </tr>\n",
       "    <tr>\n",
       "      <th>10264382</th>\n",
       "      <td>455157</td>\n",
       "      <td>2022-05-31 23:54:28</td>\n",
       "      <td>46</td>\n",
       "      <td>227</td>\n",
       "      <td>3000000.0</td>\n",
       "      <td>17.5</td>\n",
       "      <td>0.0</td>\n",
       "      <td>717233</td>\n",
       "      <td>1973-01-01</td>\n",
       "      <td>1.0</td>\n",
       "      <td>2022-05-31 23:54:27</td>\n",
       "      <td>610.0</td>\n",
       "      <td>106000000.0</td>\n",
       "      <td>EARNEDINCOME</td>\n",
       "      <td>1997-04-01</td>\n",
       "      <td>정규직</td>\n",
       "      <td>자가</td>\n",
       "      <td>50000000.0</td>\n",
       "      <td>대환대출</td>\n",
       "      <td>0.0</td>\n",
       "      <td>0.0</td>\n",
       "      <td>12.0</td>\n",
       "      <td>293000000.0</td>\n",
       "      <td>0</td>\n",
       "      <td>0</td>\n",
       "    </tr>\n",
       "    <tr>\n",
       "      <th>10264383</th>\n",
       "      <td>455157</td>\n",
       "      <td>2022-05-31 23:54:29</td>\n",
       "      <td>22</td>\n",
       "      <td>221</td>\n",
       "      <td>5000000.0</td>\n",
       "      <td>18.4</td>\n",
       "      <td>0.0</td>\n",
       "      <td>717233</td>\n",
       "      <td>1973-01-01</td>\n",
       "      <td>1.0</td>\n",
       "      <td>2022-05-31 23:54:27</td>\n",
       "      <td>610.0</td>\n",
       "      <td>106000000.0</td>\n",
       "      <td>EARNEDINCOME</td>\n",
       "      <td>1997-04-01</td>\n",
       "      <td>정규직</td>\n",
       "      <td>자가</td>\n",
       "      <td>50000000.0</td>\n",
       "      <td>대환대출</td>\n",
       "      <td>0.0</td>\n",
       "      <td>0.0</td>\n",
       "      <td>12.0</td>\n",
       "      <td>293000000.0</td>\n",
       "      <td>0</td>\n",
       "      <td>0</td>\n",
       "    </tr>\n",
       "    <tr>\n",
       "      <th>10264384</th>\n",
       "      <td>455157</td>\n",
       "      <td>2022-05-31 23:54:37</td>\n",
       "      <td>38</td>\n",
       "      <td>16</td>\n",
       "      <td>3000000.0</td>\n",
       "      <td>14.5</td>\n",
       "      <td>0.0</td>\n",
       "      <td>717233</td>\n",
       "      <td>1973-01-01</td>\n",
       "      <td>1.0</td>\n",
       "      <td>2022-05-31 23:54:27</td>\n",
       "      <td>610.0</td>\n",
       "      <td>106000000.0</td>\n",
       "      <td>EARNEDINCOME</td>\n",
       "      <td>1997-04-01</td>\n",
       "      <td>정규직</td>\n",
       "      <td>자가</td>\n",
       "      <td>50000000.0</td>\n",
       "      <td>대환대출</td>\n",
       "      <td>0.0</td>\n",
       "      <td>0.0</td>\n",
       "      <td>12.0</td>\n",
       "      <td>293000000.0</td>\n",
       "      <td>0</td>\n",
       "      <td>0</td>\n",
       "    </tr>\n",
       "    <tr>\n",
       "      <th>10264385</th>\n",
       "      <td>831190</td>\n",
       "      <td>2022-05-31 23:54:38</td>\n",
       "      <td>52</td>\n",
       "      <td>187</td>\n",
       "      <td>2000000.0</td>\n",
       "      <td>9.5</td>\n",
       "      <td>0.0</td>\n",
       "      <td>472597</td>\n",
       "      <td>1992-01-01</td>\n",
       "      <td>0.0</td>\n",
       "      <td>2022-05-31 23:54:24</td>\n",
       "      <td>760.0</td>\n",
       "      <td>6000000.0</td>\n",
       "      <td>PRIVATEBUSINESS</td>\n",
       "      <td>2019-05-01</td>\n",
       "      <td>기타</td>\n",
       "      <td>전월세</td>\n",
       "      <td>40000000.0</td>\n",
       "      <td>대환대출</td>\n",
       "      <td>0.0</td>\n",
       "      <td>0.0</td>\n",
       "      <td>2.0</td>\n",
       "      <td>5000000.0</td>\n",
       "      <td>0</td>\n",
       "      <td>0</td>\n",
       "    </tr>\n",
       "  </tbody>\n",
       "</table>\n",
       "<p>1868728 rows × 25 columns</p>\n",
       "</div>"
      ],
      "text/plain": [
       "          application_id loanapply_insert_time  bank_id  product_id  \\\n",
       "8395658          2136969   2022-05-16 00:11:51       13         123   \n",
       "8395659          2136969   2022-05-16 00:11:51       35          29   \n",
       "8395660          2136969   2022-05-16 00:11:52       21         196   \n",
       "8395661           824356   2022-05-16 00:11:53       22         221   \n",
       "8395662           993637   2022-05-16 00:12:15       35          29   \n",
       "...                  ...                   ...      ...         ...   \n",
       "10264381          455157   2022-05-31 23:54:28       42         258   \n",
       "10264382          455157   2022-05-31 23:54:28       46         227   \n",
       "10264383          455157   2022-05-31 23:54:29       22         221   \n",
       "10264384          455157   2022-05-31 23:54:37       38          16   \n",
       "10264385          831190   2022-05-31 23:54:38       52         187   \n",
       "\n",
       "          loan_limit  loan_rate  is_applied  user_id birth_year  gender  \\\n",
       "8395658   13000000.0       17.5         0.0   355550 1994-01-01     1.0   \n",
       "8395659    5000000.0       14.5         0.0   355550 1994-01-01     1.0   \n",
       "8395660    3000000.0       12.5         1.0   355550 1994-01-01     1.0   \n",
       "8395661   10000000.0       17.5         1.0   102740 1982-01-01     1.0   \n",
       "8395662    5000000.0       16.3         1.0   707400 1982-01-01     1.0   \n",
       "...              ...        ...         ...      ...        ...     ...   \n",
       "10264381   3000000.0       18.0         0.0   717233 1973-01-01     1.0   \n",
       "10264382   3000000.0       17.5         0.0   717233 1973-01-01     1.0   \n",
       "10264383   5000000.0       18.4         0.0   717233 1973-01-01     1.0   \n",
       "10264384   3000000.0       14.5         0.0   717233 1973-01-01     1.0   \n",
       "10264385   2000000.0        9.5         0.0   472597 1992-01-01     0.0   \n",
       "\n",
       "                 insert_time  credit_score  yearly_income      income_type  \\\n",
       "8395658  2022-05-16 00:11:50         650.0     24000000.0      OTHERINCOME   \n",
       "8395659  2022-05-16 00:11:50         650.0     24000000.0      OTHERINCOME   \n",
       "8395660  2022-05-16 00:11:50         650.0     24000000.0      OTHERINCOME   \n",
       "8395661  2022-05-16 00:11:51         630.0     35000000.0     EARNEDINCOME   \n",
       "8395662  2022-05-16 00:12:14         700.0      2000000.0      OTHERINCOME   \n",
       "...                      ...           ...            ...              ...   \n",
       "10264381 2022-05-31 23:54:27         610.0    106000000.0     EARNEDINCOME   \n",
       "10264382 2022-05-31 23:54:27         610.0    106000000.0     EARNEDINCOME   \n",
       "10264383 2022-05-31 23:54:27         610.0    106000000.0     EARNEDINCOME   \n",
       "10264384 2022-05-31 23:54:27         610.0    106000000.0     EARNEDINCOME   \n",
       "10264385 2022-05-31 23:54:24         760.0      6000000.0  PRIVATEBUSINESS   \n",
       "\n",
       "         company_enter_month employment_type houseown_type  desired_amount  \\\n",
       "8395658           2022-06-01              기타        기타가족소유       2000000.0   \n",
       "8395659           2022-06-01              기타        기타가족소유       2000000.0   \n",
       "8395660           2022-06-01              기타        기타가족소유       2000000.0   \n",
       "8395661           2020-10-01             정규직        기타가족소유       5000000.0   \n",
       "8395662           2022-06-01              기타        기타가족소유       1000000.0   \n",
       "...                      ...             ...           ...             ...   \n",
       "10264381          1997-04-01             정규직            자가      50000000.0   \n",
       "10264382          1997-04-01             정규직            자가      50000000.0   \n",
       "10264383          1997-04-01             정규직            자가      50000000.0   \n",
       "10264384          1997-04-01             정규직            자가      50000000.0   \n",
       "10264385          2019-05-01              기타           전월세      40000000.0   \n",
       "\n",
       "         purpose  personal_rehabilitation_yn  \\\n",
       "8395658      생활비                         0.0   \n",
       "8395659      생활비                         0.0   \n",
       "8395660      생활비                         0.0   \n",
       "8395661      생활비                         0.0   \n",
       "8395662      생활비                         0.0   \n",
       "...          ...                         ...   \n",
       "10264381    대환대출                         0.0   \n",
       "10264382    대환대출                         0.0   \n",
       "10264383    대환대출                         0.0   \n",
       "10264384    대환대출                         0.0   \n",
       "10264385    대환대출                         0.0   \n",
       "\n",
       "          personal_rehabilitation_complete_yn  existing_loan_cnt  \\\n",
       "8395658                                   0.0                6.0   \n",
       "8395659                                   0.0                6.0   \n",
       "8395660                                   0.0                6.0   \n",
       "8395661                                   0.0                6.0   \n",
       "8395662                                   0.0                2.0   \n",
       "...                                       ...                ...   \n",
       "10264381                                  0.0               12.0   \n",
       "10264382                                  0.0               12.0   \n",
       "10264383                                  0.0               12.0   \n",
       "10264384                                  0.0               12.0   \n",
       "10264385                                  0.0                2.0   \n",
       "\n",
       "          existing_loan_amt  predict  predict2  \n",
       "8395658          10000000.0        1         1  \n",
       "8395659          10000000.0        0         0  \n",
       "8395660          10000000.0        0         0  \n",
       "8395661          92000000.0        1         1  \n",
       "8395662           1000000.0        0         0  \n",
       "...                     ...      ...       ...  \n",
       "10264381        293000000.0        0         0  \n",
       "10264382        293000000.0        0         0  \n",
       "10264383        293000000.0        0         0  \n",
       "10264384        293000000.0        0         0  \n",
       "10264385          5000000.0        0         0  \n",
       "\n",
       "[1868728 rows x 25 columns]"
      ]
     },
     "execution_count": 65,
     "metadata": {},
     "output_type": "execute_result"
    }
   ],
   "source": [
    "z"
   ]
  },
  {
   "cell_type": "code",
   "execution_count": 61,
   "id": "17d87834",
   "metadata": {
    "scrolled": true
   },
   "outputs": [
    {
     "data": {
      "text/plain": [
       "0.1962658415631755"
      ]
     },
     "execution_count": 61,
     "metadata": {},
     "output_type": "execute_result"
    }
   ],
   "source": [
    "f1_score(z.is_applied, z.predict)"
   ]
  },
  {
   "cell_type": "code",
   "execution_count": 66,
   "id": "2e0a6770",
   "metadata": {},
   "outputs": [
    {
     "data": {
      "text/plain": [
       "0.17542279489679144"
      ]
     },
     "execution_count": 66,
     "metadata": {},
     "output_type": "execute_result"
    }
   ],
   "source": [
    "f1_score(z.is_applied, z.predict2)"
   ]
  }
 ],
 "metadata": {
  "kernelspec": {
   "display_name": "Python 3 (ipykernel)",
   "language": "python",
   "name": "python3"
  },
  "language_info": {
   "codemirror_mode": {
    "name": "ipython",
    "version": 3
   },
   "file_extension": ".py",
   "mimetype": "text/x-python",
   "name": "python",
   "nbconvert_exporter": "python",
   "pygments_lexer": "ipython3",
   "version": "3.10.6"
  }
 },
 "nbformat": 4,
 "nbformat_minor": 5
}
