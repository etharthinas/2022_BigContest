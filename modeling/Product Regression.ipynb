{
 "cells": [
  {
   "cell_type": "code",
   "execution_count": 1,
   "id": "172e5fe8",
   "metadata": {},
   "outputs": [],
   "source": [
    "import pandas as pd\n",
    "import numpy as np"
   ]
  },
  {
   "cell_type": "code",
   "execution_count": 39,
   "id": "806334dd",
   "metadata": {},
   "outputs": [],
   "source": [
    "data = pd.read_csv(\"learn.csv\")"
   ]
  },
  {
   "cell_type": "code",
   "execution_count": 40,
   "id": "2adab4a6",
   "metadata": {},
   "outputs": [],
   "source": [
    "del data[\"Unnamed: 0\"]"
   ]
  },
  {
   "cell_type": "code",
   "execution_count": 41,
   "id": "361bf67c",
   "metadata": {},
   "outputs": [],
   "source": [
    "df = data.copy()"
   ]
  },
  {
   "cell_type": "code",
   "execution_count": 6,
   "id": "8996d841",
   "metadata": {},
   "outputs": [],
   "source": [
    "data = data[[\"application_id\", \"loan_limit\", \"loan_rate\", \"is_applied\", \"user_id\"]]"
   ]
  },
  {
   "cell_type": "code",
   "execution_count": 7,
   "id": "39455c1b",
   "metadata": {},
   "outputs": [
    {
     "data": {
      "text/html": [
       "<div>\n",
       "<style scoped>\n",
       "    .dataframe tbody tr th:only-of-type {\n",
       "        vertical-align: middle;\n",
       "    }\n",
       "\n",
       "    .dataframe tbody tr th {\n",
       "        vertical-align: top;\n",
       "    }\n",
       "\n",
       "    .dataframe thead th {\n",
       "        text-align: right;\n",
       "    }\n",
       "</style>\n",
       "<table border=\"1\" class=\"dataframe\">\n",
       "  <thead>\n",
       "    <tr style=\"text-align: right;\">\n",
       "      <th></th>\n",
       "      <th>application_id</th>\n",
       "      <th>loan_limit</th>\n",
       "      <th>loan_rate</th>\n",
       "      <th>is_applied</th>\n",
       "      <th>user_id</th>\n",
       "    </tr>\n",
       "  </thead>\n",
       "  <tbody>\n",
       "    <tr>\n",
       "      <th>0</th>\n",
       "      <td>566528</td>\n",
       "      <td>20000000.0</td>\n",
       "      <td>19.1</td>\n",
       "      <td>0.0</td>\n",
       "      <td>681184</td>\n",
       "    </tr>\n",
       "    <tr>\n",
       "      <th>1</th>\n",
       "      <td>180433</td>\n",
       "      <td>16000000.0</td>\n",
       "      <td>15.0</td>\n",
       "      <td>0.0</td>\n",
       "      <td>623737</td>\n",
       "    </tr>\n",
       "    <tr>\n",
       "      <th>2</th>\n",
       "      <td>180433</td>\n",
       "      <td>22000000.0</td>\n",
       "      <td>16.6</td>\n",
       "      <td>0.0</td>\n",
       "      <td>623737</td>\n",
       "    </tr>\n",
       "    <tr>\n",
       "      <th>3</th>\n",
       "      <td>1657888</td>\n",
       "      <td>3000000.0</td>\n",
       "      <td>13.5</td>\n",
       "      <td>0.0</td>\n",
       "      <td>752985</td>\n",
       "    </tr>\n",
       "    <tr>\n",
       "      <th>4</th>\n",
       "      <td>180433</td>\n",
       "      <td>3000000.0</td>\n",
       "      <td>14.9</td>\n",
       "      <td>0.0</td>\n",
       "      <td>623737</td>\n",
       "    </tr>\n",
       "    <tr>\n",
       "      <th>...</th>\n",
       "      <td>...</td>\n",
       "      <td>...</td>\n",
       "      <td>...</td>\n",
       "      <td>...</td>\n",
       "      <td>...</td>\n",
       "    </tr>\n",
       "    <tr>\n",
       "      <th>10264381</th>\n",
       "      <td>455157</td>\n",
       "      <td>3000000.0</td>\n",
       "      <td>18.0</td>\n",
       "      <td>0.0</td>\n",
       "      <td>717233</td>\n",
       "    </tr>\n",
       "    <tr>\n",
       "      <th>10264382</th>\n",
       "      <td>455157</td>\n",
       "      <td>3000000.0</td>\n",
       "      <td>17.5</td>\n",
       "      <td>0.0</td>\n",
       "      <td>717233</td>\n",
       "    </tr>\n",
       "    <tr>\n",
       "      <th>10264383</th>\n",
       "      <td>455157</td>\n",
       "      <td>5000000.0</td>\n",
       "      <td>18.4</td>\n",
       "      <td>0.0</td>\n",
       "      <td>717233</td>\n",
       "    </tr>\n",
       "    <tr>\n",
       "      <th>10264384</th>\n",
       "      <td>455157</td>\n",
       "      <td>3000000.0</td>\n",
       "      <td>14.5</td>\n",
       "      <td>0.0</td>\n",
       "      <td>717233</td>\n",
       "    </tr>\n",
       "    <tr>\n",
       "      <th>10264385</th>\n",
       "      <td>831190</td>\n",
       "      <td>2000000.0</td>\n",
       "      <td>9.5</td>\n",
       "      <td>0.0</td>\n",
       "      <td>472597</td>\n",
       "    </tr>\n",
       "  </tbody>\n",
       "</table>\n",
       "<p>10264386 rows × 5 columns</p>\n",
       "</div>"
      ],
      "text/plain": [
       "          application_id  loan_limit  loan_rate  is_applied  user_id\n",
       "0                 566528  20000000.0       19.1         0.0   681184\n",
       "1                 180433  16000000.0       15.0         0.0   623737\n",
       "2                 180433  22000000.0       16.6         0.0   623737\n",
       "3                1657888   3000000.0       13.5         0.0   752985\n",
       "4                 180433   3000000.0       14.9         0.0   623737\n",
       "...                  ...         ...        ...         ...      ...\n",
       "10264381          455157   3000000.0       18.0         0.0   717233\n",
       "10264382          455157   3000000.0       17.5         0.0   717233\n",
       "10264383          455157   5000000.0       18.4         0.0   717233\n",
       "10264384          455157   3000000.0       14.5         0.0   717233\n",
       "10264385          831190   2000000.0        9.5         0.0   472597\n",
       "\n",
       "[10264386 rows x 5 columns]"
      ]
     },
     "execution_count": 7,
     "metadata": {},
     "output_type": "execute_result"
    }
   ],
   "source": [
    "data"
   ]
  },
  {
   "cell_type": "code",
   "execution_count": 8,
   "id": "6e9ec1e3",
   "metadata": {},
   "outputs": [],
   "source": [
    "g = data.groupby(\"application_id\").max()"
   ]
  },
  {
   "cell_type": "code",
   "execution_count": 11,
   "id": "bf7b94c7",
   "metadata": {},
   "outputs": [],
   "source": [
    "g = g.loc[g.is_applied == 1]"
   ]
  },
  {
   "cell_type": "code",
   "execution_count": 14,
   "id": "2c875073",
   "metadata": {},
   "outputs": [],
   "source": [
    "apps = g.index"
   ]
  },
  {
   "cell_type": "code",
   "execution_count": 15,
   "id": "7441a74a",
   "metadata": {},
   "outputs": [
    {
     "data": {
      "text/plain": [
       "Int64Index([     14,      17,      28,      34,      36,      37,      38,\n",
       "                 48,      50,      58,\n",
       "            ...\n",
       "            2167776, 2167784, 2167787, 2167798, 2167803, 2167807, 2167811,\n",
       "            2167817, 2167820, 2167826],\n",
       "           dtype='int64', name='application_id', length=377506)"
      ]
     },
     "execution_count": 15,
     "metadata": {},
     "output_type": "execute_result"
    }
   ],
   "source": [
    "apps"
   ]
  },
  {
   "cell_type": "code",
   "execution_count": 16,
   "id": "877b3456",
   "metadata": {},
   "outputs": [],
   "source": [
    "data = data.loc[data.application_id.isin(apps)]"
   ]
  },
  {
   "cell_type": "code",
   "execution_count": 18,
   "id": "6d7e7bbe",
   "metadata": {},
   "outputs": [],
   "source": [
    "istrue = data.loc[data.is_applied == 1]"
   ]
  },
  {
   "cell_type": "code",
   "execution_count": 20,
   "id": "a86636a0",
   "metadata": {},
   "outputs": [],
   "source": [
    "y = istrue.groupby(\"application_id\").min()"
   ]
  },
  {
   "cell_type": "code",
   "execution_count": 25,
   "id": "a7cc18af",
   "metadata": {},
   "outputs": [
    {
     "name": "stderr",
     "output_type": "stream",
     "text": [
      "/var/folders/mj/jcmvk9nd451b_mnylnj74qrm0000gn/T/ipykernel_3907/3518936550.py:1: FutureWarning: In a future version of pandas all arguments of DataFrame.reset_index except for the argument 'level' will be keyword-only.\n",
      "  y = y.reset_index(\"inplace\" == True, \"drop\" == True)\n"
     ]
    }
   ],
   "source": [
    "y = y.reset_index(\"inplace\" == True, \"drop\" == True)"
   ]
  },
  {
   "cell_type": "code",
   "execution_count": 26,
   "id": "1d54c4cc",
   "metadata": {},
   "outputs": [
    {
     "data": {
      "text/html": [
       "<div>\n",
       "<style scoped>\n",
       "    .dataframe tbody tr th:only-of-type {\n",
       "        vertical-align: middle;\n",
       "    }\n",
       "\n",
       "    .dataframe tbody tr th {\n",
       "        vertical-align: top;\n",
       "    }\n",
       "\n",
       "    .dataframe thead th {\n",
       "        text-align: right;\n",
       "    }\n",
       "</style>\n",
       "<table border=\"1\" class=\"dataframe\">\n",
       "  <thead>\n",
       "    <tr style=\"text-align: right;\">\n",
       "      <th></th>\n",
       "      <th>application_id</th>\n",
       "      <th>loan_limit</th>\n",
       "      <th>loan_rate</th>\n",
       "      <th>is_applied</th>\n",
       "      <th>user_id</th>\n",
       "    </tr>\n",
       "  </thead>\n",
       "  <tbody>\n",
       "    <tr>\n",
       "      <th>0</th>\n",
       "      <td>14</td>\n",
       "      <td>10000000.0</td>\n",
       "      <td>6.6</td>\n",
       "      <td>1.0</td>\n",
       "      <td>623310</td>\n",
       "    </tr>\n",
       "    <tr>\n",
       "      <th>1</th>\n",
       "      <td>17</td>\n",
       "      <td>9000000.0</td>\n",
       "      <td>7.1</td>\n",
       "      <td>1.0</td>\n",
       "      <td>822111</td>\n",
       "    </tr>\n",
       "    <tr>\n",
       "      <th>2</th>\n",
       "      <td>28</td>\n",
       "      <td>5000000.0</td>\n",
       "      <td>6.1</td>\n",
       "      <td>1.0</td>\n",
       "      <td>495556</td>\n",
       "    </tr>\n",
       "    <tr>\n",
       "      <th>3</th>\n",
       "      <td>34</td>\n",
       "      <td>16000000.0</td>\n",
       "      <td>17.4</td>\n",
       "      <td>1.0</td>\n",
       "      <td>766892</td>\n",
       "    </tr>\n",
       "    <tr>\n",
       "      <th>4</th>\n",
       "      <td>36</td>\n",
       "      <td>10000000.0</td>\n",
       "      <td>10.7</td>\n",
       "      <td>1.0</td>\n",
       "      <td>746778</td>\n",
       "    </tr>\n",
       "    <tr>\n",
       "      <th>...</th>\n",
       "      <td>...</td>\n",
       "      <td>...</td>\n",
       "      <td>...</td>\n",
       "      <td>...</td>\n",
       "      <td>...</td>\n",
       "    </tr>\n",
       "    <tr>\n",
       "      <th>377501</th>\n",
       "      <td>2167807</td>\n",
       "      <td>16000000.0</td>\n",
       "      <td>9.4</td>\n",
       "      <td>1.0</td>\n",
       "      <td>636572</td>\n",
       "    </tr>\n",
       "    <tr>\n",
       "      <th>377502</th>\n",
       "      <td>2167811</td>\n",
       "      <td>12000000.0</td>\n",
       "      <td>8.0</td>\n",
       "      <td>1.0</td>\n",
       "      <td>661020</td>\n",
       "    </tr>\n",
       "    <tr>\n",
       "      <th>377503</th>\n",
       "      <td>2167817</td>\n",
       "      <td>1000000.0</td>\n",
       "      <td>19.9</td>\n",
       "      <td>1.0</td>\n",
       "      <td>314169</td>\n",
       "    </tr>\n",
       "    <tr>\n",
       "      <th>377504</th>\n",
       "      <td>2167820</td>\n",
       "      <td>4000000.0</td>\n",
       "      <td>14.9</td>\n",
       "      <td>1.0</td>\n",
       "      <td>781452</td>\n",
       "    </tr>\n",
       "    <tr>\n",
       "      <th>377505</th>\n",
       "      <td>2167826</td>\n",
       "      <td>13000000.0</td>\n",
       "      <td>17.4</td>\n",
       "      <td>1.0</td>\n",
       "      <td>640786</td>\n",
       "    </tr>\n",
       "  </tbody>\n",
       "</table>\n",
       "<p>377506 rows × 5 columns</p>\n",
       "</div>"
      ],
      "text/plain": [
       "        application_id  loan_limit  loan_rate  is_applied  user_id\n",
       "0                   14  10000000.0        6.6         1.0   623310\n",
       "1                   17   9000000.0        7.1         1.0   822111\n",
       "2                   28   5000000.0        6.1         1.0   495556\n",
       "3                   34  16000000.0       17.4         1.0   766892\n",
       "4                   36  10000000.0       10.7         1.0   746778\n",
       "...                ...         ...        ...         ...      ...\n",
       "377501         2167807  16000000.0        9.4         1.0   636572\n",
       "377502         2167811  12000000.0        8.0         1.0   661020\n",
       "377503         2167817   1000000.0       19.9         1.0   314169\n",
       "377504         2167820   4000000.0       14.9         1.0   781452\n",
       "377505         2167826  13000000.0       17.4         1.0   640786\n",
       "\n",
       "[377506 rows x 5 columns]"
      ]
     },
     "execution_count": 26,
     "metadata": {},
     "output_type": "execute_result"
    }
   ],
   "source": [
    "y"
   ]
  },
  {
   "cell_type": "code",
   "execution_count": 28,
   "id": "ca9c5e28",
   "metadata": {},
   "outputs": [],
   "source": [
    "d = data.groupby(\"application_id\").min()"
   ]
  },
  {
   "cell_type": "code",
   "execution_count": 29,
   "id": "7759c689",
   "metadata": {},
   "outputs": [
    {
     "name": "stderr",
     "output_type": "stream",
     "text": [
      "/var/folders/mj/jcmvk9nd451b_mnylnj74qrm0000gn/T/ipykernel_3907/281886159.py:1: FutureWarning: In a future version of pandas all arguments of DataFrame.reset_index except for the argument 'level' will be keyword-only.\n",
      "  d = d.reset_index(\"drop\" == True, \"inplace\" == True)\n"
     ]
    }
   ],
   "source": [
    "d = d.reset_index(\"drop\" == True, \"inplace\" == True)"
   ]
  },
  {
   "cell_type": "code",
   "execution_count": 30,
   "id": "8235ac60",
   "metadata": {},
   "outputs": [
    {
     "data": {
      "text/html": [
       "<div>\n",
       "<style scoped>\n",
       "    .dataframe tbody tr th:only-of-type {\n",
       "        vertical-align: middle;\n",
       "    }\n",
       "\n",
       "    .dataframe tbody tr th {\n",
       "        vertical-align: top;\n",
       "    }\n",
       "\n",
       "    .dataframe thead th {\n",
       "        text-align: right;\n",
       "    }\n",
       "</style>\n",
       "<table border=\"1\" class=\"dataframe\">\n",
       "  <thead>\n",
       "    <tr style=\"text-align: right;\">\n",
       "      <th></th>\n",
       "      <th>application_id</th>\n",
       "      <th>loan_limit</th>\n",
       "      <th>loan_rate</th>\n",
       "      <th>is_applied</th>\n",
       "      <th>user_id</th>\n",
       "    </tr>\n",
       "  </thead>\n",
       "  <tbody>\n",
       "    <tr>\n",
       "      <th>0</th>\n",
       "      <td>14</td>\n",
       "      <td>9000000.0</td>\n",
       "      <td>6.6</td>\n",
       "      <td>0.0</td>\n",
       "      <td>623310</td>\n",
       "    </tr>\n",
       "    <tr>\n",
       "      <th>1</th>\n",
       "      <td>17</td>\n",
       "      <td>9000000.0</td>\n",
       "      <td>7.1</td>\n",
       "      <td>1.0</td>\n",
       "      <td>822111</td>\n",
       "    </tr>\n",
       "    <tr>\n",
       "      <th>2</th>\n",
       "      <td>28</td>\n",
       "      <td>3000000.0</td>\n",
       "      <td>6.1</td>\n",
       "      <td>0.0</td>\n",
       "      <td>495556</td>\n",
       "    </tr>\n",
       "    <tr>\n",
       "      <th>3</th>\n",
       "      <td>34</td>\n",
       "      <td>16000000.0</td>\n",
       "      <td>17.4</td>\n",
       "      <td>1.0</td>\n",
       "      <td>766892</td>\n",
       "    </tr>\n",
       "    <tr>\n",
       "      <th>4</th>\n",
       "      <td>36</td>\n",
       "      <td>1000000.0</td>\n",
       "      <td>10.2</td>\n",
       "      <td>0.0</td>\n",
       "      <td>746778</td>\n",
       "    </tr>\n",
       "    <tr>\n",
       "      <th>...</th>\n",
       "      <td>...</td>\n",
       "      <td>...</td>\n",
       "      <td>...</td>\n",
       "      <td>...</td>\n",
       "      <td>...</td>\n",
       "    </tr>\n",
       "    <tr>\n",
       "      <th>377501</th>\n",
       "      <td>2167807</td>\n",
       "      <td>3000000.0</td>\n",
       "      <td>9.4</td>\n",
       "      <td>0.0</td>\n",
       "      <td>636572</td>\n",
       "    </tr>\n",
       "    <tr>\n",
       "      <th>377502</th>\n",
       "      <td>2167811</td>\n",
       "      <td>11000000.0</td>\n",
       "      <td>6.5</td>\n",
       "      <td>0.0</td>\n",
       "      <td>661020</td>\n",
       "    </tr>\n",
       "    <tr>\n",
       "      <th>377503</th>\n",
       "      <td>2167817</td>\n",
       "      <td>1000000.0</td>\n",
       "      <td>18.4</td>\n",
       "      <td>0.0</td>\n",
       "      <td>314169</td>\n",
       "    </tr>\n",
       "    <tr>\n",
       "      <th>377504</th>\n",
       "      <td>2167820</td>\n",
       "      <td>4000000.0</td>\n",
       "      <td>13.9</td>\n",
       "      <td>0.0</td>\n",
       "      <td>781452</td>\n",
       "    </tr>\n",
       "    <tr>\n",
       "      <th>377505</th>\n",
       "      <td>2167826</td>\n",
       "      <td>5000000.0</td>\n",
       "      <td>16.9</td>\n",
       "      <td>0.0</td>\n",
       "      <td>640786</td>\n",
       "    </tr>\n",
       "  </tbody>\n",
       "</table>\n",
       "<p>377506 rows × 5 columns</p>\n",
       "</div>"
      ],
      "text/plain": [
       "        application_id  loan_limit  loan_rate  is_applied  user_id\n",
       "0                   14   9000000.0        6.6         0.0   623310\n",
       "1                   17   9000000.0        7.1         1.0   822111\n",
       "2                   28   3000000.0        6.1         0.0   495556\n",
       "3                   34  16000000.0       17.4         1.0   766892\n",
       "4                   36   1000000.0       10.2         0.0   746778\n",
       "...                ...         ...        ...         ...      ...\n",
       "377501         2167807   3000000.0        9.4         0.0   636572\n",
       "377502         2167811  11000000.0        6.5         0.0   661020\n",
       "377503         2167817   1000000.0       18.4         0.0   314169\n",
       "377504         2167820   4000000.0       13.9         0.0   781452\n",
       "377505         2167826   5000000.0       16.9         0.0   640786\n",
       "\n",
       "[377506 rows x 5 columns]"
      ]
     },
     "execution_count": 30,
     "metadata": {},
     "output_type": "execute_result"
    }
   ],
   "source": [
    "d"
   ]
  },
  {
   "cell_type": "code",
   "execution_count": 31,
   "id": "60b53bc0",
   "metadata": {},
   "outputs": [],
   "source": [
    "lr = y.loan_rate"
   ]
  },
  {
   "cell_type": "code",
   "execution_count": 33,
   "id": "53dee9ef",
   "metadata": {},
   "outputs": [],
   "source": [
    "lr2 = d.loan_rate"
   ]
  },
  {
   "cell_type": "code",
   "execution_count": 35,
   "id": "0e631236",
   "metadata": {},
   "outputs": [],
   "source": [
    "s = lr == lr2"
   ]
  },
  {
   "cell_type": "code",
   "execution_count": 38,
   "id": "dab2135d",
   "metadata": {},
   "outputs": [
    {
     "data": {
      "text/plain": [
       "0.3271338733689001"
      ]
     },
     "execution_count": 38,
     "metadata": {},
     "output_type": "execute_result"
    }
   ],
   "source": [
    "(len(s) - s.sum())/len(s)"
   ]
  },
  {
   "cell_type": "code",
   "execution_count": 43,
   "id": "5895eb7d",
   "metadata": {},
   "outputs": [],
   "source": [
    "df = df[[\"application_id\", \"loan_limit\", \"loan_rate\", \"product_id\", \"is_applied\"]]"
   ]
  },
  {
   "cell_type": "code",
   "execution_count": 44,
   "id": "914b350e",
   "metadata": {},
   "outputs": [],
   "source": [
    "from sklearn.linear_model import LogisticRegression"
   ]
  },
  {
   "cell_type": "code",
   "execution_count": 83,
   "id": "78cfe137",
   "metadata": {},
   "outputs": [],
   "source": [
    "model = LogisticRegression(class_weight = \"balanced\")"
   ]
  },
  {
   "cell_type": "code",
   "execution_count": 47,
   "id": "d751f3e9",
   "metadata": {},
   "outputs": [],
   "source": [
    "df = df[[\"loan_limit\", \"loan_rate\", \"is_applied\"]]\n",
    "df.loan_limit = np.log10(df.loan_limit + 1)"
   ]
  },
  {
   "cell_type": "code",
   "execution_count": 50,
   "id": "2634fb2f",
   "metadata": {},
   "outputs": [],
   "source": [
    "X = df[[\"loan_limit\", \"loan_rate\"]]\n",
    "y = df[\"is_applied\"]"
   ]
  },
  {
   "cell_type": "code",
   "execution_count": 60,
   "id": "bf2da337",
   "metadata": {},
   "outputs": [],
   "source": [
    "from sklearn.model_selection import train_test_split"
   ]
  },
  {
   "cell_type": "code",
   "execution_count": 61,
   "id": "a590eb95",
   "metadata": {},
   "outputs": [],
   "source": [
    "x1, x2, y1, y2 = train_test_split(X, y, test_size = 0.2, random_state = 0)"
   ]
  },
  {
   "cell_type": "code",
   "execution_count": 84,
   "id": "c100a8ad",
   "metadata": {
    "scrolled": true
   },
   "outputs": [
    {
     "data": {
      "text/html": [
       "<style>#sk-container-id-4 {color: black;background-color: white;}#sk-container-id-4 pre{padding: 0;}#sk-container-id-4 div.sk-toggleable {background-color: white;}#sk-container-id-4 label.sk-toggleable__label {cursor: pointer;display: block;width: 100%;margin-bottom: 0;padding: 0.3em;box-sizing: border-box;text-align: center;}#sk-container-id-4 label.sk-toggleable__label-arrow:before {content: \"▸\";float: left;margin-right: 0.25em;color: #696969;}#sk-container-id-4 label.sk-toggleable__label-arrow:hover:before {color: black;}#sk-container-id-4 div.sk-estimator:hover label.sk-toggleable__label-arrow:before {color: black;}#sk-container-id-4 div.sk-toggleable__content {max-height: 0;max-width: 0;overflow: hidden;text-align: left;background-color: #f0f8ff;}#sk-container-id-4 div.sk-toggleable__content pre {margin: 0.2em;color: black;border-radius: 0.25em;background-color: #f0f8ff;}#sk-container-id-4 input.sk-toggleable__control:checked~div.sk-toggleable__content {max-height: 200px;max-width: 100%;overflow: auto;}#sk-container-id-4 input.sk-toggleable__control:checked~label.sk-toggleable__label-arrow:before {content: \"▾\";}#sk-container-id-4 div.sk-estimator input.sk-toggleable__control:checked~label.sk-toggleable__label {background-color: #d4ebff;}#sk-container-id-4 div.sk-label input.sk-toggleable__control:checked~label.sk-toggleable__label {background-color: #d4ebff;}#sk-container-id-4 input.sk-hidden--visually {border: 0;clip: rect(1px 1px 1px 1px);clip: rect(1px, 1px, 1px, 1px);height: 1px;margin: -1px;overflow: hidden;padding: 0;position: absolute;width: 1px;}#sk-container-id-4 div.sk-estimator {font-family: monospace;background-color: #f0f8ff;border: 1px dotted black;border-radius: 0.25em;box-sizing: border-box;margin-bottom: 0.5em;}#sk-container-id-4 div.sk-estimator:hover {background-color: #d4ebff;}#sk-container-id-4 div.sk-parallel-item::after {content: \"\";width: 100%;border-bottom: 1px solid gray;flex-grow: 1;}#sk-container-id-4 div.sk-label:hover label.sk-toggleable__label {background-color: #d4ebff;}#sk-container-id-4 div.sk-serial::before {content: \"\";position: absolute;border-left: 1px solid gray;box-sizing: border-box;top: 0;bottom: 0;left: 50%;z-index: 0;}#sk-container-id-4 div.sk-serial {display: flex;flex-direction: column;align-items: center;background-color: white;padding-right: 0.2em;padding-left: 0.2em;position: relative;}#sk-container-id-4 div.sk-item {position: relative;z-index: 1;}#sk-container-id-4 div.sk-parallel {display: flex;align-items: stretch;justify-content: center;background-color: white;position: relative;}#sk-container-id-4 div.sk-item::before, #sk-container-id-4 div.sk-parallel-item::before {content: \"\";position: absolute;border-left: 1px solid gray;box-sizing: border-box;top: 0;bottom: 0;left: 50%;z-index: -1;}#sk-container-id-4 div.sk-parallel-item {display: flex;flex-direction: column;z-index: 1;position: relative;background-color: white;}#sk-container-id-4 div.sk-parallel-item:first-child::after {align-self: flex-end;width: 50%;}#sk-container-id-4 div.sk-parallel-item:last-child::after {align-self: flex-start;width: 50%;}#sk-container-id-4 div.sk-parallel-item:only-child::after {width: 0;}#sk-container-id-4 div.sk-dashed-wrapped {border: 1px dashed gray;margin: 0 0.4em 0.5em 0.4em;box-sizing: border-box;padding-bottom: 0.4em;background-color: white;}#sk-container-id-4 div.sk-label label {font-family: monospace;font-weight: bold;display: inline-block;line-height: 1.2em;}#sk-container-id-4 div.sk-label-container {text-align: center;}#sk-container-id-4 div.sk-container {/* jupyter's `normalize.less` sets `[hidden] { display: none; }` but bootstrap.min.css set `[hidden] { display: none !important; }` so we also need the `!important` here to be able to override the default hidden behavior on the sphinx rendered scikit-learn.org. See: https://github.com/scikit-learn/scikit-learn/issues/21755 */display: inline-block !important;position: relative;}#sk-container-id-4 div.sk-text-repr-fallback {display: none;}</style><div id=\"sk-container-id-4\" class=\"sk-top-container\"><div class=\"sk-text-repr-fallback\"><pre>LogisticRegression(class_weight=&#x27;balanced&#x27;)</pre><b>In a Jupyter environment, please rerun this cell to show the HTML representation or trust the notebook. <br />On GitHub, the HTML representation is unable to render, please try loading this page with nbviewer.org.</b></div><div class=\"sk-container\" hidden><div class=\"sk-item\"><div class=\"sk-estimator sk-toggleable\"><input class=\"sk-toggleable__control sk-hidden--visually\" id=\"sk-estimator-id-4\" type=\"checkbox\" checked><label for=\"sk-estimator-id-4\" class=\"sk-toggleable__label sk-toggleable__label-arrow\">LogisticRegression</label><div class=\"sk-toggleable__content\"><pre>LogisticRegression(class_weight=&#x27;balanced&#x27;)</pre></div></div></div></div></div>"
      ],
      "text/plain": [
       "LogisticRegression(class_weight='balanced')"
      ]
     },
     "execution_count": 84,
     "metadata": {},
     "output_type": "execute_result"
    }
   ],
   "source": [
    "model.fit(x1, y1)"
   ]
  },
  {
   "cell_type": "code",
   "execution_count": 85,
   "id": "c925f6f5",
   "metadata": {},
   "outputs": [
    {
     "data": {
      "text/plain": [
       "array([[-0.26919268, -0.05350142]])"
      ]
     },
     "execution_count": 85,
     "metadata": {},
     "output_type": "execute_result"
    }
   ],
   "source": [
    "model.coef_"
   ]
  },
  {
   "cell_type": "code",
   "execution_count": 86,
   "id": "d901a3f1",
   "metadata": {},
   "outputs": [
    {
     "data": {
      "text/plain": [
       "{'C': 1.0,\n",
       " 'class_weight': 'balanced',\n",
       " 'dual': False,\n",
       " 'fit_intercept': True,\n",
       " 'intercept_scaling': 1,\n",
       " 'l1_ratio': None,\n",
       " 'max_iter': 100,\n",
       " 'multi_class': 'auto',\n",
       " 'n_jobs': None,\n",
       " 'penalty': 'l2',\n",
       " 'random_state': None,\n",
       " 'solver': 'lbfgs',\n",
       " 'tol': 0.0001,\n",
       " 'verbose': 0,\n",
       " 'warm_start': False}"
      ]
     },
     "execution_count": 86,
     "metadata": {},
     "output_type": "execute_result"
    }
   ],
   "source": [
    "model.get_params()"
   ]
  },
  {
   "cell_type": "code",
   "execution_count": 87,
   "id": "f65616f1",
   "metadata": {},
   "outputs": [],
   "source": [
    "p = model.predict(x2)"
   ]
  },
  {
   "cell_type": "code",
   "execution_count": 91,
   "id": "c078d29d",
   "metadata": {},
   "outputs": [
    {
     "data": {
      "text/plain": [
       "0.6094551161832316"
      ]
     },
     "execution_count": 91,
     "metadata": {},
     "output_type": "execute_result"
    }
   ],
   "source": [
    "model.score(x2, y2)"
   ]
  },
  {
   "cell_type": "code",
   "execution_count": 78,
   "id": "8115b613",
   "metadata": {},
   "outputs": [],
   "source": [
    "p2 = model.predict_proba(x2)"
   ]
  },
  {
   "cell_type": "code",
   "execution_count": 66,
   "id": "a80fc761",
   "metadata": {},
   "outputs": [],
   "source": [
    "from sklearn.metrics import f1_score"
   ]
  },
  {
   "cell_type": "code",
   "execution_count": 89,
   "id": "058b4a58",
   "metadata": {},
   "outputs": [
    {
     "data": {
      "text/plain": [
       "0.12251156590348668"
      ]
     },
     "execution_count": 89,
     "metadata": {},
     "output_type": "execute_result"
    }
   ],
   "source": [
    "f1_score(y2, p)"
   ]
  },
  {
   "cell_type": "code",
   "execution_count": 92,
   "id": "9c3b0a72",
   "metadata": {},
   "outputs": [],
   "source": [
    "from sklearn.neural_network import MLPClassifier"
   ]
  },
  {
   "cell_type": "code",
   "execution_count": 93,
   "id": "3e7adb91",
   "metadata": {},
   "outputs": [],
   "source": [
    "neural = MLPClassifier(solver='lbfgs', alpha=1e-5,\n",
    "                    hidden_layer_sizes=(5, 2), random_state=1)"
   ]
  },
  {
   "cell_type": "code",
   "execution_count": 94,
   "id": "36fc3f6c",
   "metadata": {},
   "outputs": [
    {
     "data": {
      "text/html": [
       "<style>#sk-container-id-5 {color: black;background-color: white;}#sk-container-id-5 pre{padding: 0;}#sk-container-id-5 div.sk-toggleable {background-color: white;}#sk-container-id-5 label.sk-toggleable__label {cursor: pointer;display: block;width: 100%;margin-bottom: 0;padding: 0.3em;box-sizing: border-box;text-align: center;}#sk-container-id-5 label.sk-toggleable__label-arrow:before {content: \"▸\";float: left;margin-right: 0.25em;color: #696969;}#sk-container-id-5 label.sk-toggleable__label-arrow:hover:before {color: black;}#sk-container-id-5 div.sk-estimator:hover label.sk-toggleable__label-arrow:before {color: black;}#sk-container-id-5 div.sk-toggleable__content {max-height: 0;max-width: 0;overflow: hidden;text-align: left;background-color: #f0f8ff;}#sk-container-id-5 div.sk-toggleable__content pre {margin: 0.2em;color: black;border-radius: 0.25em;background-color: #f0f8ff;}#sk-container-id-5 input.sk-toggleable__control:checked~div.sk-toggleable__content {max-height: 200px;max-width: 100%;overflow: auto;}#sk-container-id-5 input.sk-toggleable__control:checked~label.sk-toggleable__label-arrow:before {content: \"▾\";}#sk-container-id-5 div.sk-estimator input.sk-toggleable__control:checked~label.sk-toggleable__label {background-color: #d4ebff;}#sk-container-id-5 div.sk-label input.sk-toggleable__control:checked~label.sk-toggleable__label {background-color: #d4ebff;}#sk-container-id-5 input.sk-hidden--visually {border: 0;clip: rect(1px 1px 1px 1px);clip: rect(1px, 1px, 1px, 1px);height: 1px;margin: -1px;overflow: hidden;padding: 0;position: absolute;width: 1px;}#sk-container-id-5 div.sk-estimator {font-family: monospace;background-color: #f0f8ff;border: 1px dotted black;border-radius: 0.25em;box-sizing: border-box;margin-bottom: 0.5em;}#sk-container-id-5 div.sk-estimator:hover {background-color: #d4ebff;}#sk-container-id-5 div.sk-parallel-item::after {content: \"\";width: 100%;border-bottom: 1px solid gray;flex-grow: 1;}#sk-container-id-5 div.sk-label:hover label.sk-toggleable__label {background-color: #d4ebff;}#sk-container-id-5 div.sk-serial::before {content: \"\";position: absolute;border-left: 1px solid gray;box-sizing: border-box;top: 0;bottom: 0;left: 50%;z-index: 0;}#sk-container-id-5 div.sk-serial {display: flex;flex-direction: column;align-items: center;background-color: white;padding-right: 0.2em;padding-left: 0.2em;position: relative;}#sk-container-id-5 div.sk-item {position: relative;z-index: 1;}#sk-container-id-5 div.sk-parallel {display: flex;align-items: stretch;justify-content: center;background-color: white;position: relative;}#sk-container-id-5 div.sk-item::before, #sk-container-id-5 div.sk-parallel-item::before {content: \"\";position: absolute;border-left: 1px solid gray;box-sizing: border-box;top: 0;bottom: 0;left: 50%;z-index: -1;}#sk-container-id-5 div.sk-parallel-item {display: flex;flex-direction: column;z-index: 1;position: relative;background-color: white;}#sk-container-id-5 div.sk-parallel-item:first-child::after {align-self: flex-end;width: 50%;}#sk-container-id-5 div.sk-parallel-item:last-child::after {align-self: flex-start;width: 50%;}#sk-container-id-5 div.sk-parallel-item:only-child::after {width: 0;}#sk-container-id-5 div.sk-dashed-wrapped {border: 1px dashed gray;margin: 0 0.4em 0.5em 0.4em;box-sizing: border-box;padding-bottom: 0.4em;background-color: white;}#sk-container-id-5 div.sk-label label {font-family: monospace;font-weight: bold;display: inline-block;line-height: 1.2em;}#sk-container-id-5 div.sk-label-container {text-align: center;}#sk-container-id-5 div.sk-container {/* jupyter's `normalize.less` sets `[hidden] { display: none; }` but bootstrap.min.css set `[hidden] { display: none !important; }` so we also need the `!important` here to be able to override the default hidden behavior on the sphinx rendered scikit-learn.org. See: https://github.com/scikit-learn/scikit-learn/issues/21755 */display: inline-block !important;position: relative;}#sk-container-id-5 div.sk-text-repr-fallback {display: none;}</style><div id=\"sk-container-id-5\" class=\"sk-top-container\"><div class=\"sk-text-repr-fallback\"><pre>MLPClassifier(alpha=1e-05, hidden_layer_sizes=(5, 2), random_state=1,\n",
       "              solver=&#x27;lbfgs&#x27;)</pre><b>In a Jupyter environment, please rerun this cell to show the HTML representation or trust the notebook. <br />On GitHub, the HTML representation is unable to render, please try loading this page with nbviewer.org.</b></div><div class=\"sk-container\" hidden><div class=\"sk-item\"><div class=\"sk-estimator sk-toggleable\"><input class=\"sk-toggleable__control sk-hidden--visually\" id=\"sk-estimator-id-5\" type=\"checkbox\" checked><label for=\"sk-estimator-id-5\" class=\"sk-toggleable__label sk-toggleable__label-arrow\">MLPClassifier</label><div class=\"sk-toggleable__content\"><pre>MLPClassifier(alpha=1e-05, hidden_layer_sizes=(5, 2), random_state=1,\n",
       "              solver=&#x27;lbfgs&#x27;)</pre></div></div></div></div></div>"
      ],
      "text/plain": [
       "MLPClassifier(alpha=1e-05, hidden_layer_sizes=(5, 2), random_state=1,\n",
       "              solver='lbfgs')"
      ]
     },
     "execution_count": 94,
     "metadata": {},
     "output_type": "execute_result"
    }
   ],
   "source": [
    "neural.fit(x1, y1)"
   ]
  },
  {
   "cell_type": "code",
   "execution_count": 95,
   "id": "d0b97b3a",
   "metadata": {},
   "outputs": [
    {
     "data": {
      "text/plain": [
       "0.9457629727631159"
      ]
     },
     "execution_count": 95,
     "metadata": {},
     "output_type": "execute_result"
    }
   ],
   "source": [
    "neural.score(x2, y2)"
   ]
  },
  {
   "cell_type": "code",
   "execution_count": 97,
   "id": "f2ed5e9c",
   "metadata": {},
   "outputs": [],
   "source": [
    "p = neural.predict(x2)"
   ]
  },
  {
   "cell_type": "code",
   "execution_count": 99,
   "id": "394cc448",
   "metadata": {},
   "outputs": [],
   "source": [
    "p2 = neural.predict_proba(x2)"
   ]
  },
  {
   "cell_type": "code",
   "execution_count": 106,
   "id": "b8db34f9",
   "metadata": {},
   "outputs": [
    {
     "data": {
      "text/plain": [
       "array([False, False, False, ..., False, False, False])"
      ]
     },
     "execution_count": 106,
     "metadata": {},
     "output_type": "execute_result"
    }
   ],
   "source": [
    "p2 > 0.054"
   ]
  },
  {
   "cell_type": "code",
   "execution_count": 107,
   "id": "710b1e94",
   "metadata": {},
   "outputs": [
    {
     "data": {
      "text/plain": [
       "0.14028022234817975"
      ]
     },
     "execution_count": 107,
     "metadata": {},
     "output_type": "execute_result"
    }
   ],
   "source": [
    "f1_score(y2, p2 > 0.054)"
   ]
  },
  {
   "cell_type": "code",
   "execution_count": 108,
   "id": "7c2ac6aa",
   "metadata": {
    "scrolled": true
   },
   "outputs": [
    {
     "ename": "ValueError",
     "evalue": "The truth value of an array with more than one element is ambiguous. Use a.any() or a.all()",
     "output_type": "error",
     "traceback": [
      "\u001b[0;31m---------------------------------------------------------------------------\u001b[0m",
      "\u001b[0;31mValueError\u001b[0m                                Traceback (most recent call last)",
      "Input \u001b[0;32mIn [108]\u001b[0m, in \u001b[0;36m<cell line: 1>\u001b[0;34m()\u001b[0m\n\u001b[0;32m----> 1\u001b[0m p2 \u001b[38;5;241m>\u001b[39m \u001b[38;5;241m0.052\u001b[39m \u001b[38;5;241m==\u001b[39m y2\n",
      "\u001b[0;31mValueError\u001b[0m: The truth value of an array with more than one element is ambiguous. Use a.any() or a.all()"
     ]
    }
   ],
   "source": [
    "np.dot(p2 > 0.054, )"
   ]
  }
 ],
 "metadata": {
  "kernelspec": {
   "display_name": "Python 3 (ipykernel)",
   "language": "python",
   "name": "python3"
  },
  "language_info": {
   "codemirror_mode": {
    "name": "ipython",
    "version": 3
   },
   "file_extension": ".py",
   "mimetype": "text/x-python",
   "name": "python",
   "nbconvert_exporter": "python",
   "pygments_lexer": "ipython3",
   "version": "3.10.6"
  }
 },
 "nbformat": 4,
 "nbformat_minor": 5
}
