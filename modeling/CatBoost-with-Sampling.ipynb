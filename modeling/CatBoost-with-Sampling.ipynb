{
 "cells": [
  {
   "cell_type": "code",
   "execution_count": 1,
   "id": "d70f9e82",
   "metadata": {},
   "outputs": [],
   "source": [
    "import pandas as pd\n",
    "import numpy as np\n",
    "import matplotlib.pyplot as plt\n",
    "pd.set_option(\"display.max_columns\", None)\n",
    "from sklearn.metrics import f1_score\n",
    "from sklearn.model_selection import train_test_split\n",
    "from sklearn.preprocessing import StandardScaler"
   ]
  },
  {
   "cell_type": "code",
   "execution_count": 2,
   "id": "ba8e46b4",
   "metadata": {},
   "outputs": [],
   "source": [
    "data = pd.read_csv(\"learn.csv\")"
   ]
  },
  {
   "cell_type": "code",
   "execution_count": 3,
   "id": "f01ee586",
   "metadata": {},
   "outputs": [],
   "source": [
    "data.loanapply_insert_time = pd.to_datetime(data.loanapply_insert_time)\n",
    "data.insert_time = pd.to_datetime(data.insert_time)\n",
    "data.company_enter_month = pd.to_datetime(data.company_enter_month)\n",
    "data.birth_year = pd.to_datetime(data.birth_year)"
   ]
  },
  {
   "cell_type": "code",
   "execution_count": 4,
   "id": "372d128b",
   "metadata": {},
   "outputs": [],
   "source": [
    "del data[\"Unnamed: 0\"]"
   ]
  },
  {
   "cell_type": "code",
   "execution_count": 5,
   "id": "e4f69dd8",
   "metadata": {},
   "outputs": [],
   "source": [
    "x = data.copy()"
   ]
  },
  {
   "cell_type": "code",
   "execution_count": 6,
   "id": "0722bac4",
   "metadata": {},
   "outputs": [],
   "source": [
    "x.loan_limit = np.log10(x.loan_limit + 1)\n",
    "x.desired_amount = np.log10(x.desired_amount+1)\n",
    "x.yearly_income = np.log10(x.yearly_income+1)\n",
    "x.existing_loan_amt = np.log10(x.existing_loan_amt + 1)"
   ]
  },
  {
   "cell_type": "code",
   "execution_count": 7,
   "id": "701a763d",
   "metadata": {},
   "outputs": [],
   "source": [
    "c1 = pd.get_dummies(x.income_type)\n",
    "c2 = pd.get_dummies(x.employment_type)\n",
    "c2.rename(columns = {\"기타\":\"기타_직업\"}, inplace = True)\n",
    "c3 = pd.get_dummies(x.houseown_type)\n",
    "c4 = pd.get_dummies(x.purpose)\n",
    "c4.rename(columns = {\"기타\": \"기타_목적\"}, inplace = True)"
   ]
  },
  {
   "cell_type": "code",
   "execution_count": 8,
   "id": "4ec4b424",
   "metadata": {},
   "outputs": [],
   "source": [
    "c = pd.concat([c1, c2, c3, c4], axis = 1)"
   ]
  },
  {
   "cell_type": "code",
   "execution_count": 9,
   "id": "cf30c4f5",
   "metadata": {},
   "outputs": [],
   "source": [
    "x.drop([\"income_type\", \"employment_type\", \"houseown_type\", \"purpose\"], inplace = True, axis= 1)\n",
    "x = pd.concat([x, c], axis = 1)"
   ]
  },
  {
   "cell_type": "code",
   "execution_count": 10,
   "id": "7aa45ee6",
   "metadata": {},
   "outputs": [],
   "source": [
    "X_train = x[x['insert_time']<'2022-05-16']\n",
    "X_test = x[x['insert_time']>= '2022-05-16']"
   ]
  },
  {
   "cell_type": "code",
   "execution_count": 11,
   "id": "07902f7a",
   "metadata": {},
   "outputs": [],
   "source": [
    "Y_train = X_train['is_applied']\n",
    "Y_test = X_test['is_applied']\n",
    "del X_train['is_applied']\n",
    "del X_test['is_applied']"
   ]
  },
  {
   "cell_type": "code",
   "execution_count": 12,
   "id": "ddbbb843",
   "metadata": {},
   "outputs": [],
   "source": [
    "k = data.is_applied.mean()"
   ]
  },
  {
   "cell_type": "code",
   "execution_count": 13,
   "id": "0fcf9794",
   "metadata": {},
   "outputs": [],
   "source": [
    "from catboost import CatBoostClassifier, Pool"
   ]
  },
  {
   "cell_type": "code",
   "execution_count": 14,
   "id": "44cccb00",
   "metadata": {},
   "outputs": [],
   "source": [
    "train = Pool(\n",
    "    data = X_train,\n",
    "    label = Y_train,\n",
    "    weight = Y_train * (1-2*k) + k\n",
    ")"
   ]
  },
  {
   "cell_type": "code",
   "execution_count": 15,
   "id": "bebc29d6",
   "metadata": {},
   "outputs": [],
   "source": [
    "model = CatBoostClassifier(iterations=2,\n",
    "                           depth=5,\n",
    "                           learning_rate=1,\n",
    "                           loss_function='Logloss',\n",
    "                           verbose=True)"
   ]
  },
  {
   "cell_type": "code",
   "execution_count": 16,
   "id": "d3b76952",
   "metadata": {},
   "outputs": [
    {
     "name": "stdout",
     "output_type": "stream",
     "text": [
      "0:\tlearn: 0.5696149\ttotal: 1.07s\tremaining: 1.07s\n",
      "1:\tlearn: 0.5437607\ttotal: 1.9s\tremaining: 0us\n"
     ]
    },
    {
     "data": {
      "text/plain": [
       "<catboost.core.CatBoostClassifier at 0x16bd073a0>"
      ]
     },
     "execution_count": 16,
     "metadata": {},
     "output_type": "execute_result"
    }
   ],
   "source": [
    "model.fit(train)"
   ]
  },
  {
   "cell_type": "code",
   "execution_count": 17,
   "id": "e61a565c",
   "metadata": {},
   "outputs": [],
   "source": [
    "p = model.predict(X_test)"
   ]
  },
  {
   "cell_type": "code",
   "execution_count": 18,
   "id": "55f27f97",
   "metadata": {},
   "outputs": [
    {
     "data": {
      "text/plain": [
       "0.20411632466128557"
      ]
     },
     "execution_count": 18,
     "metadata": {},
     "output_type": "execute_result"
    }
   ],
   "source": [
    "f1_score(Y_test, p)"
   ]
  }
 ],
 "metadata": {
  "kernelspec": {
   "display_name": "Python 3 (ipykernel)",
   "language": "python",
   "name": "python3"
  },
  "language_info": {
   "codemirror_mode": {
    "name": "ipython",
    "version": 3
   },
   "file_extension": ".py",
   "mimetype": "text/x-python",
   "name": "python",
   "nbconvert_exporter": "python",
   "pygments_lexer": "ipython3",
   "version": "3.10.6"
  }
 },
 "nbformat": 4,
 "nbformat_minor": 5
}
