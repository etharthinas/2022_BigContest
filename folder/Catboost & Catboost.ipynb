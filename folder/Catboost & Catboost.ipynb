{
 "cells": [
  {
   "cell_type": "code",
   "execution_count": 1,
   "id": "1016ab9a",
   "metadata": {},
   "outputs": [],
   "source": [
    "import pandas as pd\n",
    "import numpy as np\n",
    "import matplotlib.pyplot as plt\n",
    "pd.set_option(\"display.max_columns\", None)\n",
    "import plotly.express as px"
   ]
  },
  {
   "cell_type": "code",
   "execution_count": 2,
   "id": "a9609ff7",
   "metadata": {},
   "outputs": [],
   "source": [
    "data = pd.read_csv(\"learn.csv\")"
   ]
  },
  {
   "cell_type": "code",
   "execution_count": 3,
   "id": "9ca19c8d",
   "metadata": {},
   "outputs": [],
   "source": [
    "del data[\"Unnamed: 0\"]"
   ]
  },
  {
   "cell_type": "code",
   "execution_count": 4,
   "id": "59eb0eed",
   "metadata": {},
   "outputs": [],
   "source": [
    "data.loanapply_insert_time = pd.to_datetime(data.loanapply_insert_time)\n",
    "data.birth_year = pd.to_datetime(data.birth_year)\n",
    "data.insert_time = pd.to_datetime(data.insert_time)\n",
    "data.company_enter_month = pd.to_datetime(data.company_enter_month)"
   ]
  },
  {
   "cell_type": "code",
   "execution_count": 15,
   "id": "d1c6da1b",
   "metadata": {},
   "outputs": [],
   "source": [
    "x = data.copy()"
   ]
  },
  {
   "cell_type": "code",
   "execution_count": 16,
   "id": "905cf766",
   "metadata": {},
   "outputs": [],
   "source": [
    "c1 = pd.get_dummies(x.income_type)"
   ]
  },
  {
   "cell_type": "code",
   "execution_count": 17,
   "id": "82ad3c5a",
   "metadata": {},
   "outputs": [],
   "source": [
    "x = pd.concat([x, c1], axis = 1)"
   ]
  },
  {
   "cell_type": "code",
   "execution_count": 18,
   "id": "96f5f51d",
   "metadata": {},
   "outputs": [],
   "source": [
    "del x['income_type']"
   ]
  },
  {
   "cell_type": "code",
   "execution_count": 19,
   "id": "85ce7bd6",
   "metadata": {},
   "outputs": [],
   "source": [
    "x = x[[\"application_id\", \"loan_limit\", \"loan_rate\", \"credit_score\", \"company_enter_month\",\"insert_time\",\n",
    "                  \"desired_amount\", \"EARNEDINCOME\", \"is_applied\"]]"
   ]
  },
  {
   "cell_type": "code",
   "execution_count": 22,
   "id": "8f623064",
   "metadata": {},
   "outputs": [],
   "source": [
    "test_data=x[x['insert_time']>='2022-05-16']\n",
    "train_data = x[x['insert_time']<'2022-05-16']"
   ]
  },
  {
   "cell_type": "code",
   "execution_count": 23,
   "id": "600b6b99",
   "metadata": {},
   "outputs": [
    {
     "name": "stderr",
     "output_type": "stream",
     "text": [
      "/var/folders/mj/jcmvk9nd451b_mnylnj74qrm0000gn/T/ipykernel_26970/4276231571.py:1: FutureWarning: In a future version of pandas all arguments of DataFrame.reset_index except for the argument 'level' will be keyword-only.\n",
      "  test_data = test_data.groupby('application_id').max().reset_index('inplace' == True, 'drop' == True)\n"
     ]
    }
   ],
   "source": [
    "test_data = test_data.groupby('application_id').max().reset_index('inplace' == True, 'drop' == True)"
   ]
  },
  {
   "cell_type": "code",
   "execution_count": 24,
   "id": "922c8e2c",
   "metadata": {},
   "outputs": [
    {
     "name": "stderr",
     "output_type": "stream",
     "text": [
      "/var/folders/mj/jcmvk9nd451b_mnylnj74qrm0000gn/T/ipykernel_26970/1691262433.py:1: FutureWarning: In a future version of pandas all arguments of DataFrame.reset_index except for the argument 'level' will be keyword-only.\n",
      "  train_data = train_data.groupby('application_id').max().reset_index('inplace' == True, 'drop' == True)\n"
     ]
    }
   ],
   "source": [
    "train_data = train_data.groupby('application_id').max().reset_index('inplace' == True, 'drop' == True)"
   ]
  },
  {
   "cell_type": "code",
   "execution_count": 25,
   "id": "9baca1e4",
   "metadata": {},
   "outputs": [],
   "source": [
    "test_label = test_data[\"is_applied\"]\n",
    "del test_data[\"is_applied\"]"
   ]
  },
  {
   "cell_type": "code",
   "execution_count": 26,
   "id": "ee91e405",
   "metadata": {},
   "outputs": [],
   "source": [
    "train_label = train_data[\"is_applied\"]\n",
    "del train_data[\"is_applied\"]"
   ]
  },
  {
   "cell_type": "code",
   "execution_count": 30,
   "id": "28fc2277",
   "metadata": {},
   "outputs": [
    {
     "data": {
      "text/html": [
       "<div>\n",
       "<style scoped>\n",
       "    .dataframe tbody tr th:only-of-type {\n",
       "        vertical-align: middle;\n",
       "    }\n",
       "\n",
       "    .dataframe tbody tr th {\n",
       "        vertical-align: top;\n",
       "    }\n",
       "\n",
       "    .dataframe thead th {\n",
       "        text-align: right;\n",
       "    }\n",
       "</style>\n",
       "<table border=\"1\" class=\"dataframe\">\n",
       "  <thead>\n",
       "    <tr style=\"text-align: right;\">\n",
       "      <th></th>\n",
       "      <th>loan_limit</th>\n",
       "      <th>loan_rate</th>\n",
       "      <th>credit_score</th>\n",
       "      <th>company_enter_month</th>\n",
       "      <th>desired_amount</th>\n",
       "      <th>EARNEDINCOME</th>\n",
       "    </tr>\n",
       "  </thead>\n",
       "  <tbody>\n",
       "    <tr>\n",
       "      <th>0</th>\n",
       "      <td>8000000.0</td>\n",
       "      <td>15.8</td>\n",
       "      <td>550.0</td>\n",
       "      <td>2016-07-01</td>\n",
       "      <td>28000000.0</td>\n",
       "      <td>1</td>\n",
       "    </tr>\n",
       "    <tr>\n",
       "      <th>1</th>\n",
       "      <td>1000000.0</td>\n",
       "      <td>10.3</td>\n",
       "      <td>660.0</td>\n",
       "      <td>2022-04-01</td>\n",
       "      <td>20000000.0</td>\n",
       "      <td>1</td>\n",
       "    </tr>\n",
       "    <tr>\n",
       "      <th>2</th>\n",
       "      <td>100000000.0</td>\n",
       "      <td>17.9</td>\n",
       "      <td>1000.0</td>\n",
       "      <td>2019-03-01</td>\n",
       "      <td>500000000.0</td>\n",
       "      <td>0</td>\n",
       "    </tr>\n",
       "    <tr>\n",
       "      <th>3</th>\n",
       "      <td>50000000.0</td>\n",
       "      <td>16.4</td>\n",
       "      <td>720.0</td>\n",
       "      <td>2016-03-01</td>\n",
       "      <td>32000000.0</td>\n",
       "      <td>1</td>\n",
       "    </tr>\n",
       "    <tr>\n",
       "      <th>4</th>\n",
       "      <td>40000000.0</td>\n",
       "      <td>19.9</td>\n",
       "      <td>640.0</td>\n",
       "      <td>2021-11-01</td>\n",
       "      <td>42000000.0</td>\n",
       "      <td>1</td>\n",
       "    </tr>\n",
       "    <tr>\n",
       "      <th>...</th>\n",
       "      <td>...</td>\n",
       "      <td>...</td>\n",
       "      <td>...</td>\n",
       "      <td>...</td>\n",
       "      <td>...</td>\n",
       "      <td>...</td>\n",
       "    </tr>\n",
       "    <tr>\n",
       "      <th>134774</th>\n",
       "      <td>15000000.0</td>\n",
       "      <td>15.7</td>\n",
       "      <td>650.0</td>\n",
       "      <td>2010-02-01</td>\n",
       "      <td>8000000.0</td>\n",
       "      <td>1</td>\n",
       "    </tr>\n",
       "    <tr>\n",
       "      <th>134775</th>\n",
       "      <td>33000000.0</td>\n",
       "      <td>19.7</td>\n",
       "      <td>610.0</td>\n",
       "      <td>2022-02-01</td>\n",
       "      <td>20000000.0</td>\n",
       "      <td>1</td>\n",
       "    </tr>\n",
       "    <tr>\n",
       "      <th>134776</th>\n",
       "      <td>25000000.0</td>\n",
       "      <td>19.1</td>\n",
       "      <td>650.0</td>\n",
       "      <td>2021-07-01</td>\n",
       "      <td>3000000.0</td>\n",
       "      <td>0</td>\n",
       "    </tr>\n",
       "    <tr>\n",
       "      <th>134777</th>\n",
       "      <td>26000000.0</td>\n",
       "      <td>19.9</td>\n",
       "      <td>670.0</td>\n",
       "      <td>2016-10-01</td>\n",
       "      <td>5000000.0</td>\n",
       "      <td>1</td>\n",
       "    </tr>\n",
       "    <tr>\n",
       "      <th>134778</th>\n",
       "      <td>42000000.0</td>\n",
       "      <td>15.9</td>\n",
       "      <td>590.0</td>\n",
       "      <td>2020-11-01</td>\n",
       "      <td>10000000.0</td>\n",
       "      <td>1</td>\n",
       "    </tr>\n",
       "  </tbody>\n",
       "</table>\n",
       "<p>134779 rows × 6 columns</p>\n",
       "</div>"
      ],
      "text/plain": [
       "         loan_limit  loan_rate  credit_score company_enter_month  \\\n",
       "0         8000000.0       15.8         550.0          2016-07-01   \n",
       "1         1000000.0       10.3         660.0          2022-04-01   \n",
       "2       100000000.0       17.9        1000.0          2019-03-01   \n",
       "3        50000000.0       16.4         720.0          2016-03-01   \n",
       "4        40000000.0       19.9         640.0          2021-11-01   \n",
       "...             ...        ...           ...                 ...   \n",
       "134774   15000000.0       15.7         650.0          2010-02-01   \n",
       "134775   33000000.0       19.7         610.0          2022-02-01   \n",
       "134776   25000000.0       19.1         650.0          2021-07-01   \n",
       "134777   26000000.0       19.9         670.0          2016-10-01   \n",
       "134778   42000000.0       15.9         590.0          2020-11-01   \n",
       "\n",
       "        desired_amount  EARNEDINCOME  \n",
       "0           28000000.0             1  \n",
       "1           20000000.0             1  \n",
       "2          500000000.0             0  \n",
       "3           32000000.0             1  \n",
       "4           42000000.0             1  \n",
       "...                ...           ...  \n",
       "134774       8000000.0             1  \n",
       "134775      20000000.0             1  \n",
       "134776       3000000.0             0  \n",
       "134777       5000000.0             1  \n",
       "134778      10000000.0             1  \n",
       "\n",
       "[134779 rows x 6 columns]"
      ]
     },
     "execution_count": 30,
     "metadata": {},
     "output_type": "execute_result"
    }
   ],
   "source": [
    "test_data"
   ]
  },
  {
   "cell_type": "code",
   "execution_count": 12,
   "id": "00501d4d",
   "metadata": {},
   "outputs": [],
   "source": [
    "from catboost import CatBoostClassifier, Pool"
   ]
  },
  {
   "cell_type": "code",
   "execution_count": 32,
   "id": "8846ab99",
   "metadata": {},
   "outputs": [],
   "source": [
    "xxx = x.groupby(\"application_id\").max()"
   ]
  },
  {
   "cell_type": "code",
   "execution_count": 34,
   "id": "d4b376db",
   "metadata": {},
   "outputs": [],
   "source": [
    "k = xxx.is_applied.mean()"
   ]
  },
  {
   "cell_type": "code",
   "execution_count": 13,
   "id": "96fbe689",
   "metadata": {},
   "outputs": [],
   "source": [
    "model = CatBoostClassifier(iterations=2,\n",
    "                           depth=5,\n",
    "                           learning_rate=1,\n",
    "                           loss_function='Logloss',\n",
    "                           verbose=True)"
   ]
  },
  {
   "cell_type": "code",
   "execution_count": 35,
   "id": "11fb681a",
   "metadata": {},
   "outputs": [],
   "source": [
    "train = Pool(\n",
    "    data = train_data,\n",
    "    label = train_label,\n",
    "    weight = train_label * (1-2*k) + k\n",
    ")"
   ]
  },
  {
   "cell_type": "code",
   "execution_count": null,
   "id": "6ba517ac",
   "metadata": {},
   "outputs": [],
   "source": [
    "1"
   ]
  },
  {
   "cell_type": "code",
   "execution_count": 82,
   "id": "eb9d03cf",
   "metadata": {},
   "outputs": [
    {
     "name": "stdout",
     "output_type": "stream",
     "text": [
      "0:\tlearn: 0.6657609\ttotal: 20.8ms\tremaining: 20.8ms\n",
      "1:\tlearn: 0.6596111\ttotal: 37.3ms\tremaining: 0us\n"
     ]
    },
    {
     "data": {
      "text/plain": [
       "<catboost.core.CatBoostClassifier at 0x16786c700>"
      ]
     },
     "execution_count": 82,
     "metadata": {},
     "output_type": "execute_result"
    }
   ],
   "source": [
    "model.fit(train)"
   ]
  },
  {
   "cell_type": "code",
   "execution_count": 83,
   "id": "ef69af4b",
   "metadata": {},
   "outputs": [],
   "source": [
    "p = model.predict(test_data)"
   ]
  },
  {
   "cell_type": "code",
   "execution_count": 39,
   "id": "a204ddec",
   "metadata": {},
   "outputs": [],
   "source": [
    "from sklearn.metrics import f1_score"
   ]
  },
  {
   "cell_type": "code",
   "execution_count": 84,
   "id": "1e35bdbb",
   "metadata": {},
   "outputs": [
    {
     "data": {
      "text/plain": [
       "0.6215514235495877"
      ]
     },
     "execution_count": 84,
     "metadata": {},
     "output_type": "execute_result"
    }
   ],
   "source": [
    "f1_score(test_label, p)"
   ]
  },
  {
   "cell_type": "code",
   "execution_count": 43,
   "id": "1e10558b",
   "metadata": {},
   "outputs": [],
   "source": [
    "model2 = CatBoostClassifier(iterations=2,\n",
    "                           depth=5,\n",
    "                           learning_rate=1,\n",
    "                           loss_function='Logloss',\n",
    "                           verbose=True)"
   ]
  },
  {
   "cell_type": "code",
   "execution_count": 44,
   "id": "34cceced",
   "metadata": {},
   "outputs": [],
   "source": [
    "y = x.copy()"
   ]
  },
  {
   "cell_type": "code",
   "execution_count": 45,
   "id": "51241ffc",
   "metadata": {},
   "outputs": [],
   "source": [
    "kk = y.groupby(\"application_id\").max()"
   ]
  },
  {
   "cell_type": "code",
   "execution_count": 46,
   "id": "ed43f541",
   "metadata": {},
   "outputs": [],
   "source": [
    "kkk = kk.loc[kk.is_applied == 1]"
   ]
  },
  {
   "cell_type": "code",
   "execution_count": 47,
   "id": "d8999201",
   "metadata": {},
   "outputs": [],
   "source": [
    "appyes = kkk.index"
   ]
  },
  {
   "cell_type": "code",
   "execution_count": 48,
   "id": "301cfe7f",
   "metadata": {},
   "outputs": [],
   "source": [
    "y = y.loc[y.application_id.isin(appyes)]"
   ]
  },
  {
   "cell_type": "code",
   "execution_count": 49,
   "id": "7ff7a8fb",
   "metadata": {},
   "outputs": [],
   "source": [
    "gggg = y.is_applied.mean()"
   ]
  },
  {
   "cell_type": "code",
   "execution_count": 50,
   "id": "72c47e30",
   "metadata": {},
   "outputs": [],
   "source": [
    "y = y[[\"loan_limit\", \"loan_rate\", \"credit_score\", \"company_enter_month\",\"insert_time\",\n",
    "                  \"desired_amount\", \"EARNEDINCOME\", \"is_applied\"]]"
   ]
  },
  {
   "cell_type": "code",
   "execution_count": 51,
   "id": "edd486c2",
   "metadata": {},
   "outputs": [],
   "source": [
    "trainy = y[y['insert_time']<'2022-05-16']\n",
    "testy = y[y['insert_time']>= '2022-05-16']"
   ]
  },
  {
   "cell_type": "code",
   "execution_count": 52,
   "id": "8f80a1cb",
   "metadata": {},
   "outputs": [],
   "source": [
    "trainl = trainy[\"is_applied\"]\n",
    "testl = testy[\"is_applied\"]\n",
    "del trainy[\"insert_time\"]\n",
    "\n",
    "del testy[\"insert_time\"]\n"
   ]
  },
  {
   "cell_type": "code",
   "execution_count": 53,
   "id": "43974106",
   "metadata": {},
   "outputs": [],
   "source": [
    "del trainy[\"is_applied\"]\n",
    "del testy[\"is_applied\"]"
   ]
  },
  {
   "cell_type": "code",
   "execution_count": 54,
   "id": "6f484c91",
   "metadata": {},
   "outputs": [],
   "source": [
    "traintrain = Pool(\n",
    "    data = trainy,\n",
    "    label = trainl,\n",
    "    weight = trainl * (1-2*gggg) + gggg\n",
    "    )"
   ]
  },
  {
   "cell_type": "code",
   "execution_count": 55,
   "id": "eaa8767d",
   "metadata": {},
   "outputs": [
    {
     "name": "stdout",
     "output_type": "stream",
     "text": [
      "0:\tlearn: 0.5937376\ttotal: 196ms\tremaining: 196ms\n",
      "1:\tlearn: 0.5643237\ttotal: 328ms\tremaining: 0us\n"
     ]
    },
    {
     "data": {
      "text/plain": [
       "<catboost.core.CatBoostClassifier at 0x2ab0123b0>"
      ]
     },
     "execution_count": 55,
     "metadata": {},
     "output_type": "execute_result"
    }
   ],
   "source": [
    "model2.fit(traintrain)"
   ]
  },
  {
   "cell_type": "code",
   "execution_count": 56,
   "id": "13409b54",
   "metadata": {},
   "outputs": [],
   "source": [
    "pp = model.predict(testy)"
   ]
  },
  {
   "cell_type": "code",
   "execution_count": 59,
   "id": "bf5b1117",
   "metadata": {},
   "outputs": [
    {
     "data": {
      "text/plain": [
       "895693"
      ]
     },
     "execution_count": 59,
     "metadata": {},
     "output_type": "execute_result"
    }
   ],
   "source": [
    "len(pp)"
   ]
  },
  {
   "cell_type": "code",
   "execution_count": 57,
   "id": "42a82fec",
   "metadata": {},
   "outputs": [
    {
     "data": {
      "text/plain": [
       "0.2721819574023138"
      ]
     },
     "execution_count": 57,
     "metadata": {},
     "output_type": "execute_result"
    }
   ],
   "source": [
    "f1_score(testl, pp)"
   ]
  },
  {
   "cell_type": "code",
   "execution_count": 61,
   "id": "661e4aae",
   "metadata": {},
   "outputs": [],
   "source": [
    "z = x.copy()\n",
    "z[\"predict\"] = 0\n",
    "z = z.loc[z.insert_time > \"2022-05-16\"]"
   ]
  },
  {
   "cell_type": "code",
   "execution_count": 63,
   "id": "774f90ad",
   "metadata": {},
   "outputs": [],
   "source": [
    "yes = z.loc[z.application_id.isin(appyes)]"
   ]
  },
  {
   "cell_type": "code",
   "execution_count": 65,
   "id": "74b20076",
   "metadata": {},
   "outputs": [
    {
     "name": "stderr",
     "output_type": "stream",
     "text": [
      "/var/folders/mj/jcmvk9nd451b_mnylnj74qrm0000gn/T/ipykernel_26970/2846301860.py:1: SettingWithCopyWarning: \n",
      "A value is trying to be set on a copy of a slice from a DataFrame.\n",
      "Try using .loc[row_indexer,col_indexer] = value instead\n",
      "\n",
      "See the caveats in the documentation: https://pandas.pydata.org/pandas-docs/stable/user_guide/indexing.html#returning-a-view-versus-a-copy\n",
      "  yes['score'] = 0\n"
     ]
    }
   ],
   "source": [
    "yes['score'] = 0"
   ]
  },
  {
   "cell_type": "code",
   "execution_count": 66,
   "id": "2078271c",
   "metadata": {},
   "outputs": [
    {
     "data": {
      "text/html": [
       "<div>\n",
       "<style scoped>\n",
       "    .dataframe tbody tr th:only-of-type {\n",
       "        vertical-align: middle;\n",
       "    }\n",
       "\n",
       "    .dataframe tbody tr th {\n",
       "        vertical-align: top;\n",
       "    }\n",
       "\n",
       "    .dataframe thead th {\n",
       "        text-align: right;\n",
       "    }\n",
       "</style>\n",
       "<table border=\"1\" class=\"dataframe\">\n",
       "  <thead>\n",
       "    <tr style=\"text-align: right;\">\n",
       "      <th></th>\n",
       "      <th>application_id</th>\n",
       "      <th>loan_limit</th>\n",
       "      <th>loan_rate</th>\n",
       "      <th>credit_score</th>\n",
       "      <th>company_enter_month</th>\n",
       "      <th>insert_time</th>\n",
       "      <th>desired_amount</th>\n",
       "      <th>EARNEDINCOME</th>\n",
       "      <th>is_applied</th>\n",
       "      <th>predict</th>\n",
       "      <th>score</th>\n",
       "    </tr>\n",
       "  </thead>\n",
       "  <tbody>\n",
       "    <tr>\n",
       "      <th>8395658</th>\n",
       "      <td>2136969</td>\n",
       "      <td>13000000.0</td>\n",
       "      <td>17.5</td>\n",
       "      <td>650.0</td>\n",
       "      <td>2022-06-01</td>\n",
       "      <td>2022-05-16 00:11:50</td>\n",
       "      <td>2000000.0</td>\n",
       "      <td>0</td>\n",
       "      <td>0.0</td>\n",
       "      <td>0</td>\n",
       "      <td>0</td>\n",
       "    </tr>\n",
       "    <tr>\n",
       "      <th>8395659</th>\n",
       "      <td>2136969</td>\n",
       "      <td>5000000.0</td>\n",
       "      <td>14.5</td>\n",
       "      <td>650.0</td>\n",
       "      <td>2022-06-01</td>\n",
       "      <td>2022-05-16 00:11:50</td>\n",
       "      <td>2000000.0</td>\n",
       "      <td>0</td>\n",
       "      <td>0.0</td>\n",
       "      <td>0</td>\n",
       "      <td>0</td>\n",
       "    </tr>\n",
       "    <tr>\n",
       "      <th>8395660</th>\n",
       "      <td>2136969</td>\n",
       "      <td>3000000.0</td>\n",
       "      <td>12.5</td>\n",
       "      <td>650.0</td>\n",
       "      <td>2022-06-01</td>\n",
       "      <td>2022-05-16 00:11:50</td>\n",
       "      <td>2000000.0</td>\n",
       "      <td>0</td>\n",
       "      <td>1.0</td>\n",
       "      <td>0</td>\n",
       "      <td>0</td>\n",
       "    </tr>\n",
       "    <tr>\n",
       "      <th>8395661</th>\n",
       "      <td>824356</td>\n",
       "      <td>10000000.0</td>\n",
       "      <td>17.5</td>\n",
       "      <td>630.0</td>\n",
       "      <td>2020-10-01</td>\n",
       "      <td>2022-05-16 00:11:51</td>\n",
       "      <td>5000000.0</td>\n",
       "      <td>1</td>\n",
       "      <td>1.0</td>\n",
       "      <td>0</td>\n",
       "      <td>0</td>\n",
       "    </tr>\n",
       "    <tr>\n",
       "      <th>8395662</th>\n",
       "      <td>993637</td>\n",
       "      <td>5000000.0</td>\n",
       "      <td>16.3</td>\n",
       "      <td>700.0</td>\n",
       "      <td>2022-06-01</td>\n",
       "      <td>2022-05-16 00:12:14</td>\n",
       "      <td>1000000.0</td>\n",
       "      <td>0</td>\n",
       "      <td>1.0</td>\n",
       "      <td>0</td>\n",
       "      <td>0</td>\n",
       "    </tr>\n",
       "    <tr>\n",
       "      <th>...</th>\n",
       "      <td>...</td>\n",
       "      <td>...</td>\n",
       "      <td>...</td>\n",
       "      <td>...</td>\n",
       "      <td>...</td>\n",
       "      <td>...</td>\n",
       "      <td>...</td>\n",
       "      <td>...</td>\n",
       "      <td>...</td>\n",
       "      <td>...</td>\n",
       "      <td>...</td>\n",
       "    </tr>\n",
       "    <tr>\n",
       "      <th>10264369</th>\n",
       "      <td>502797</td>\n",
       "      <td>1000000.0</td>\n",
       "      <td>9.9</td>\n",
       "      <td>620.0</td>\n",
       "      <td>2021-03-01</td>\n",
       "      <td>2022-05-31 23:53:43</td>\n",
       "      <td>28000000.0</td>\n",
       "      <td>1</td>\n",
       "      <td>0.0</td>\n",
       "      <td>0</td>\n",
       "      <td>0</td>\n",
       "    </tr>\n",
       "    <tr>\n",
       "      <th>10264370</th>\n",
       "      <td>502797</td>\n",
       "      <td>21000000.0</td>\n",
       "      <td>14.2</td>\n",
       "      <td>620.0</td>\n",
       "      <td>2021-03-01</td>\n",
       "      <td>2022-05-31 23:53:43</td>\n",
       "      <td>28000000.0</td>\n",
       "      <td>1</td>\n",
       "      <td>0.0</td>\n",
       "      <td>0</td>\n",
       "      <td>0</td>\n",
       "    </tr>\n",
       "    <tr>\n",
       "      <th>10264371</th>\n",
       "      <td>502797</td>\n",
       "      <td>13000000.0</td>\n",
       "      <td>16.8</td>\n",
       "      <td>620.0</td>\n",
       "      <td>2021-03-01</td>\n",
       "      <td>2022-05-31 23:53:43</td>\n",
       "      <td>28000000.0</td>\n",
       "      <td>1</td>\n",
       "      <td>0.0</td>\n",
       "      <td>0</td>\n",
       "      <td>0</td>\n",
       "    </tr>\n",
       "    <tr>\n",
       "      <th>10264372</th>\n",
       "      <td>502797</td>\n",
       "      <td>5000000.0</td>\n",
       "      <td>14.9</td>\n",
       "      <td>620.0</td>\n",
       "      <td>2021-03-01</td>\n",
       "      <td>2022-05-31 23:53:43</td>\n",
       "      <td>28000000.0</td>\n",
       "      <td>1</td>\n",
       "      <td>0.0</td>\n",
       "      <td>0</td>\n",
       "      <td>0</td>\n",
       "    </tr>\n",
       "    <tr>\n",
       "      <th>10264373</th>\n",
       "      <td>502797</td>\n",
       "      <td>25000000.0</td>\n",
       "      <td>8.6</td>\n",
       "      <td>620.0</td>\n",
       "      <td>2021-03-01</td>\n",
       "      <td>2022-05-31 23:53:43</td>\n",
       "      <td>28000000.0</td>\n",
       "      <td>1</td>\n",
       "      <td>1.0</td>\n",
       "      <td>0</td>\n",
       "      <td>0</td>\n",
       "    </tr>\n",
       "  </tbody>\n",
       "</table>\n",
       "<p>895693 rows × 11 columns</p>\n",
       "</div>"
      ],
      "text/plain": [
       "          application_id  loan_limit  loan_rate  credit_score  \\\n",
       "8395658          2136969  13000000.0       17.5         650.0   \n",
       "8395659          2136969   5000000.0       14.5         650.0   \n",
       "8395660          2136969   3000000.0       12.5         650.0   \n",
       "8395661           824356  10000000.0       17.5         630.0   \n",
       "8395662           993637   5000000.0       16.3         700.0   \n",
       "...                  ...         ...        ...           ...   \n",
       "10264369          502797   1000000.0        9.9         620.0   \n",
       "10264370          502797  21000000.0       14.2         620.0   \n",
       "10264371          502797  13000000.0       16.8         620.0   \n",
       "10264372          502797   5000000.0       14.9         620.0   \n",
       "10264373          502797  25000000.0        8.6         620.0   \n",
       "\n",
       "         company_enter_month         insert_time  desired_amount  \\\n",
       "8395658           2022-06-01 2022-05-16 00:11:50       2000000.0   \n",
       "8395659           2022-06-01 2022-05-16 00:11:50       2000000.0   \n",
       "8395660           2022-06-01 2022-05-16 00:11:50       2000000.0   \n",
       "8395661           2020-10-01 2022-05-16 00:11:51       5000000.0   \n",
       "8395662           2022-06-01 2022-05-16 00:12:14       1000000.0   \n",
       "...                      ...                 ...             ...   \n",
       "10264369          2021-03-01 2022-05-31 23:53:43      28000000.0   \n",
       "10264370          2021-03-01 2022-05-31 23:53:43      28000000.0   \n",
       "10264371          2021-03-01 2022-05-31 23:53:43      28000000.0   \n",
       "10264372          2021-03-01 2022-05-31 23:53:43      28000000.0   \n",
       "10264373          2021-03-01 2022-05-31 23:53:43      28000000.0   \n",
       "\n",
       "          EARNEDINCOME  is_applied  predict  score  \n",
       "8395658              0         0.0        0      0  \n",
       "8395659              0         0.0        0      0  \n",
       "8395660              0         1.0        0      0  \n",
       "8395661              1         1.0        0      0  \n",
       "8395662              0         1.0        0      0  \n",
       "...                ...         ...      ...    ...  \n",
       "10264369             1         0.0        0      0  \n",
       "10264370             1         0.0        0      0  \n",
       "10264371             1         0.0        0      0  \n",
       "10264372             1         0.0        0      0  \n",
       "10264373             1         1.0        0      0  \n",
       "\n",
       "[895693 rows x 11 columns]"
      ]
     },
     "execution_count": 66,
     "metadata": {},
     "output_type": "execute_result"
    }
   ],
   "source": [
    "yes"
   ]
  },
  {
   "cell_type": "code",
   "execution_count": 68,
   "id": "f0196924",
   "metadata": {},
   "outputs": [],
   "source": [
    "xxx = yes[[\"loan_limit\", \"loan_rate\", \"credit_score\", \n",
    "           \"company_enter_month\", \"desired_amount\", \"EARNEDINCOME\"]]"
   ]
  },
  {
   "cell_type": "code",
   "execution_count": 69,
   "id": "034fcfe2",
   "metadata": {},
   "outputs": [
    {
     "name": "stderr",
     "output_type": "stream",
     "text": [
      "/var/folders/mj/jcmvk9nd451b_mnylnj74qrm0000gn/T/ipykernel_26970/2452806664.py:1: SettingWithCopyWarning: \n",
      "A value is trying to be set on a copy of a slice from a DataFrame.\n",
      "Try using .loc[row_indexer,col_indexer] = value instead\n",
      "\n",
      "See the caveats in the documentation: https://pandas.pydata.org/pandas-docs/stable/user_guide/indexing.html#returning-a-view-versus-a-copy\n",
      "  yes[\"score\"] = model2.predict_proba(xxx)\n"
     ]
    }
   ],
   "source": [
    "yes[\"score\"] = model2.predict_proba(xxx)"
   ]
  },
  {
   "cell_type": "code",
   "execution_count": 71,
   "id": "f612745d",
   "metadata": {},
   "outputs": [],
   "source": [
    "yesyes = yes.copy()"
   ]
  },
  {
   "cell_type": "code",
   "execution_count": 72,
   "id": "efb04c88",
   "metadata": {},
   "outputs": [],
   "source": [
    "k = yesyes.sort_values(by = 'score').drop_duplicates(\"application_id\", keep = \"last\").index"
   ]
  },
  {
   "cell_type": "code",
   "execution_count": 73,
   "id": "66613f12",
   "metadata": {},
   "outputs": [],
   "source": [
    "z.loc[k, \"predict\"] = 1"
   ]
  },
  {
   "cell_type": "code",
   "execution_count": 74,
   "id": "e4311640",
   "metadata": {},
   "outputs": [
    {
     "data": {
      "text/html": [
       "<div>\n",
       "<style scoped>\n",
       "    .dataframe tbody tr th:only-of-type {\n",
       "        vertical-align: middle;\n",
       "    }\n",
       "\n",
       "    .dataframe tbody tr th {\n",
       "        vertical-align: top;\n",
       "    }\n",
       "\n",
       "    .dataframe thead th {\n",
       "        text-align: right;\n",
       "    }\n",
       "</style>\n",
       "<table border=\"1\" class=\"dataframe\">\n",
       "  <thead>\n",
       "    <tr style=\"text-align: right;\">\n",
       "      <th></th>\n",
       "      <th>application_id</th>\n",
       "      <th>loan_limit</th>\n",
       "      <th>loan_rate</th>\n",
       "      <th>credit_score</th>\n",
       "      <th>company_enter_month</th>\n",
       "      <th>insert_time</th>\n",
       "      <th>desired_amount</th>\n",
       "      <th>EARNEDINCOME</th>\n",
       "      <th>is_applied</th>\n",
       "      <th>predict</th>\n",
       "    </tr>\n",
       "  </thead>\n",
       "  <tbody>\n",
       "    <tr>\n",
       "      <th>8395658</th>\n",
       "      <td>2136969</td>\n",
       "      <td>13000000.0</td>\n",
       "      <td>17.5</td>\n",
       "      <td>650.0</td>\n",
       "      <td>2022-06-01</td>\n",
       "      <td>2022-05-16 00:11:50</td>\n",
       "      <td>2000000.0</td>\n",
       "      <td>0</td>\n",
       "      <td>0.0</td>\n",
       "      <td>0</td>\n",
       "    </tr>\n",
       "    <tr>\n",
       "      <th>8395659</th>\n",
       "      <td>2136969</td>\n",
       "      <td>5000000.0</td>\n",
       "      <td>14.5</td>\n",
       "      <td>650.0</td>\n",
       "      <td>2022-06-01</td>\n",
       "      <td>2022-05-16 00:11:50</td>\n",
       "      <td>2000000.0</td>\n",
       "      <td>0</td>\n",
       "      <td>0.0</td>\n",
       "      <td>1</td>\n",
       "    </tr>\n",
       "    <tr>\n",
       "      <th>8395660</th>\n",
       "      <td>2136969</td>\n",
       "      <td>3000000.0</td>\n",
       "      <td>12.5</td>\n",
       "      <td>650.0</td>\n",
       "      <td>2022-06-01</td>\n",
       "      <td>2022-05-16 00:11:50</td>\n",
       "      <td>2000000.0</td>\n",
       "      <td>0</td>\n",
       "      <td>1.0</td>\n",
       "      <td>0</td>\n",
       "    </tr>\n",
       "    <tr>\n",
       "      <th>8395661</th>\n",
       "      <td>824356</td>\n",
       "      <td>10000000.0</td>\n",
       "      <td>17.5</td>\n",
       "      <td>630.0</td>\n",
       "      <td>2020-10-01</td>\n",
       "      <td>2022-05-16 00:11:51</td>\n",
       "      <td>5000000.0</td>\n",
       "      <td>1</td>\n",
       "      <td>1.0</td>\n",
       "      <td>1</td>\n",
       "    </tr>\n",
       "    <tr>\n",
       "      <th>8395662</th>\n",
       "      <td>993637</td>\n",
       "      <td>5000000.0</td>\n",
       "      <td>16.3</td>\n",
       "      <td>700.0</td>\n",
       "      <td>2022-06-01</td>\n",
       "      <td>2022-05-16 00:12:14</td>\n",
       "      <td>1000000.0</td>\n",
       "      <td>0</td>\n",
       "      <td>1.0</td>\n",
       "      <td>0</td>\n",
       "    </tr>\n",
       "    <tr>\n",
       "      <th>...</th>\n",
       "      <td>...</td>\n",
       "      <td>...</td>\n",
       "      <td>...</td>\n",
       "      <td>...</td>\n",
       "      <td>...</td>\n",
       "      <td>...</td>\n",
       "      <td>...</td>\n",
       "      <td>...</td>\n",
       "      <td>...</td>\n",
       "      <td>...</td>\n",
       "    </tr>\n",
       "    <tr>\n",
       "      <th>10264381</th>\n",
       "      <td>455157</td>\n",
       "      <td>3000000.0</td>\n",
       "      <td>18.0</td>\n",
       "      <td>610.0</td>\n",
       "      <td>1997-04-01</td>\n",
       "      <td>2022-05-31 23:54:27</td>\n",
       "      <td>50000000.0</td>\n",
       "      <td>1</td>\n",
       "      <td>0.0</td>\n",
       "      <td>0</td>\n",
       "    </tr>\n",
       "    <tr>\n",
       "      <th>10264382</th>\n",
       "      <td>455157</td>\n",
       "      <td>3000000.0</td>\n",
       "      <td>17.5</td>\n",
       "      <td>610.0</td>\n",
       "      <td>1997-04-01</td>\n",
       "      <td>2022-05-31 23:54:27</td>\n",
       "      <td>50000000.0</td>\n",
       "      <td>1</td>\n",
       "      <td>0.0</td>\n",
       "      <td>0</td>\n",
       "    </tr>\n",
       "    <tr>\n",
       "      <th>10264383</th>\n",
       "      <td>455157</td>\n",
       "      <td>5000000.0</td>\n",
       "      <td>18.4</td>\n",
       "      <td>610.0</td>\n",
       "      <td>1997-04-01</td>\n",
       "      <td>2022-05-31 23:54:27</td>\n",
       "      <td>50000000.0</td>\n",
       "      <td>1</td>\n",
       "      <td>0.0</td>\n",
       "      <td>0</td>\n",
       "    </tr>\n",
       "    <tr>\n",
       "      <th>10264384</th>\n",
       "      <td>455157</td>\n",
       "      <td>3000000.0</td>\n",
       "      <td>14.5</td>\n",
       "      <td>610.0</td>\n",
       "      <td>1997-04-01</td>\n",
       "      <td>2022-05-31 23:54:27</td>\n",
       "      <td>50000000.0</td>\n",
       "      <td>1</td>\n",
       "      <td>0.0</td>\n",
       "      <td>0</td>\n",
       "    </tr>\n",
       "    <tr>\n",
       "      <th>10264385</th>\n",
       "      <td>831190</td>\n",
       "      <td>2000000.0</td>\n",
       "      <td>9.5</td>\n",
       "      <td>760.0</td>\n",
       "      <td>2019-05-01</td>\n",
       "      <td>2022-05-31 23:54:24</td>\n",
       "      <td>40000000.0</td>\n",
       "      <td>0</td>\n",
       "      <td>0.0</td>\n",
       "      <td>0</td>\n",
       "    </tr>\n",
       "  </tbody>\n",
       "</table>\n",
       "<p>1868728 rows × 10 columns</p>\n",
       "</div>"
      ],
      "text/plain": [
       "          application_id  loan_limit  loan_rate  credit_score  \\\n",
       "8395658          2136969  13000000.0       17.5         650.0   \n",
       "8395659          2136969   5000000.0       14.5         650.0   \n",
       "8395660          2136969   3000000.0       12.5         650.0   \n",
       "8395661           824356  10000000.0       17.5         630.0   \n",
       "8395662           993637   5000000.0       16.3         700.0   \n",
       "...                  ...         ...        ...           ...   \n",
       "10264381          455157   3000000.0       18.0         610.0   \n",
       "10264382          455157   3000000.0       17.5         610.0   \n",
       "10264383          455157   5000000.0       18.4         610.0   \n",
       "10264384          455157   3000000.0       14.5         610.0   \n",
       "10264385          831190   2000000.0        9.5         760.0   \n",
       "\n",
       "         company_enter_month         insert_time  desired_amount  \\\n",
       "8395658           2022-06-01 2022-05-16 00:11:50       2000000.0   \n",
       "8395659           2022-06-01 2022-05-16 00:11:50       2000000.0   \n",
       "8395660           2022-06-01 2022-05-16 00:11:50       2000000.0   \n",
       "8395661           2020-10-01 2022-05-16 00:11:51       5000000.0   \n",
       "8395662           2022-06-01 2022-05-16 00:12:14       1000000.0   \n",
       "...                      ...                 ...             ...   \n",
       "10264381          1997-04-01 2022-05-31 23:54:27      50000000.0   \n",
       "10264382          1997-04-01 2022-05-31 23:54:27      50000000.0   \n",
       "10264383          1997-04-01 2022-05-31 23:54:27      50000000.0   \n",
       "10264384          1997-04-01 2022-05-31 23:54:27      50000000.0   \n",
       "10264385          2019-05-01 2022-05-31 23:54:24      40000000.0   \n",
       "\n",
       "          EARNEDINCOME  is_applied  predict  \n",
       "8395658              0         0.0        0  \n",
       "8395659              0         0.0        1  \n",
       "8395660              0         1.0        0  \n",
       "8395661              1         1.0        1  \n",
       "8395662              0         1.0        0  \n",
       "...                ...         ...      ...  \n",
       "10264381             1         0.0        0  \n",
       "10264382             1         0.0        0  \n",
       "10264383             1         0.0        0  \n",
       "10264384             1         0.0        0  \n",
       "10264385             0         0.0        0  \n",
       "\n",
       "[1868728 rows x 10 columns]"
      ]
     },
     "execution_count": 74,
     "metadata": {},
     "output_type": "execute_result"
    }
   ],
   "source": [
    "z"
   ]
  },
  {
   "cell_type": "code",
   "execution_count": 75,
   "id": "d78e9861",
   "metadata": {},
   "outputs": [
    {
     "data": {
      "text/plain": [
       "0.2667603372139703"
      ]
     },
     "execution_count": 75,
     "metadata": {},
     "output_type": "execute_result"
    }
   ],
   "source": [
    "f1_score(z.is_applied, z.predict)"
   ]
  }
 ],
 "metadata": {
  "kernelspec": {
   "display_name": "Python 3 (ipykernel)",
   "language": "python",
   "name": "python3"
  },
  "language_info": {
   "codemirror_mode": {
    "name": "ipython",
    "version": 3
   },
   "file_extension": ".py",
   "mimetype": "text/x-python",
   "name": "python",
   "nbconvert_exporter": "python",
   "pygments_lexer": "ipython3",
   "version": "3.10.6"
  }
 },
 "nbformat": 4,
 "nbformat_minor": 5
}
