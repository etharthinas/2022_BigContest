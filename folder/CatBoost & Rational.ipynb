{
 "cells": [
  {
   "cell_type": "code",
   "execution_count": 1,
   "id": "164e7b46",
   "metadata": {},
   "outputs": [],
   "source": [
    "import numpy as np\n",
    "import pandas as pd"
   ]
  },
  {
   "cell_type": "code",
   "execution_count": 2,
   "id": "e990c979",
   "metadata": {},
   "outputs": [],
   "source": [
    "data = pd.read_csv(\"learn.csv\")"
   ]
  },
  {
   "cell_type": "code",
   "execution_count": 3,
   "id": "28b384d9",
   "metadata": {},
   "outputs": [],
   "source": [
    "del data[\"Unnamed: 0\"]"
   ]
  },
  {
   "cell_type": "code",
   "execution_count": 4,
   "id": "60e03d21",
   "metadata": {},
   "outputs": [],
   "source": [
    "data.insert_time = pd.to_datetime(data.insert_time)\n",
    "data.company_enter_month = pd.to_datetime(data.company_enter_month)"
   ]
  },
  {
   "cell_type": "code",
   "execution_count": 5,
   "id": "bb1f4e49",
   "metadata": {},
   "outputs": [],
   "source": [
    "x = data.copy()"
   ]
  },
  {
   "cell_type": "code",
   "execution_count": 6,
   "id": "f44fa653",
   "metadata": {},
   "outputs": [],
   "source": [
    "c1 = pd.get_dummies(x.income_type)"
   ]
  },
  {
   "cell_type": "code",
   "execution_count": 7,
   "id": "7b4af7b1",
   "metadata": {},
   "outputs": [],
   "source": [
    "x = pd.concat([x, c1], axis = 1)"
   ]
  },
  {
   "cell_type": "code",
   "execution_count": 8,
   "id": "bacbe29c",
   "metadata": {},
   "outputs": [],
   "source": [
    "del x['income_type']"
   ]
  },
  {
   "cell_type": "code",
   "execution_count": 9,
   "id": "86fc918d",
   "metadata": {},
   "outputs": [],
   "source": [
    "x = x[[\"application_id\", \"loan_limit\", \"loan_rate\", \"credit_score\", \"company_enter_month\",\"insert_time\",\n",
    "                  \"desired_amount\", \"EARNEDINCOME\", \"is_applied\"]]"
   ]
  },
  {
   "cell_type": "code",
   "execution_count": 11,
   "id": "4eb77848",
   "metadata": {},
   "outputs": [],
   "source": [
    "test_data=x[x['insert_time']>='2022-05-16']\n",
    "train_data = x[x['insert_time']<'2022-05-16']"
   ]
  },
  {
   "cell_type": "code",
   "execution_count": 12,
   "id": "b6b4ee4e",
   "metadata": {},
   "outputs": [
    {
     "name": "stderr",
     "output_type": "stream",
     "text": [
      "/var/folders/mj/jcmvk9nd451b_mnylnj74qrm0000gn/T/ipykernel_1885/4276231571.py:1: FutureWarning: In a future version of pandas all arguments of DataFrame.reset_index except for the argument 'level' will be keyword-only.\n",
      "  test_data = test_data.groupby('application_id').max().reset_index('inplace' == True, 'drop' == True)\n"
     ]
    }
   ],
   "source": [
    "test_data = test_data.groupby('application_id').max().reset_index('inplace' == True, 'drop' == True)"
   ]
  },
  {
   "cell_type": "code",
   "execution_count": 13,
   "id": "025101d2",
   "metadata": {},
   "outputs": [
    {
     "name": "stderr",
     "output_type": "stream",
     "text": [
      "/var/folders/mj/jcmvk9nd451b_mnylnj74qrm0000gn/T/ipykernel_1885/1691262433.py:1: FutureWarning: In a future version of pandas all arguments of DataFrame.reset_index except for the argument 'level' will be keyword-only.\n",
      "  train_data = train_data.groupby('application_id').max().reset_index('inplace' == True, 'drop' == True)\n"
     ]
    }
   ],
   "source": [
    "train_data = train_data.groupby('application_id').max().reset_index('inplace' == True, 'drop' == True)"
   ]
  },
  {
   "cell_type": "code",
   "execution_count": 14,
   "id": "e744a519",
   "metadata": {},
   "outputs": [],
   "source": [
    "test_label = test_data[\"is_applied\"]\n",
    "del test_data[\"is_applied\"]"
   ]
  },
  {
   "cell_type": "code",
   "execution_count": 15,
   "id": "4deaab48",
   "metadata": {},
   "outputs": [],
   "source": [
    "train_label = train_data[\"is_applied\"]\n",
    "del train_data[\"is_applied\"]"
   ]
  },
  {
   "cell_type": "code",
   "execution_count": 16,
   "id": "eed3c8e8",
   "metadata": {},
   "outputs": [],
   "source": [
    "from catboost import CatBoostClassifier, Pool"
   ]
  },
  {
   "cell_type": "code",
   "execution_count": 17,
   "id": "61501287",
   "metadata": {},
   "outputs": [],
   "source": [
    "xxx = x.groupby(\"application_id\").max()"
   ]
  },
  {
   "cell_type": "code",
   "execution_count": 19,
   "id": "7a522b37",
   "metadata": {},
   "outputs": [],
   "source": [
    "k = xxx.is_applied.mean()"
   ]
  },
  {
   "cell_type": "code",
   "execution_count": 20,
   "id": "664b57da",
   "metadata": {},
   "outputs": [],
   "source": [
    "model = CatBoostClassifier(iterations=2,\n",
    "                           depth=5,\n",
    "                           learning_rate=1,\n",
    "                           loss_function='Logloss',\n",
    "                           verbose=True)"
   ]
  },
  {
   "cell_type": "code",
   "execution_count": 21,
   "id": "19927e1d",
   "metadata": {},
   "outputs": [],
   "source": [
    "train = Pool(\n",
    "    data = train_data,\n",
    "    label = train_label,\n",
    "    weight = train_label * (1-2*k) + k\n",
    ")"
   ]
  },
  {
   "cell_type": "code",
   "execution_count": 22,
   "id": "c0de9ee0",
   "metadata": {},
   "outputs": [
    {
     "name": "stdout",
     "output_type": "stream",
     "text": [
      "0:\tlearn: 0.6663350\ttotal: 86.5ms\tremaining: 86.5ms\n",
      "1:\tlearn: 0.6602777\ttotal: 103ms\tremaining: 0us\n"
     ]
    },
    {
     "data": {
      "text/plain": [
       "<catboost.core.CatBoostClassifier at 0x16a4df340>"
      ]
     },
     "execution_count": 22,
     "metadata": {},
     "output_type": "execute_result"
    }
   ],
   "source": [
    "model.fit(train)"
   ]
  },
  {
   "cell_type": "code",
   "execution_count": 23,
   "id": "2e6dc03c",
   "metadata": {},
   "outputs": [],
   "source": [
    "p = model.predict(test_data)"
   ]
  },
  {
   "cell_type": "code",
   "execution_count": 35,
   "id": "32738b6d",
   "metadata": {},
   "outputs": [],
   "source": [
    "z = test_data.copy()"
   ]
  },
  {
   "cell_type": "code",
   "execution_count": 37,
   "id": "f27ecf15",
   "metadata": {},
   "outputs": [],
   "source": [
    "z.loc[:, \"predict\"] = p"
   ]
  },
  {
   "cell_type": "code",
   "execution_count": 40,
   "id": "259b94d7",
   "metadata": {},
   "outputs": [],
   "source": [
    "appyes = z.loc[z.predict == 1, \"application_id\"]"
   ]
  },
  {
   "cell_type": "code",
   "execution_count": 64,
   "id": "6a72908a",
   "metadata": {},
   "outputs": [],
   "source": [
    "zz = data.loc[data.application_id.isin(appyes)]"
   ]
  },
  {
   "cell_type": "code",
   "execution_count": 65,
   "id": "cc27cf6e",
   "metadata": {},
   "outputs": [],
   "source": [
    "zz = zz[[\"application_id\", \"loan_limit\", \"loan_rate\", \"is_applied\", \"desired_amount\"]]"
   ]
  },
  {
   "cell_type": "code",
   "execution_count": 66,
   "id": "04fd060c",
   "metadata": {},
   "outputs": [],
   "source": [
    "zz = zz.sort_values(by = [\"application_id\", \"loan_rate\"])"
   ]
  },
  {
   "cell_type": "code",
   "execution_count": 55,
   "id": "e2465e04",
   "metadata": {},
   "outputs": [],
   "source": [
    "realdata = x.loc[x.insert_time >= \"2022-05-16\"]"
   ]
  },
  {
   "cell_type": "code",
   "execution_count": 57,
   "id": "b56f1b1e",
   "metadata": {},
   "outputs": [
    {
     "name": "stderr",
     "output_type": "stream",
     "text": [
      "/var/folders/mj/jcmvk9nd451b_mnylnj74qrm0000gn/T/ipykernel_1885/3414315939.py:1: SettingWithCopyWarning: \n",
      "A value is trying to be set on a copy of a slice from a DataFrame.\n",
      "Try using .loc[row_indexer,col_indexer] = value instead\n",
      "\n",
      "See the caveats in the documentation: https://pandas.pydata.org/pandas-docs/stable/user_guide/indexing.html#returning-a-view-versus-a-copy\n",
      "  realdata.loc[:, \"predict\"] = 0\n"
     ]
    }
   ],
   "source": [
    "realdata.loc[:, \"predict\"] = 0"
   ]
  },
  {
   "cell_type": "code",
   "execution_count": 58,
   "id": "34a39987",
   "metadata": {},
   "outputs": [
    {
     "data": {
      "text/html": [
       "<div>\n",
       "<style scoped>\n",
       "    .dataframe tbody tr th:only-of-type {\n",
       "        vertical-align: middle;\n",
       "    }\n",
       "\n",
       "    .dataframe tbody tr th {\n",
       "        vertical-align: top;\n",
       "    }\n",
       "\n",
       "    .dataframe thead th {\n",
       "        text-align: right;\n",
       "    }\n",
       "</style>\n",
       "<table border=\"1\" class=\"dataframe\">\n",
       "  <thead>\n",
       "    <tr style=\"text-align: right;\">\n",
       "      <th></th>\n",
       "      <th>application_id</th>\n",
       "      <th>loan_limit</th>\n",
       "      <th>loan_rate</th>\n",
       "      <th>credit_score</th>\n",
       "      <th>company_enter_month</th>\n",
       "      <th>insert_time</th>\n",
       "      <th>desired_amount</th>\n",
       "      <th>EARNEDINCOME</th>\n",
       "      <th>is_applied</th>\n",
       "      <th>predict</th>\n",
       "    </tr>\n",
       "  </thead>\n",
       "  <tbody>\n",
       "    <tr>\n",
       "      <th>8395658</th>\n",
       "      <td>2136969</td>\n",
       "      <td>13000000.0</td>\n",
       "      <td>17.5</td>\n",
       "      <td>650.0</td>\n",
       "      <td>2022-06-01</td>\n",
       "      <td>2022-05-16 00:11:50</td>\n",
       "      <td>2000000.0</td>\n",
       "      <td>0</td>\n",
       "      <td>0.0</td>\n",
       "      <td>0</td>\n",
       "    </tr>\n",
       "    <tr>\n",
       "      <th>8395659</th>\n",
       "      <td>2136969</td>\n",
       "      <td>5000000.0</td>\n",
       "      <td>14.5</td>\n",
       "      <td>650.0</td>\n",
       "      <td>2022-06-01</td>\n",
       "      <td>2022-05-16 00:11:50</td>\n",
       "      <td>2000000.0</td>\n",
       "      <td>0</td>\n",
       "      <td>0.0</td>\n",
       "      <td>0</td>\n",
       "    </tr>\n",
       "    <tr>\n",
       "      <th>8395660</th>\n",
       "      <td>2136969</td>\n",
       "      <td>3000000.0</td>\n",
       "      <td>12.5</td>\n",
       "      <td>650.0</td>\n",
       "      <td>2022-06-01</td>\n",
       "      <td>2022-05-16 00:11:50</td>\n",
       "      <td>2000000.0</td>\n",
       "      <td>0</td>\n",
       "      <td>1.0</td>\n",
       "      <td>0</td>\n",
       "    </tr>\n",
       "    <tr>\n",
       "      <th>8395661</th>\n",
       "      <td>824356</td>\n",
       "      <td>10000000.0</td>\n",
       "      <td>17.5</td>\n",
       "      <td>630.0</td>\n",
       "      <td>2020-10-01</td>\n",
       "      <td>2022-05-16 00:11:51</td>\n",
       "      <td>5000000.0</td>\n",
       "      <td>1</td>\n",
       "      <td>1.0</td>\n",
       "      <td>0</td>\n",
       "    </tr>\n",
       "    <tr>\n",
       "      <th>8395662</th>\n",
       "      <td>993637</td>\n",
       "      <td>5000000.0</td>\n",
       "      <td>16.3</td>\n",
       "      <td>700.0</td>\n",
       "      <td>2022-06-01</td>\n",
       "      <td>2022-05-16 00:12:14</td>\n",
       "      <td>1000000.0</td>\n",
       "      <td>0</td>\n",
       "      <td>1.0</td>\n",
       "      <td>0</td>\n",
       "    </tr>\n",
       "    <tr>\n",
       "      <th>...</th>\n",
       "      <td>...</td>\n",
       "      <td>...</td>\n",
       "      <td>...</td>\n",
       "      <td>...</td>\n",
       "      <td>...</td>\n",
       "      <td>...</td>\n",
       "      <td>...</td>\n",
       "      <td>...</td>\n",
       "      <td>...</td>\n",
       "      <td>...</td>\n",
       "    </tr>\n",
       "    <tr>\n",
       "      <th>10264381</th>\n",
       "      <td>455157</td>\n",
       "      <td>3000000.0</td>\n",
       "      <td>18.0</td>\n",
       "      <td>610.0</td>\n",
       "      <td>1997-04-01</td>\n",
       "      <td>2022-05-31 23:54:27</td>\n",
       "      <td>50000000.0</td>\n",
       "      <td>1</td>\n",
       "      <td>0.0</td>\n",
       "      <td>0</td>\n",
       "    </tr>\n",
       "    <tr>\n",
       "      <th>10264382</th>\n",
       "      <td>455157</td>\n",
       "      <td>3000000.0</td>\n",
       "      <td>17.5</td>\n",
       "      <td>610.0</td>\n",
       "      <td>1997-04-01</td>\n",
       "      <td>2022-05-31 23:54:27</td>\n",
       "      <td>50000000.0</td>\n",
       "      <td>1</td>\n",
       "      <td>0.0</td>\n",
       "      <td>0</td>\n",
       "    </tr>\n",
       "    <tr>\n",
       "      <th>10264383</th>\n",
       "      <td>455157</td>\n",
       "      <td>5000000.0</td>\n",
       "      <td>18.4</td>\n",
       "      <td>610.0</td>\n",
       "      <td>1997-04-01</td>\n",
       "      <td>2022-05-31 23:54:27</td>\n",
       "      <td>50000000.0</td>\n",
       "      <td>1</td>\n",
       "      <td>0.0</td>\n",
       "      <td>0</td>\n",
       "    </tr>\n",
       "    <tr>\n",
       "      <th>10264384</th>\n",
       "      <td>455157</td>\n",
       "      <td>3000000.0</td>\n",
       "      <td>14.5</td>\n",
       "      <td>610.0</td>\n",
       "      <td>1997-04-01</td>\n",
       "      <td>2022-05-31 23:54:27</td>\n",
       "      <td>50000000.0</td>\n",
       "      <td>1</td>\n",
       "      <td>0.0</td>\n",
       "      <td>0</td>\n",
       "    </tr>\n",
       "    <tr>\n",
       "      <th>10264385</th>\n",
       "      <td>831190</td>\n",
       "      <td>2000000.0</td>\n",
       "      <td>9.5</td>\n",
       "      <td>760.0</td>\n",
       "      <td>2019-05-01</td>\n",
       "      <td>2022-05-31 23:54:24</td>\n",
       "      <td>40000000.0</td>\n",
       "      <td>0</td>\n",
       "      <td>0.0</td>\n",
       "      <td>0</td>\n",
       "    </tr>\n",
       "  </tbody>\n",
       "</table>\n",
       "<p>1868728 rows × 10 columns</p>\n",
       "</div>"
      ],
      "text/plain": [
       "          application_id  loan_limit  loan_rate  credit_score  \\\n",
       "8395658          2136969  13000000.0       17.5         650.0   \n",
       "8395659          2136969   5000000.0       14.5         650.0   \n",
       "8395660          2136969   3000000.0       12.5         650.0   \n",
       "8395661           824356  10000000.0       17.5         630.0   \n",
       "8395662           993637   5000000.0       16.3         700.0   \n",
       "...                  ...         ...        ...           ...   \n",
       "10264381          455157   3000000.0       18.0         610.0   \n",
       "10264382          455157   3000000.0       17.5         610.0   \n",
       "10264383          455157   5000000.0       18.4         610.0   \n",
       "10264384          455157   3000000.0       14.5         610.0   \n",
       "10264385          831190   2000000.0        9.5         760.0   \n",
       "\n",
       "         company_enter_month         insert_time  desired_amount  \\\n",
       "8395658           2022-06-01 2022-05-16 00:11:50       2000000.0   \n",
       "8395659           2022-06-01 2022-05-16 00:11:50       2000000.0   \n",
       "8395660           2022-06-01 2022-05-16 00:11:50       2000000.0   \n",
       "8395661           2020-10-01 2022-05-16 00:11:51       5000000.0   \n",
       "8395662           2022-06-01 2022-05-16 00:12:14       1000000.0   \n",
       "...                      ...                 ...             ...   \n",
       "10264381          1997-04-01 2022-05-31 23:54:27      50000000.0   \n",
       "10264382          1997-04-01 2022-05-31 23:54:27      50000000.0   \n",
       "10264383          1997-04-01 2022-05-31 23:54:27      50000000.0   \n",
       "10264384          1997-04-01 2022-05-31 23:54:27      50000000.0   \n",
       "10264385          2019-05-01 2022-05-31 23:54:24      40000000.0   \n",
       "\n",
       "          EARNEDINCOME  is_applied  predict  \n",
       "8395658              0         0.0        0  \n",
       "8395659              0         0.0        0  \n",
       "8395660              0         1.0        0  \n",
       "8395661              1         1.0        0  \n",
       "8395662              0         1.0        0  \n",
       "...                ...         ...      ...  \n",
       "10264381             1         0.0        0  \n",
       "10264382             1         0.0        0  \n",
       "10264383             1         0.0        0  \n",
       "10264384             1         0.0        0  \n",
       "10264385             0         0.0        0  \n",
       "\n",
       "[1868728 rows x 10 columns]"
      ]
     },
     "execution_count": 58,
     "metadata": {},
     "output_type": "execute_result"
    }
   ],
   "source": [
    "realdata"
   ]
  },
  {
   "cell_type": "code",
   "execution_count": 67,
   "id": "60aa332d",
   "metadata": {},
   "outputs": [],
   "source": [
    "zz.loc[:, [\"sum\", \"more\"]] = 0"
   ]
  },
  {
   "cell_type": "code",
   "execution_count": 68,
   "id": "70dad514",
   "metadata": {},
   "outputs": [],
   "source": [
    "zz.loc[:, \"predict\"] = 0"
   ]
  },
  {
   "cell_type": "code",
   "execution_count": 70,
   "id": "14352429",
   "metadata": {},
   "outputs": [],
   "source": [
    "zz.iloc[0,5] = zz.iloc[0, 1]"
   ]
  },
  {
   "cell_type": "code",
   "execution_count": 75,
   "id": "198c0eb4",
   "metadata": {},
   "outputs": [],
   "source": [
    "for i in range (1, len(zz)):\n",
    "    zz.iloc[i, 5] = zz.iloc[i, 1]\n",
    "    if (zz.iloc[i, 0] == zz.iloc[i-1, 0]):\n",
    "        zz.iloc[i, 5] += zz.iloc[i-1, 5]"
   ]
  },
  {
   "cell_type": "code",
   "execution_count": 76,
   "id": "d1c4c082",
   "metadata": {},
   "outputs": [],
   "source": [
    "zz[\"more\"] = zz[\"sum\"] > zz.desired_amount"
   ]
  },
  {
   "cell_type": "code",
   "execution_count": 77,
   "id": "73ad14e7",
   "metadata": {},
   "outputs": [
    {
     "data": {
      "text/html": [
       "<div>\n",
       "<style scoped>\n",
       "    .dataframe tbody tr th:only-of-type {\n",
       "        vertical-align: middle;\n",
       "    }\n",
       "\n",
       "    .dataframe tbody tr th {\n",
       "        vertical-align: top;\n",
       "    }\n",
       "\n",
       "    .dataframe thead th {\n",
       "        text-align: right;\n",
       "    }\n",
       "</style>\n",
       "<table border=\"1\" class=\"dataframe\">\n",
       "  <thead>\n",
       "    <tr style=\"text-align: right;\">\n",
       "      <th></th>\n",
       "      <th>application_id</th>\n",
       "      <th>loan_limit</th>\n",
       "      <th>loan_rate</th>\n",
       "      <th>is_applied</th>\n",
       "      <th>desired_amount</th>\n",
       "      <th>sum</th>\n",
       "      <th>more</th>\n",
       "      <th>predict</th>\n",
       "    </tr>\n",
       "  </thead>\n",
       "  <tbody>\n",
       "    <tr>\n",
       "      <th>10198527</th>\n",
       "      <td>71</td>\n",
       "      <td>13000000.0</td>\n",
       "      <td>16.6</td>\n",
       "      <td>1.0</td>\n",
       "      <td>5000000.0</td>\n",
       "      <td>13000000</td>\n",
       "      <td>True</td>\n",
       "      <td>0</td>\n",
       "    </tr>\n",
       "    <tr>\n",
       "      <th>10052977</th>\n",
       "      <td>92</td>\n",
       "      <td>15000000.0</td>\n",
       "      <td>6.5</td>\n",
       "      <td>0.0</td>\n",
       "      <td>8000000.0</td>\n",
       "      <td>15000000</td>\n",
       "      <td>True</td>\n",
       "      <td>0</td>\n",
       "    </tr>\n",
       "    <tr>\n",
       "      <th>10053008</th>\n",
       "      <td>92</td>\n",
       "      <td>15000000.0</td>\n",
       "      <td>6.5</td>\n",
       "      <td>0.0</td>\n",
       "      <td>8000000.0</td>\n",
       "      <td>30000000</td>\n",
       "      <td>True</td>\n",
       "      <td>0</td>\n",
       "    </tr>\n",
       "    <tr>\n",
       "      <th>10053121</th>\n",
       "      <td>92</td>\n",
       "      <td>15000000.0</td>\n",
       "      <td>6.5</td>\n",
       "      <td>0.0</td>\n",
       "      <td>8000000.0</td>\n",
       "      <td>45000000</td>\n",
       "      <td>True</td>\n",
       "      <td>0</td>\n",
       "    </tr>\n",
       "    <tr>\n",
       "      <th>10052976</th>\n",
       "      <td>92</td>\n",
       "      <td>15000000.0</td>\n",
       "      <td>6.7</td>\n",
       "      <td>0.0</td>\n",
       "      <td>8000000.0</td>\n",
       "      <td>60000000</td>\n",
       "      <td>True</td>\n",
       "      <td>0</td>\n",
       "    </tr>\n",
       "    <tr>\n",
       "      <th>...</th>\n",
       "      <td>...</td>\n",
       "      <td>...</td>\n",
       "      <td>...</td>\n",
       "      <td>...</td>\n",
       "      <td>...</td>\n",
       "      <td>...</td>\n",
       "      <td>...</td>\n",
       "      <td>...</td>\n",
       "    </tr>\n",
       "    <tr>\n",
       "      <th>9886970</th>\n",
       "      <td>2167746</td>\n",
       "      <td>3000000.0</td>\n",
       "      <td>19.9</td>\n",
       "      <td>0.0</td>\n",
       "      <td>5000000.0</td>\n",
       "      <td>214000000</td>\n",
       "      <td>True</td>\n",
       "      <td>0</td>\n",
       "    </tr>\n",
       "    <tr>\n",
       "      <th>9886973</th>\n",
       "      <td>2167746</td>\n",
       "      <td>3000000.0</td>\n",
       "      <td>19.9</td>\n",
       "      <td>0.0</td>\n",
       "      <td>5000000.0</td>\n",
       "      <td>217000000</td>\n",
       "      <td>True</td>\n",
       "      <td>0</td>\n",
       "    </tr>\n",
       "    <tr>\n",
       "      <th>8720895</th>\n",
       "      <td>2167790</td>\n",
       "      <td>14000000.0</td>\n",
       "      <td>12.8</td>\n",
       "      <td>0.0</td>\n",
       "      <td>10000000.0</td>\n",
       "      <td>14000000</td>\n",
       "      <td>True</td>\n",
       "      <td>0</td>\n",
       "    </tr>\n",
       "    <tr>\n",
       "      <th>8720858</th>\n",
       "      <td>2167790</td>\n",
       "      <td>42000000.0</td>\n",
       "      <td>15.5</td>\n",
       "      <td>0.0</td>\n",
       "      <td>10000000.0</td>\n",
       "      <td>56000000</td>\n",
       "      <td>True</td>\n",
       "      <td>0</td>\n",
       "    </tr>\n",
       "    <tr>\n",
       "      <th>8720868</th>\n",
       "      <td>2167790</td>\n",
       "      <td>23000000.0</td>\n",
       "      <td>15.9</td>\n",
       "      <td>0.0</td>\n",
       "      <td>10000000.0</td>\n",
       "      <td>79000000</td>\n",
       "      <td>True</td>\n",
       "      <td>0</td>\n",
       "    </tr>\n",
       "  </tbody>\n",
       "</table>\n",
       "<p>564486 rows × 8 columns</p>\n",
       "</div>"
      ],
      "text/plain": [
       "          application_id  loan_limit  loan_rate  is_applied  desired_amount  \\\n",
       "10198527              71  13000000.0       16.6         1.0       5000000.0   \n",
       "10052977              92  15000000.0        6.5         0.0       8000000.0   \n",
       "10053008              92  15000000.0        6.5         0.0       8000000.0   \n",
       "10053121              92  15000000.0        6.5         0.0       8000000.0   \n",
       "10052976              92  15000000.0        6.7         0.0       8000000.0   \n",
       "...                  ...         ...        ...         ...             ...   \n",
       "9886970          2167746   3000000.0       19.9         0.0       5000000.0   \n",
       "9886973          2167746   3000000.0       19.9         0.0       5000000.0   \n",
       "8720895          2167790  14000000.0       12.8         0.0      10000000.0   \n",
       "8720858          2167790  42000000.0       15.5         0.0      10000000.0   \n",
       "8720868          2167790  23000000.0       15.9         0.0      10000000.0   \n",
       "\n",
       "                sum  more  predict  \n",
       "10198527   13000000  True        0  \n",
       "10052977   15000000  True        0  \n",
       "10053008   30000000  True        0  \n",
       "10053121   45000000  True        0  \n",
       "10052976   60000000  True        0  \n",
       "...             ...   ...      ...  \n",
       "9886970   214000000  True        0  \n",
       "9886973   217000000  True        0  \n",
       "8720895    14000000  True        0  \n",
       "8720858    56000000  True        0  \n",
       "8720868    79000000  True        0  \n",
       "\n",
       "[564486 rows x 8 columns]"
      ]
     },
     "execution_count": 77,
     "metadata": {},
     "output_type": "execute_result"
    }
   ],
   "source": [
    "zz"
   ]
  },
  {
   "cell_type": "code",
   "execution_count": 78,
   "id": "5e170036",
   "metadata": {},
   "outputs": [],
   "source": [
    "for i in range(1, len(zz)):\n",
    "    if (zz.iloc[i, 0] == zz.iloc[i-1, 0]):\n",
    "        if (not zz.iloc[i, 6]):\n",
    "            zz.iloc[i, 7] = 1\n",
    "        elif (not x.iloc[i-1, 6]):\n",
    "            zz.iloc[i, 7] = 1\n",
    "    else:\n",
    "        zz.iloc[i, 7] = 1"
   ]
  },
  {
   "cell_type": "code",
   "execution_count": 79,
   "id": "bd11a16d",
   "metadata": {},
   "outputs": [],
   "source": [
    "zz.iloc[0, 7] = 1"
   ]
  },
  {
   "cell_type": "code",
   "execution_count": 83,
   "id": "2affb06c",
   "metadata": {},
   "outputs": [],
   "source": [
    "yesindex = zz.loc[zz.predict == 1].index"
   ]
  },
  {
   "cell_type": "code",
   "execution_count": 84,
   "id": "48a68c62",
   "metadata": {},
   "outputs": [
    {
     "data": {
      "text/plain": [
       "Int64Index([10198527, 10052977,  9339932,  8900846,  9279078, 10190467,\n",
       "             9415387,  8624637,  9687876,  8759895,\n",
       "            ...\n",
       "             9113556, 10163552,  8710830,  8905506,  9336169,  9882566,\n",
       "             9902270,  9879289,  9886981,  8720895],\n",
       "           dtype='int64', length=72081)"
      ]
     },
     "execution_count": 84,
     "metadata": {},
     "output_type": "execute_result"
    }
   ],
   "source": [
    "yesindex"
   ]
  },
  {
   "cell_type": "code",
   "execution_count": 85,
   "id": "91e68102",
   "metadata": {},
   "outputs": [],
   "source": [
    "realdata.loc[yesindex, \"predict\"] = 1"
   ]
  },
  {
   "cell_type": "code",
   "execution_count": 87,
   "id": "5629c5d4",
   "metadata": {},
   "outputs": [],
   "source": [
    "from sklearn.metrics import f1_score"
   ]
  },
  {
   "cell_type": "code",
   "execution_count": 88,
   "id": "cb8cd854",
   "metadata": {},
   "outputs": [
    {
     "data": {
      "text/plain": [
       "0.3613211924046529"
      ]
     },
     "execution_count": 88,
     "metadata": {},
     "output_type": "execute_result"
    }
   ],
   "source": [
    "f1_score(realdata.is_applied, realdata.predict)"
   ]
  },
  {
   "cell_type": "code",
   "execution_count": 89,
   "id": "0a680388",
   "metadata": {},
   "outputs": [],
   "source": [
    "from sklearn.metrics import confusion_matrix"
   ]
  },
  {
   "cell_type": "code",
   "execution_count": 91,
   "id": "306da825",
   "metadata": {},
   "outputs": [
    {
     "data": {
      "text/plain": [
       "array([1722149,   39761,   74498,   32320])"
      ]
     },
     "execution_count": 91,
     "metadata": {},
     "output_type": "execute_result"
    }
   ],
   "source": [
    "confusion_matrix(realdata.is_applied, realdata.predict).ravel()"
   ]
  }
 ],
 "metadata": {
  "kernelspec": {
   "display_name": "Python 3 (ipykernel)",
   "language": "python",
   "name": "python3"
  },
  "language_info": {
   "codemirror_mode": {
    "name": "ipython",
    "version": 3
   },
   "file_extension": ".py",
   "mimetype": "text/x-python",
   "name": "python",
   "nbconvert_exporter": "python",
   "pygments_lexer": "ipython3",
   "version": "3.10.6"
  }
 },
 "nbformat": 4,
 "nbformat_minor": 5
}
