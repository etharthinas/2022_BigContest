{
 "cells": [
  {
   "cell_type": "code",
   "execution_count": 1,
   "id": "c68d3144",
   "metadata": {},
   "outputs": [],
   "source": [
    "import pandas as pd\n",
    "import numpy as np"
   ]
  },
  {
   "cell_type": "code",
   "execution_count": 2,
   "id": "9f45631d",
   "metadata": {},
   "outputs": [],
   "source": [
    "data = pd.read_csv(\"learn.csv\")"
   ]
  },
  {
   "cell_type": "code",
   "execution_count": 4,
   "id": "51ecb3b5",
   "metadata": {},
   "outputs": [],
   "source": [
    "rational = pd.read_csv(\"rational_pred2.csv\")"
   ]
  },
  {
   "cell_type": "code",
   "execution_count": 5,
   "id": "44762590",
   "metadata": {},
   "outputs": [],
   "source": [
    "del data[\"Unnamed: 0\"]"
   ]
  },
  {
   "cell_type": "code",
   "execution_count": 6,
   "id": "871c1afe",
   "metadata": {},
   "outputs": [],
   "source": [
    "data.insert_time = pd.to_datetime(data.insert_time)\n",
    "data.company_enter_month = pd.to_datetime(data.company_enter_month)"
   ]
  },
  {
   "cell_type": "code",
   "execution_count": 7,
   "id": "e43e6289",
   "metadata": {},
   "outputs": [],
   "source": [
    "del rational[\"Unnamed: 0\"]"
   ]
  },
  {
   "cell_type": "code",
   "execution_count": 10,
   "id": "13c0bb76",
   "metadata": {},
   "outputs": [],
   "source": [
    "c1 = pd.get_dummies(data.income_type)\n",
    "data = pd.concat([data, c1], axis = 1)"
   ]
  },
  {
   "cell_type": "code",
   "execution_count": 11,
   "id": "713fdd78",
   "metadata": {},
   "outputs": [],
   "source": [
    "del data['income_type']"
   ]
  },
  {
   "cell_type": "code",
   "execution_count": 12,
   "id": "a841cdf3",
   "metadata": {},
   "outputs": [],
   "source": [
    "data = data[[\"application_id\", \"loan_limit\", \"loan_rate\", \"credit_score\", \"company_enter_month\",\"insert_time\",\n",
    "                  \"desired_amount\", \"EARNEDINCOME\", \"is_applied\"]]"
   ]
  },
  {
   "cell_type": "code",
   "execution_count": 14,
   "id": "11a375c0",
   "metadata": {},
   "outputs": [],
   "source": [
    "test_data = data[data['insert_time']>='2022-05-16']\n",
    "train_data = data[data['insert_time']<'2022-05-16']"
   ]
  },
  {
   "cell_type": "code",
   "execution_count": 15,
   "id": "92e908c5",
   "metadata": {},
   "outputs": [
    {
     "name": "stderr",
     "output_type": "stream",
     "text": [
      "/var/folders/mj/jcmvk9nd451b_mnylnj74qrm0000gn/T/ipykernel_3072/3992276412.py:1: FutureWarning: In a future version of pandas all arguments of DataFrame.reset_index except for the argument 'level' will be keyword-only.\n",
      "  test_data = test_data.groupby('application_id').max().reset_index('inplace' == True, 'drop' == True)\n",
      "/var/folders/mj/jcmvk9nd451b_mnylnj74qrm0000gn/T/ipykernel_3072/3992276412.py:2: FutureWarning: In a future version of pandas all arguments of DataFrame.reset_index except for the argument 'level' will be keyword-only.\n",
      "  train_data = train_data.groupby('application_id').max().reset_index('inplace' == True, 'drop' == True)\n"
     ]
    }
   ],
   "source": [
    "test_data = test_data.groupby('application_id').max().reset_index('inplace' == True, 'drop' == True)\n",
    "train_data = train_data.groupby('application_id').max().reset_index('inplace' == True, 'drop' == True)"
   ]
  },
  {
   "cell_type": "code",
   "execution_count": 16,
   "id": "0556ea5f",
   "metadata": {},
   "outputs": [],
   "source": [
    "test_label = test_data[\"is_applied\"]\n",
    "del test_data[\"is_applied\"]"
   ]
  },
  {
   "cell_type": "code",
   "execution_count": 17,
   "id": "cf87cb8e",
   "metadata": {},
   "outputs": [],
   "source": [
    "train_label = train_data[\"is_applied\"]\n",
    "del train_data[\"is_applied\"]"
   ]
  },
  {
   "cell_type": "code",
   "execution_count": 18,
   "id": "4a17a242",
   "metadata": {},
   "outputs": [],
   "source": [
    "from catboost import CatBoostClassifier, Pool"
   ]
  },
  {
   "cell_type": "code",
   "execution_count": 20,
   "id": "a6e7fe20",
   "metadata": {},
   "outputs": [],
   "source": [
    "xxx = data.groupby(\"application_id\").max()\n",
    "k = xxx.is_applied.mean()"
   ]
  },
  {
   "cell_type": "code",
   "execution_count": 21,
   "id": "466b9b76",
   "metadata": {},
   "outputs": [],
   "source": [
    "model = CatBoostClassifier(iterations=2,\n",
    "                           depth=5,\n",
    "                           learning_rate=1,\n",
    "                           loss_function='Logloss',\n",
    "                           verbose=True)"
   ]
  },
  {
   "cell_type": "code",
   "execution_count": 22,
   "id": "cf66ae46",
   "metadata": {},
   "outputs": [],
   "source": [
    "train = Pool(\n",
    "    data = train_data,\n",
    "    label = train_label,\n",
    "    weight = train_label * (1-2*k) + k\n",
    ")"
   ]
  },
  {
   "cell_type": "code",
   "execution_count": 23,
   "id": "e5013f8a",
   "metadata": {},
   "outputs": [
    {
     "name": "stdout",
     "output_type": "stream",
     "text": [
      "0:\tlearn: 0.6663350\ttotal: 78.3ms\tremaining: 78.3ms\n",
      "1:\tlearn: 0.6602777\ttotal: 95.3ms\tremaining: 0us\n"
     ]
    },
    {
     "data": {
      "text/plain": [
       "<catboost.core.CatBoostClassifier at 0x176c3c0a0>"
      ]
     },
     "execution_count": 23,
     "metadata": {},
     "output_type": "execute_result"
    }
   ],
   "source": [
    "model.fit(train)"
   ]
  },
  {
   "cell_type": "code",
   "execution_count": 24,
   "id": "a9201c82",
   "metadata": {},
   "outputs": [],
   "source": [
    "p = model.predict(test_data)"
   ]
  },
  {
   "cell_type": "code",
   "execution_count": 25,
   "id": "a2aea787",
   "metadata": {},
   "outputs": [],
   "source": [
    "z = test_data.copy()"
   ]
  },
  {
   "cell_type": "code",
   "execution_count": 26,
   "id": "c0726c16",
   "metadata": {},
   "outputs": [],
   "source": [
    "z.loc[:, \"predict\"] = p"
   ]
  },
  {
   "cell_type": "code",
   "execution_count": 27,
   "id": "7ce306a8",
   "metadata": {},
   "outputs": [],
   "source": [
    "appyes = z.loc[z.predict == 1, \"application_id\"]"
   ]
  },
  {
   "cell_type": "code",
   "execution_count": 77,
   "id": "988a80b6",
   "metadata": {},
   "outputs": [],
   "source": [
    "zz = data.loc[data.application_id.isin(appyes)]"
   ]
  },
  {
   "cell_type": "code",
   "execution_count": 78,
   "id": "7f038fe9",
   "metadata": {},
   "outputs": [],
   "source": [
    "zz = zz[[\"application_id\", \"loan_limit\", \"loan_rate\", \"is_applied\", \"desired_amount\"]]"
   ]
  },
  {
   "cell_type": "code",
   "execution_count": 79,
   "id": "39979c5d",
   "metadata": {},
   "outputs": [],
   "source": [
    "zz = zz.sort_values(by = [\"application_id\", \"loan_rate\"])"
   ]
  },
  {
   "cell_type": "code",
   "execution_count": 49,
   "id": "0ce06098",
   "metadata": {},
   "outputs": [],
   "source": [
    "realdata = data.loc[data.insert_time >= \"2022-05-16\"]"
   ]
  },
  {
   "cell_type": "code",
   "execution_count": 50,
   "id": "bb664e13",
   "metadata": {},
   "outputs": [
    {
     "name": "stderr",
     "output_type": "stream",
     "text": [
      "/var/folders/mj/jcmvk9nd451b_mnylnj74qrm0000gn/T/ipykernel_3072/3414315939.py:1: SettingWithCopyWarning: \n",
      "A value is trying to be set on a copy of a slice from a DataFrame.\n",
      "Try using .loc[row_indexer,col_indexer] = value instead\n",
      "\n",
      "See the caveats in the documentation: https://pandas.pydata.org/pandas-docs/stable/user_guide/indexing.html#returning-a-view-versus-a-copy\n",
      "  realdata.loc[:, \"predict\"] = 0\n"
     ]
    }
   ],
   "source": [
    "realdata.loc[:, \"predict\"] = 0"
   ]
  },
  {
   "cell_type": "code",
   "execution_count": 80,
   "id": "4014dcf0",
   "metadata": {},
   "outputs": [],
   "source": [
    "zz.loc[:, [\"sum\", \"more\"]] = 0"
   ]
  },
  {
   "cell_type": "code",
   "execution_count": 81,
   "id": "9ca3be87",
   "metadata": {},
   "outputs": [],
   "source": [
    "zz.loc[:, \"predict\"] = 0"
   ]
  },
  {
   "cell_type": "code",
   "execution_count": 82,
   "id": "2d65e8a6",
   "metadata": {},
   "outputs": [],
   "source": [
    "zz.iloc[0, 6] = zz.iloc[0, 1]"
   ]
  },
  {
   "cell_type": "code",
   "execution_count": 83,
   "id": "d76c0c53",
   "metadata": {},
   "outputs": [
    {
     "data": {
      "text/html": [
       "<div>\n",
       "<style scoped>\n",
       "    .dataframe tbody tr th:only-of-type {\n",
       "        vertical-align: middle;\n",
       "    }\n",
       "\n",
       "    .dataframe tbody tr th {\n",
       "        vertical-align: top;\n",
       "    }\n",
       "\n",
       "    .dataframe thead th {\n",
       "        text-align: right;\n",
       "    }\n",
       "</style>\n",
       "<table border=\"1\" class=\"dataframe\">\n",
       "  <thead>\n",
       "    <tr style=\"text-align: right;\">\n",
       "      <th></th>\n",
       "      <th>application_id</th>\n",
       "      <th>loan_limit</th>\n",
       "      <th>loan_rate</th>\n",
       "      <th>is_applied</th>\n",
       "      <th>desired_amount</th>\n",
       "      <th>sum</th>\n",
       "      <th>more</th>\n",
       "      <th>predict</th>\n",
       "    </tr>\n",
       "  </thead>\n",
       "  <tbody>\n",
       "    <tr>\n",
       "      <th>10198527</th>\n",
       "      <td>71</td>\n",
       "      <td>13000000.0</td>\n",
       "      <td>16.6</td>\n",
       "      <td>1.0</td>\n",
       "      <td>5000000.0</td>\n",
       "      <td>0</td>\n",
       "      <td>13000000</td>\n",
       "      <td>0</td>\n",
       "    </tr>\n",
       "    <tr>\n",
       "      <th>10052977</th>\n",
       "      <td>92</td>\n",
       "      <td>15000000.0</td>\n",
       "      <td>6.5</td>\n",
       "      <td>0.0</td>\n",
       "      <td>8000000.0</td>\n",
       "      <td>0</td>\n",
       "      <td>0</td>\n",
       "      <td>0</td>\n",
       "    </tr>\n",
       "    <tr>\n",
       "      <th>10053008</th>\n",
       "      <td>92</td>\n",
       "      <td>15000000.0</td>\n",
       "      <td>6.5</td>\n",
       "      <td>0.0</td>\n",
       "      <td>8000000.0</td>\n",
       "      <td>0</td>\n",
       "      <td>0</td>\n",
       "      <td>0</td>\n",
       "    </tr>\n",
       "    <tr>\n",
       "      <th>10053121</th>\n",
       "      <td>92</td>\n",
       "      <td>15000000.0</td>\n",
       "      <td>6.5</td>\n",
       "      <td>0.0</td>\n",
       "      <td>8000000.0</td>\n",
       "      <td>0</td>\n",
       "      <td>0</td>\n",
       "      <td>0</td>\n",
       "    </tr>\n",
       "    <tr>\n",
       "      <th>10052976</th>\n",
       "      <td>92</td>\n",
       "      <td>15000000.0</td>\n",
       "      <td>6.7</td>\n",
       "      <td>0.0</td>\n",
       "      <td>8000000.0</td>\n",
       "      <td>0</td>\n",
       "      <td>0</td>\n",
       "      <td>0</td>\n",
       "    </tr>\n",
       "    <tr>\n",
       "      <th>...</th>\n",
       "      <td>...</td>\n",
       "      <td>...</td>\n",
       "      <td>...</td>\n",
       "      <td>...</td>\n",
       "      <td>...</td>\n",
       "      <td>...</td>\n",
       "      <td>...</td>\n",
       "      <td>...</td>\n",
       "    </tr>\n",
       "    <tr>\n",
       "      <th>9886970</th>\n",
       "      <td>2167746</td>\n",
       "      <td>3000000.0</td>\n",
       "      <td>19.9</td>\n",
       "      <td>0.0</td>\n",
       "      <td>5000000.0</td>\n",
       "      <td>0</td>\n",
       "      <td>0</td>\n",
       "      <td>0</td>\n",
       "    </tr>\n",
       "    <tr>\n",
       "      <th>9886973</th>\n",
       "      <td>2167746</td>\n",
       "      <td>3000000.0</td>\n",
       "      <td>19.9</td>\n",
       "      <td>0.0</td>\n",
       "      <td>5000000.0</td>\n",
       "      <td>0</td>\n",
       "      <td>0</td>\n",
       "      <td>0</td>\n",
       "    </tr>\n",
       "    <tr>\n",
       "      <th>8720895</th>\n",
       "      <td>2167790</td>\n",
       "      <td>14000000.0</td>\n",
       "      <td>12.8</td>\n",
       "      <td>0.0</td>\n",
       "      <td>10000000.0</td>\n",
       "      <td>0</td>\n",
       "      <td>0</td>\n",
       "      <td>0</td>\n",
       "    </tr>\n",
       "    <tr>\n",
       "      <th>8720858</th>\n",
       "      <td>2167790</td>\n",
       "      <td>42000000.0</td>\n",
       "      <td>15.5</td>\n",
       "      <td>0.0</td>\n",
       "      <td>10000000.0</td>\n",
       "      <td>0</td>\n",
       "      <td>0</td>\n",
       "      <td>0</td>\n",
       "    </tr>\n",
       "    <tr>\n",
       "      <th>8720868</th>\n",
       "      <td>2167790</td>\n",
       "      <td>23000000.0</td>\n",
       "      <td>15.9</td>\n",
       "      <td>0.0</td>\n",
       "      <td>10000000.0</td>\n",
       "      <td>0</td>\n",
       "      <td>0</td>\n",
       "      <td>0</td>\n",
       "    </tr>\n",
       "  </tbody>\n",
       "</table>\n",
       "<p>564486 rows × 8 columns</p>\n",
       "</div>"
      ],
      "text/plain": [
       "          application_id  loan_limit  loan_rate  is_applied  desired_amount  \\\n",
       "10198527              71  13000000.0       16.6         1.0       5000000.0   \n",
       "10052977              92  15000000.0        6.5         0.0       8000000.0   \n",
       "10053008              92  15000000.0        6.5         0.0       8000000.0   \n",
       "10053121              92  15000000.0        6.5         0.0       8000000.0   \n",
       "10052976              92  15000000.0        6.7         0.0       8000000.0   \n",
       "...                  ...         ...        ...         ...             ...   \n",
       "9886970          2167746   3000000.0       19.9         0.0       5000000.0   \n",
       "9886973          2167746   3000000.0       19.9         0.0       5000000.0   \n",
       "8720895          2167790  14000000.0       12.8         0.0      10000000.0   \n",
       "8720858          2167790  42000000.0       15.5         0.0      10000000.0   \n",
       "8720868          2167790  23000000.0       15.9         0.0      10000000.0   \n",
       "\n",
       "          sum      more  predict  \n",
       "10198527    0  13000000        0  \n",
       "10052977    0         0        0  \n",
       "10053008    0         0        0  \n",
       "10053121    0         0        0  \n",
       "10052976    0         0        0  \n",
       "...       ...       ...      ...  \n",
       "9886970     0         0        0  \n",
       "9886973     0         0        0  \n",
       "8720895     0         0        0  \n",
       "8720858     0         0        0  \n",
       "8720868     0         0        0  \n",
       "\n",
       "[564486 rows x 8 columns]"
      ]
     },
     "execution_count": 83,
     "metadata": {},
     "output_type": "execute_result"
    }
   ],
   "source": [
    "zz"
   ]
  },
  {
   "cell_type": "code",
   "execution_count": 86,
   "id": "a334be21",
   "metadata": {},
   "outputs": [],
   "source": [
    "for i in range (1, len(zz)):\n",
    "    zz.iloc[i, 5] = zz.iloc[i, 1]\n",
    "    if (zz.iloc[i, 0] == zz.iloc[i-1, 0]):\n",
    "        zz.iloc[i, 5] += zz.iloc[i-1, 5]"
   ]
  },
  {
   "cell_type": "code",
   "execution_count": 87,
   "id": "673a9f6c",
   "metadata": {},
   "outputs": [],
   "source": [
    "zz.loc[:,\"predict\"] = 0"
   ]
  },
  {
   "cell_type": "code",
   "execution_count": 88,
   "id": "396b5a54",
   "metadata": {},
   "outputs": [],
   "source": [
    "zz[\"more\"] = zz[\"sum\"] > zz.desired_amount"
   ]
  },
  {
   "cell_type": "code",
   "execution_count": 89,
   "id": "8173eead",
   "metadata": {},
   "outputs": [],
   "source": [
    "for i in range(2, len(zz)):\n",
    "    if (zz.iloc[i, 0] == zz.iloc[i-1, 0]):\n",
    "        if (not zz.iloc[i, 6]):\n",
    "            zz.iloc[i, 7] = 1\n",
    "        elif (not zz.iloc[i-1, 6]):\n",
    "            zz.iloc[i, 7] = 1\n",
    "        elif (not data.iloc[i-2, 6]):\n",
    "            data.iloc[i, 7] = 1\n",
    "    else:\n",
    "        zz.iloc[i, 7] = 1"
   ]
  },
  {
   "cell_type": "code",
   "execution_count": null,
   "id": "8a61d1b8",
   "metadata": {},
   "outputs": [],
   "source": []
  },
  {
   "cell_type": "code",
   "execution_count": 91,
   "id": "c3cfe341",
   "metadata": {},
   "outputs": [
    {
     "data": {
      "text/plain": [
       "85699"
      ]
     },
     "execution_count": 91,
     "metadata": {},
     "output_type": "execute_result"
    }
   ],
   "source": [
    "zz.predict.sum()"
   ]
  },
  {
   "cell_type": "code",
   "execution_count": 92,
   "id": "8af4b8f6",
   "metadata": {},
   "outputs": [],
   "source": [
    "zz.iloc[0, 7] = 1\n",
    "zz.iloc[1, 7] = 1"
   ]
  },
  {
   "cell_type": "code",
   "execution_count": 68,
   "id": "168f89f7",
   "metadata": {},
   "outputs": [],
   "source": [
    "from sklearn.metrics import f1_score, confusion_matrix"
   ]
  },
  {
   "cell_type": "code",
   "execution_count": 93,
   "id": "de79d483",
   "metadata": {},
   "outputs": [
    {
     "data": {
      "text/plain": [
       "0.4790443922740369"
      ]
     },
     "execution_count": 93,
     "metadata": {},
     "output_type": "execute_result"
    }
   ],
   "source": [
    "f1_score(zz.is_applied, zz.predict)"
   ]
  },
  {
   "cell_type": "code",
   "execution_count": 95,
   "id": "699209e4",
   "metadata": {},
   "outputs": [],
   "source": [
    "yesindex = zz.loc[zz.predict == 1].index"
   ]
  },
  {
   "cell_type": "code",
   "execution_count": 96,
   "id": "0f8002a8",
   "metadata": {},
   "outputs": [],
   "source": [
    "realdata.loc[yesindex, \"predict\"] = 1"
   ]
  },
  {
   "cell_type": "code",
   "execution_count": 97,
   "id": "e1c40f16",
   "metadata": {},
   "outputs": [
    {
     "data": {
      "text/plain": [
       "0.37308525392298936"
      ]
     },
     "execution_count": 97,
     "metadata": {},
     "output_type": "execute_result"
    }
   ],
   "source": [
    "f1_score(realdata.is_applied, realdata.predict)"
   ]
  },
  {
   "cell_type": "code",
   "execution_count": 98,
   "id": "c65f6103",
   "metadata": {},
   "outputs": [
    {
     "data": {
      "text/plain": [
       "array([1712122,   49788,   70905,   35913])"
      ]
     },
     "execution_count": 98,
     "metadata": {},
     "output_type": "execute_result"
    }
   ],
   "source": [
    "confusion_matrix(realdata.is_applied, realdata.predict).ravel()"
   ]
  }
 ],
 "metadata": {
  "kernelspec": {
   "display_name": "Python 3 (ipykernel)",
   "language": "python",
   "name": "python3"
  },
  "language_info": {
   "codemirror_mode": {
    "name": "ipython",
    "version": 3
   },
   "file_extension": ".py",
   "mimetype": "text/x-python",
   "name": "python",
   "nbconvert_exporter": "python",
   "pygments_lexer": "ipython3",
   "version": "3.10.6"
  }
 },
 "nbformat": 4,
 "nbformat_minor": 5
}
