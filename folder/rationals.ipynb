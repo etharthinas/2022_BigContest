{
 "cells": [
  {
   "cell_type": "code",
   "execution_count": 1,
   "id": "65960e5a",
   "metadata": {},
   "outputs": [],
   "source": [
    "import pandas as pd\n",
    "import numpy as np"
   ]
  },
  {
   "cell_type": "code",
   "execution_count": 2,
   "id": "710e19b4",
   "metadata": {},
   "outputs": [],
   "source": [
    "data = pd.read_csv(\"learn.csv\")"
   ]
  },
  {
   "cell_type": "code",
   "execution_count": 3,
   "id": "11b12508",
   "metadata": {},
   "outputs": [],
   "source": [
    "del data[\"Unnamed: 0\"]"
   ]
  },
  {
   "cell_type": "code",
   "execution_count": 4,
   "id": "ec04354d",
   "metadata": {},
   "outputs": [],
   "source": [
    "data.insert_time = pd.to_datetime(data.insert_time)\n",
    "data.company_enter_month = pd.to_datetime(data.company_enter_month)"
   ]
  },
  {
   "cell_type": "code",
   "execution_count": 36,
   "id": "9ea91301",
   "metadata": {},
   "outputs": [],
   "source": [
    "x = data.copy()"
   ]
  },
  {
   "cell_type": "code",
   "execution_count": 37,
   "id": "d72790dc",
   "metadata": {},
   "outputs": [],
   "source": [
    "c1 = pd.get_dummies(x.income_type)"
   ]
  },
  {
   "cell_type": "code",
   "execution_count": 38,
   "id": "666e84e5",
   "metadata": {},
   "outputs": [],
   "source": [
    "x = pd.concat([x, c1], axis = 1)"
   ]
  },
  {
   "cell_type": "code",
   "execution_count": 39,
   "id": "3ef3975d",
   "metadata": {},
   "outputs": [],
   "source": [
    "del x['income_type']"
   ]
  },
  {
   "cell_type": "code",
   "execution_count": 40,
   "id": "6fee0e2f",
   "metadata": {},
   "outputs": [],
   "source": [
    "x = x[[\"application_id\", \"loan_limit\", \"loan_rate\", \"credit_score\", \"company_enter_month\",\"insert_time\",\n",
    "                  \"desired_amount\", \"EARNEDINCOME\", \"is_applied\"]]"
   ]
  },
  {
   "cell_type": "code",
   "execution_count": 10,
   "id": "b1a532dc",
   "metadata": {},
   "outputs": [],
   "source": [
    "y = x.groupby(\"application_id\").max()"
   ]
  },
  {
   "cell_type": "code",
   "execution_count": 11,
   "id": "e9e752ce",
   "metadata": {},
   "outputs": [],
   "source": [
    "y = y.loc[y.is_applied == 1]"
   ]
  },
  {
   "cell_type": "code",
   "execution_count": 12,
   "id": "35b35961",
   "metadata": {},
   "outputs": [],
   "source": [
    "appyes = y.index "
   ]
  },
  {
   "cell_type": "code",
   "execution_count": 41,
   "id": "d13edb97",
   "metadata": {},
   "outputs": [],
   "source": [
    "x = x.loc[x.application_id.isin(appyes)]"
   ]
  },
  {
   "cell_type": "code",
   "execution_count": 42,
   "id": "0e85502c",
   "metadata": {},
   "outputs": [],
   "source": [
    "x = x.sort_values(by = \"application_id\")"
   ]
  },
  {
   "cell_type": "code",
   "execution_count": 43,
   "id": "e2dc5c83",
   "metadata": {},
   "outputs": [],
   "source": [
    "x[\"predict\"] = 0"
   ]
  },
  {
   "cell_type": "code",
   "execution_count": 44,
   "id": "0e980dfe",
   "metadata": {},
   "outputs": [],
   "source": [
    "x = x.sort_values(by = [\"application_id\", \"loan_rate\"], ascending = [True, True])"
   ]
  },
  {
   "cell_type": "code",
   "execution_count": 45,
   "id": "d188a4da",
   "metadata": {},
   "outputs": [],
   "source": [
    "x[\"more\"] = False"
   ]
  },
  {
   "cell_type": "code",
   "execution_count": 46,
   "id": "3d881cd4",
   "metadata": {},
   "outputs": [],
   "source": [
    "x[\"sum\"] = 0"
   ]
  },
  {
   "cell_type": "code",
   "execution_count": 47,
   "id": "1668897a",
   "metadata": {},
   "outputs": [],
   "source": [
    "x.iloc[0, 11] = x.iloc[0, 1]"
   ]
  },
  {
   "cell_type": "code",
   "execution_count": 48,
   "id": "5d480320",
   "metadata": {},
   "outputs": [
    {
     "data": {
      "text/html": [
       "<div>\n",
       "<style scoped>\n",
       "    .dataframe tbody tr th:only-of-type {\n",
       "        vertical-align: middle;\n",
       "    }\n",
       "\n",
       "    .dataframe tbody tr th {\n",
       "        vertical-align: top;\n",
       "    }\n",
       "\n",
       "    .dataframe thead th {\n",
       "        text-align: right;\n",
       "    }\n",
       "</style>\n",
       "<table border=\"1\" class=\"dataframe\">\n",
       "  <thead>\n",
       "    <tr style=\"text-align: right;\">\n",
       "      <th></th>\n",
       "      <th>application_id</th>\n",
       "      <th>loan_limit</th>\n",
       "      <th>loan_rate</th>\n",
       "      <th>credit_score</th>\n",
       "      <th>company_enter_month</th>\n",
       "      <th>insert_time</th>\n",
       "      <th>desired_amount</th>\n",
       "      <th>EARNEDINCOME</th>\n",
       "      <th>is_applied</th>\n",
       "      <th>predict</th>\n",
       "      <th>more</th>\n",
       "      <th>sum</th>\n",
       "    </tr>\n",
       "  </thead>\n",
       "  <tbody>\n",
       "    <tr>\n",
       "      <th>4955966</th>\n",
       "      <td>14</td>\n",
       "      <td>12000000.0</td>\n",
       "      <td>6.6</td>\n",
       "      <td>590.0</td>\n",
       "      <td>2021-06-01</td>\n",
       "      <td>2022-04-15 01:02:52</td>\n",
       "      <td>20000000.0</td>\n",
       "      <td>1</td>\n",
       "      <td>1.0</td>\n",
       "      <td>0</td>\n",
       "      <td>False</td>\n",
       "      <td>12000000</td>\n",
       "    </tr>\n",
       "    <tr>\n",
       "      <th>4955883</th>\n",
       "      <td>14</td>\n",
       "      <td>12000000.0</td>\n",
       "      <td>6.6</td>\n",
       "      <td>590.0</td>\n",
       "      <td>2021-06-01</td>\n",
       "      <td>2022-04-15 01:02:52</td>\n",
       "      <td>20000000.0</td>\n",
       "      <td>1</td>\n",
       "      <td>1.0</td>\n",
       "      <td>0</td>\n",
       "      <td>False</td>\n",
       "      <td>0</td>\n",
       "    </tr>\n",
       "    <tr>\n",
       "      <th>4955890</th>\n",
       "      <td>14</td>\n",
       "      <td>12000000.0</td>\n",
       "      <td>7.1</td>\n",
       "      <td>590.0</td>\n",
       "      <td>2021-06-01</td>\n",
       "      <td>2022-04-15 01:02:52</td>\n",
       "      <td>20000000.0</td>\n",
       "      <td>1</td>\n",
       "      <td>0.0</td>\n",
       "      <td>0</td>\n",
       "      <td>False</td>\n",
       "      <td>0</td>\n",
       "    </tr>\n",
       "    <tr>\n",
       "      <th>4955887</th>\n",
       "      <td>14</td>\n",
       "      <td>12000000.0</td>\n",
       "      <td>7.9</td>\n",
       "      <td>590.0</td>\n",
       "      <td>2021-06-01</td>\n",
       "      <td>2022-04-15 01:02:52</td>\n",
       "      <td>20000000.0</td>\n",
       "      <td>1</td>\n",
       "      <td>0.0</td>\n",
       "      <td>0</td>\n",
       "      <td>False</td>\n",
       "      <td>0</td>\n",
       "    </tr>\n",
       "    <tr>\n",
       "      <th>4955970</th>\n",
       "      <td>14</td>\n",
       "      <td>12000000.0</td>\n",
       "      <td>8.0</td>\n",
       "      <td>590.0</td>\n",
       "      <td>2021-06-01</td>\n",
       "      <td>2022-04-15 01:02:52</td>\n",
       "      <td>20000000.0</td>\n",
       "      <td>1</td>\n",
       "      <td>0.0</td>\n",
       "      <td>0</td>\n",
       "      <td>False</td>\n",
       "      <td>0</td>\n",
       "    </tr>\n",
       "    <tr>\n",
       "      <th>...</th>\n",
       "      <td>...</td>\n",
       "      <td>...</td>\n",
       "      <td>...</td>\n",
       "      <td>...</td>\n",
       "      <td>...</td>\n",
       "      <td>...</td>\n",
       "      <td>...</td>\n",
       "      <td>...</td>\n",
       "      <td>...</td>\n",
       "      <td>...</td>\n",
       "      <td>...</td>\n",
       "      <td>...</td>\n",
       "    </tr>\n",
       "    <tr>\n",
       "      <th>2591389</th>\n",
       "      <td>2167826</td>\n",
       "      <td>22000000.0</td>\n",
       "      <td>16.9</td>\n",
       "      <td>560.0</td>\n",
       "      <td>2017-05-01</td>\n",
       "      <td>2022-03-25 11:57:48</td>\n",
       "      <td>5000000.0</td>\n",
       "      <td>1</td>\n",
       "      <td>0.0</td>\n",
       "      <td>0</td>\n",
       "      <td>False</td>\n",
       "      <td>0</td>\n",
       "    </tr>\n",
       "    <tr>\n",
       "      <th>2591428</th>\n",
       "      <td>2167826</td>\n",
       "      <td>22000000.0</td>\n",
       "      <td>16.9</td>\n",
       "      <td>560.0</td>\n",
       "      <td>2017-05-01</td>\n",
       "      <td>2022-03-25 11:57:48</td>\n",
       "      <td>5000000.0</td>\n",
       "      <td>1</td>\n",
       "      <td>0.0</td>\n",
       "      <td>0</td>\n",
       "      <td>False</td>\n",
       "      <td>0</td>\n",
       "    </tr>\n",
       "    <tr>\n",
       "      <th>2591393</th>\n",
       "      <td>2167826</td>\n",
       "      <td>13000000.0</td>\n",
       "      <td>17.4</td>\n",
       "      <td>560.0</td>\n",
       "      <td>2017-05-01</td>\n",
       "      <td>2022-03-25 11:57:48</td>\n",
       "      <td>5000000.0</td>\n",
       "      <td>1</td>\n",
       "      <td>1.0</td>\n",
       "      <td>0</td>\n",
       "      <td>False</td>\n",
       "      <td>0</td>\n",
       "    </tr>\n",
       "    <tr>\n",
       "      <th>2591390</th>\n",
       "      <td>2167826</td>\n",
       "      <td>5000000.0</td>\n",
       "      <td>18.7</td>\n",
       "      <td>560.0</td>\n",
       "      <td>2017-05-01</td>\n",
       "      <td>2022-03-25 11:57:48</td>\n",
       "      <td>5000000.0</td>\n",
       "      <td>1</td>\n",
       "      <td>0.0</td>\n",
       "      <td>0</td>\n",
       "      <td>False</td>\n",
       "      <td>0</td>\n",
       "    </tr>\n",
       "    <tr>\n",
       "      <th>2591391</th>\n",
       "      <td>2167826</td>\n",
       "      <td>20000000.0</td>\n",
       "      <td>19.9</td>\n",
       "      <td>560.0</td>\n",
       "      <td>2017-05-01</td>\n",
       "      <td>2022-03-25 11:57:48</td>\n",
       "      <td>5000000.0</td>\n",
       "      <td>1</td>\n",
       "      <td>0.0</td>\n",
       "      <td>0</td>\n",
       "      <td>False</td>\n",
       "      <td>0</td>\n",
       "    </tr>\n",
       "  </tbody>\n",
       "</table>\n",
       "<p>4763080 rows × 12 columns</p>\n",
       "</div>"
      ],
      "text/plain": [
       "         application_id  loan_limit  loan_rate  credit_score  \\\n",
       "4955966              14  12000000.0        6.6         590.0   \n",
       "4955883              14  12000000.0        6.6         590.0   \n",
       "4955890              14  12000000.0        7.1         590.0   \n",
       "4955887              14  12000000.0        7.9         590.0   \n",
       "4955970              14  12000000.0        8.0         590.0   \n",
       "...                 ...         ...        ...           ...   \n",
       "2591389         2167826  22000000.0       16.9         560.0   \n",
       "2591428         2167826  22000000.0       16.9         560.0   \n",
       "2591393         2167826  13000000.0       17.4         560.0   \n",
       "2591390         2167826   5000000.0       18.7         560.0   \n",
       "2591391         2167826  20000000.0       19.9         560.0   \n",
       "\n",
       "        company_enter_month         insert_time  desired_amount  EARNEDINCOME  \\\n",
       "4955966          2021-06-01 2022-04-15 01:02:52      20000000.0             1   \n",
       "4955883          2021-06-01 2022-04-15 01:02:52      20000000.0             1   \n",
       "4955890          2021-06-01 2022-04-15 01:02:52      20000000.0             1   \n",
       "4955887          2021-06-01 2022-04-15 01:02:52      20000000.0             1   \n",
       "4955970          2021-06-01 2022-04-15 01:02:52      20000000.0             1   \n",
       "...                     ...                 ...             ...           ...   \n",
       "2591389          2017-05-01 2022-03-25 11:57:48       5000000.0             1   \n",
       "2591428          2017-05-01 2022-03-25 11:57:48       5000000.0             1   \n",
       "2591393          2017-05-01 2022-03-25 11:57:48       5000000.0             1   \n",
       "2591390          2017-05-01 2022-03-25 11:57:48       5000000.0             1   \n",
       "2591391          2017-05-01 2022-03-25 11:57:48       5000000.0             1   \n",
       "\n",
       "         is_applied  predict   more       sum  \n",
       "4955966         1.0        0  False  12000000  \n",
       "4955883         1.0        0  False         0  \n",
       "4955890         0.0        0  False         0  \n",
       "4955887         0.0        0  False         0  \n",
       "4955970         0.0        0  False         0  \n",
       "...             ...      ...    ...       ...  \n",
       "2591389         0.0        0  False         0  \n",
       "2591428         0.0        0  False         0  \n",
       "2591393         1.0        0  False         0  \n",
       "2591390         0.0        0  False         0  \n",
       "2591391         0.0        0  False         0  \n",
       "\n",
       "[4763080 rows x 12 columns]"
      ]
     },
     "execution_count": 48,
     "metadata": {},
     "output_type": "execute_result"
    }
   ],
   "source": [
    "x"
   ]
  },
  {
   "cell_type": "code",
   "execution_count": 49,
   "id": "31edf30d",
   "metadata": {},
   "outputs": [],
   "source": [
    "for i in range (1, len(x)):\n",
    "    x.iloc[i, 11] = x.iloc[i, 1]\n",
    "    if (x.iloc[i, 0] == x.iloc[i-1, 0]):\n",
    "        x.iloc[i, 11] += x.iloc[i-1, 11]"
   ]
  },
  {
   "cell_type": "code",
   "execution_count": 53,
   "id": "331ca3b9",
   "metadata": {},
   "outputs": [],
   "source": [
    "x[\"more\"] = x[\"sum\"] > x.desired_amount"
   ]
  },
  {
   "cell_type": "code",
   "execution_count": 64,
   "id": "c0ef6a21",
   "metadata": {},
   "outputs": [],
   "source": [
    "x.iloc[0, 9] = 1"
   ]
  },
  {
   "cell_type": "code",
   "execution_count": 69,
   "id": "3cfc7662",
   "metadata": {},
   "outputs": [],
   "source": [
    "for i in range(1, len(x)):\n",
    "    if (x.iloc[i, 0] == x.iloc[i-1, 0]):\n",
    "        if (not x.iloc[i, 10]):\n",
    "            x.iloc[i, 9] = 1\n",
    "        elif (not x.iloc[i-1, 10]):\n",
    "            x.iloc[i, 9] = 1\n",
    "    else:\n",
    "        x.iloc[i, 9] = 1"
   ]
  },
  {
   "cell_type": "code",
   "execution_count": 71,
   "id": "c901d59c",
   "metadata": {},
   "outputs": [],
   "source": [
    "x.to_csv(\"rational_pred.csv\")"
   ]
  },
  {
   "cell_type": "code",
   "execution_count": 72,
   "id": "b3420b91",
   "metadata": {},
   "outputs": [],
   "source": [
    "from sklearn.metrics import f1_score"
   ]
  },
  {
   "cell_type": "code",
   "execution_count": 73,
   "id": "1cda8704",
   "metadata": {},
   "outputs": [
    {
     "data": {
      "text/html": [
       "<div>\n",
       "<style scoped>\n",
       "    .dataframe tbody tr th:only-of-type {\n",
       "        vertical-align: middle;\n",
       "    }\n",
       "\n",
       "    .dataframe tbody tr th {\n",
       "        vertical-align: top;\n",
       "    }\n",
       "\n",
       "    .dataframe thead th {\n",
       "        text-align: right;\n",
       "    }\n",
       "</style>\n",
       "<table border=\"1\" class=\"dataframe\">\n",
       "  <thead>\n",
       "    <tr style=\"text-align: right;\">\n",
       "      <th></th>\n",
       "      <th>application_id</th>\n",
       "      <th>loan_limit</th>\n",
       "      <th>loan_rate</th>\n",
       "      <th>credit_score</th>\n",
       "      <th>company_enter_month</th>\n",
       "      <th>insert_time</th>\n",
       "      <th>desired_amount</th>\n",
       "      <th>EARNEDINCOME</th>\n",
       "      <th>is_applied</th>\n",
       "      <th>predict</th>\n",
       "      <th>more</th>\n",
       "      <th>sum</th>\n",
       "    </tr>\n",
       "  </thead>\n",
       "  <tbody>\n",
       "    <tr>\n",
       "      <th>4955966</th>\n",
       "      <td>14</td>\n",
       "      <td>12000000.0</td>\n",
       "      <td>6.6</td>\n",
       "      <td>590.0</td>\n",
       "      <td>2021-06-01</td>\n",
       "      <td>2022-04-15 01:02:52</td>\n",
       "      <td>20000000.0</td>\n",
       "      <td>1</td>\n",
       "      <td>1.0</td>\n",
       "      <td>1</td>\n",
       "      <td>False</td>\n",
       "      <td>12000000</td>\n",
       "    </tr>\n",
       "    <tr>\n",
       "      <th>4955883</th>\n",
       "      <td>14</td>\n",
       "      <td>12000000.0</td>\n",
       "      <td>6.6</td>\n",
       "      <td>590.0</td>\n",
       "      <td>2021-06-01</td>\n",
       "      <td>2022-04-15 01:02:52</td>\n",
       "      <td>20000000.0</td>\n",
       "      <td>1</td>\n",
       "      <td>1.0</td>\n",
       "      <td>1</td>\n",
       "      <td>True</td>\n",
       "      <td>24000000</td>\n",
       "    </tr>\n",
       "    <tr>\n",
       "      <th>4955890</th>\n",
       "      <td>14</td>\n",
       "      <td>12000000.0</td>\n",
       "      <td>7.1</td>\n",
       "      <td>590.0</td>\n",
       "      <td>2021-06-01</td>\n",
       "      <td>2022-04-15 01:02:52</td>\n",
       "      <td>20000000.0</td>\n",
       "      <td>1</td>\n",
       "      <td>0.0</td>\n",
       "      <td>0</td>\n",
       "      <td>True</td>\n",
       "      <td>36000000</td>\n",
       "    </tr>\n",
       "    <tr>\n",
       "      <th>4955887</th>\n",
       "      <td>14</td>\n",
       "      <td>12000000.0</td>\n",
       "      <td>7.9</td>\n",
       "      <td>590.0</td>\n",
       "      <td>2021-06-01</td>\n",
       "      <td>2022-04-15 01:02:52</td>\n",
       "      <td>20000000.0</td>\n",
       "      <td>1</td>\n",
       "      <td>0.0</td>\n",
       "      <td>0</td>\n",
       "      <td>True</td>\n",
       "      <td>48000000</td>\n",
       "    </tr>\n",
       "    <tr>\n",
       "      <th>4955970</th>\n",
       "      <td>14</td>\n",
       "      <td>12000000.0</td>\n",
       "      <td>8.0</td>\n",
       "      <td>590.0</td>\n",
       "      <td>2021-06-01</td>\n",
       "      <td>2022-04-15 01:02:52</td>\n",
       "      <td>20000000.0</td>\n",
       "      <td>1</td>\n",
       "      <td>0.0</td>\n",
       "      <td>0</td>\n",
       "      <td>True</td>\n",
       "      <td>60000000</td>\n",
       "    </tr>\n",
       "    <tr>\n",
       "      <th>...</th>\n",
       "      <td>...</td>\n",
       "      <td>...</td>\n",
       "      <td>...</td>\n",
       "      <td>...</td>\n",
       "      <td>...</td>\n",
       "      <td>...</td>\n",
       "      <td>...</td>\n",
       "      <td>...</td>\n",
       "      <td>...</td>\n",
       "      <td>...</td>\n",
       "      <td>...</td>\n",
       "      <td>...</td>\n",
       "    </tr>\n",
       "    <tr>\n",
       "      <th>2591389</th>\n",
       "      <td>2167826</td>\n",
       "      <td>22000000.0</td>\n",
       "      <td>16.9</td>\n",
       "      <td>560.0</td>\n",
       "      <td>2017-05-01</td>\n",
       "      <td>2022-03-25 11:57:48</td>\n",
       "      <td>5000000.0</td>\n",
       "      <td>1</td>\n",
       "      <td>0.0</td>\n",
       "      <td>1</td>\n",
       "      <td>True</td>\n",
       "      <td>22000000</td>\n",
       "    </tr>\n",
       "    <tr>\n",
       "      <th>2591428</th>\n",
       "      <td>2167826</td>\n",
       "      <td>22000000.0</td>\n",
       "      <td>16.9</td>\n",
       "      <td>560.0</td>\n",
       "      <td>2017-05-01</td>\n",
       "      <td>2022-03-25 11:57:48</td>\n",
       "      <td>5000000.0</td>\n",
       "      <td>1</td>\n",
       "      <td>0.0</td>\n",
       "      <td>0</td>\n",
       "      <td>True</td>\n",
       "      <td>44000000</td>\n",
       "    </tr>\n",
       "    <tr>\n",
       "      <th>2591393</th>\n",
       "      <td>2167826</td>\n",
       "      <td>13000000.0</td>\n",
       "      <td>17.4</td>\n",
       "      <td>560.0</td>\n",
       "      <td>2017-05-01</td>\n",
       "      <td>2022-03-25 11:57:48</td>\n",
       "      <td>5000000.0</td>\n",
       "      <td>1</td>\n",
       "      <td>1.0</td>\n",
       "      <td>0</td>\n",
       "      <td>True</td>\n",
       "      <td>57000000</td>\n",
       "    </tr>\n",
       "    <tr>\n",
       "      <th>2591390</th>\n",
       "      <td>2167826</td>\n",
       "      <td>5000000.0</td>\n",
       "      <td>18.7</td>\n",
       "      <td>560.0</td>\n",
       "      <td>2017-05-01</td>\n",
       "      <td>2022-03-25 11:57:48</td>\n",
       "      <td>5000000.0</td>\n",
       "      <td>1</td>\n",
       "      <td>0.0</td>\n",
       "      <td>0</td>\n",
       "      <td>True</td>\n",
       "      <td>62000000</td>\n",
       "    </tr>\n",
       "    <tr>\n",
       "      <th>2591391</th>\n",
       "      <td>2167826</td>\n",
       "      <td>20000000.0</td>\n",
       "      <td>19.9</td>\n",
       "      <td>560.0</td>\n",
       "      <td>2017-05-01</td>\n",
       "      <td>2022-03-25 11:57:48</td>\n",
       "      <td>5000000.0</td>\n",
       "      <td>1</td>\n",
       "      <td>0.0</td>\n",
       "      <td>0</td>\n",
       "      <td>True</td>\n",
       "      <td>82000000</td>\n",
       "    </tr>\n",
       "  </tbody>\n",
       "</table>\n",
       "<p>4763080 rows × 12 columns</p>\n",
       "</div>"
      ],
      "text/plain": [
       "         application_id  loan_limit  loan_rate  credit_score  \\\n",
       "4955966              14  12000000.0        6.6         590.0   \n",
       "4955883              14  12000000.0        6.6         590.0   \n",
       "4955890              14  12000000.0        7.1         590.0   \n",
       "4955887              14  12000000.0        7.9         590.0   \n",
       "4955970              14  12000000.0        8.0         590.0   \n",
       "...                 ...         ...        ...           ...   \n",
       "2591389         2167826  22000000.0       16.9         560.0   \n",
       "2591428         2167826  22000000.0       16.9         560.0   \n",
       "2591393         2167826  13000000.0       17.4         560.0   \n",
       "2591390         2167826   5000000.0       18.7         560.0   \n",
       "2591391         2167826  20000000.0       19.9         560.0   \n",
       "\n",
       "        company_enter_month         insert_time  desired_amount  EARNEDINCOME  \\\n",
       "4955966          2021-06-01 2022-04-15 01:02:52      20000000.0             1   \n",
       "4955883          2021-06-01 2022-04-15 01:02:52      20000000.0             1   \n",
       "4955890          2021-06-01 2022-04-15 01:02:52      20000000.0             1   \n",
       "4955887          2021-06-01 2022-04-15 01:02:52      20000000.0             1   \n",
       "4955970          2021-06-01 2022-04-15 01:02:52      20000000.0             1   \n",
       "...                     ...                 ...             ...           ...   \n",
       "2591389          2017-05-01 2022-03-25 11:57:48       5000000.0             1   \n",
       "2591428          2017-05-01 2022-03-25 11:57:48       5000000.0             1   \n",
       "2591393          2017-05-01 2022-03-25 11:57:48       5000000.0             1   \n",
       "2591390          2017-05-01 2022-03-25 11:57:48       5000000.0             1   \n",
       "2591391          2017-05-01 2022-03-25 11:57:48       5000000.0             1   \n",
       "\n",
       "         is_applied  predict   more       sum  \n",
       "4955966         1.0        1  False  12000000  \n",
       "4955883         1.0        1   True  24000000  \n",
       "4955890         0.0        0   True  36000000  \n",
       "4955887         0.0        0   True  48000000  \n",
       "4955970         0.0        0   True  60000000  \n",
       "...             ...      ...    ...       ...  \n",
       "2591389         0.0        1   True  22000000  \n",
       "2591428         0.0        0   True  44000000  \n",
       "2591393         1.0        0   True  57000000  \n",
       "2591390         0.0        0   True  62000000  \n",
       "2591391         0.0        0   True  82000000  \n",
       "\n",
       "[4763080 rows x 12 columns]"
      ]
     },
     "execution_count": 73,
     "metadata": {},
     "output_type": "execute_result"
    }
   ],
   "source": [
    "x"
   ]
  },
  {
   "cell_type": "code",
   "execution_count": 107,
   "id": "2582b46c",
   "metadata": {},
   "outputs": [],
   "source": [
    "x[\"weird\"] = (x.is_applied - x.predict == 1)"
   ]
  },
  {
   "cell_type": "code",
   "execution_count": 110,
   "id": "5173eed8",
   "metadata": {},
   "outputs": [
    {
     "data": {
      "text/plain": [
       "230642"
      ]
     },
     "execution_count": 110,
     "metadata": {},
     "output_type": "execute_result"
    }
   ],
   "source": [
    "x[\"weird\"].sum()"
   ]
  },
  {
   "cell_type": "code",
   "execution_count": 202,
   "id": "57d52e7f",
   "metadata": {},
   "outputs": [],
   "source": [
    "y = x.loc[x.weird]"
   ]
  },
  {
   "cell_type": "code",
   "execution_count": 204,
   "id": "949d4887",
   "metadata": {},
   "outputs": [],
   "source": [
    "weirdid = y.index"
   ]
  },
  {
   "cell_type": "code",
   "execution_count": 206,
   "id": "5382b7b3",
   "metadata": {},
   "outputs": [],
   "source": [
    "d = data.loc[weirdid]"
   ]
  },
  {
   "cell_type": "code",
   "execution_count": 208,
   "id": "9c466961",
   "metadata": {},
   "outputs": [],
   "source": [
    "d.to_csv(\"이상한놈들.csv\")"
   ]
  },
  {
   "cell_type": "code",
   "execution_count": 151,
   "id": "a7c1a275",
   "metadata": {},
   "outputs": [],
   "source": [
    "model2 = CatBoostClassifier(iterations=2,\n",
    "                           depth=5,\n",
    "                           learning_rate=1,\n",
    "                           loss_function='Logloss',\n",
    "                           verbose=True)"
   ]
  },
  {
   "cell_type": "code",
   "execution_count": 153,
   "id": "21f90cfa",
   "metadata": {},
   "outputs": [],
   "source": [
    "del x[\"application_id\"]\n",
    "del x[\"more\"]\n",
    "del x[\"sum\"]"
   ]
  },
  {
   "cell_type": "code",
   "execution_count": 189,
   "id": "e13b2701",
   "metadata": {},
   "outputs": [],
   "source": [
    "xxtr = x[x['insert_time']<'2022-05-16']\n",
    "xxtt = x[x['insert_time']>= '2022-05-16']"
   ]
  },
  {
   "cell_type": "code",
   "execution_count": 190,
   "id": "cdb7ccfa",
   "metadata": {},
   "outputs": [],
   "source": [
    "del xxtr[\"insert_time\"]\n",
    "del xxtt[\"insert_time\"]"
   ]
  },
  {
   "cell_type": "code",
   "execution_count": 192,
   "id": "d46f5f34",
   "metadata": {},
   "outputs": [],
   "source": [
    "xxtrl = xxtr[\"weird\"] * 1"
   ]
  },
  {
   "cell_type": "code",
   "execution_count": 193,
   "id": "dd0693d6",
   "metadata": {},
   "outputs": [],
   "source": [
    "xxttl = xxtt[\"weird\"] * 1"
   ]
  },
  {
   "cell_type": "code",
   "execution_count": 194,
   "id": "e7187448",
   "metadata": {},
   "outputs": [],
   "source": [
    "del xxtr[\"weird\"]\n",
    "del xxtt[\"weird\"]"
   ]
  },
  {
   "cell_type": "code",
   "execution_count": 195,
   "id": "08df6dbb",
   "metadata": {},
   "outputs": [],
   "source": [
    "del xxtr[\"is_applied\"]\n",
    "del xxtt[\"is_applied\"]"
   ]
  },
  {
   "cell_type": "code",
   "execution_count": 167,
   "id": "56e2508a",
   "metadata": {},
   "outputs": [],
   "source": [
    "kk = x.weird.mean()"
   ]
  },
  {
   "cell_type": "code",
   "execution_count": 196,
   "id": "76a6c2ed",
   "metadata": {},
   "outputs": [],
   "source": [
    "xxtrain = Pool(\n",
    "    data = xxtr,\n",
    "    label = xxtrl,\n",
    "    weight = xxtrl * (1-2*kk) + kk\n",
    ")"
   ]
  },
  {
   "cell_type": "code",
   "execution_count": 197,
   "id": "0f87e65f",
   "metadata": {},
   "outputs": [
    {
     "name": "stdout",
     "output_type": "stream",
     "text": [
      "0:\tlearn: 0.5843210\ttotal: 178ms\tremaining: 178ms\n",
      "1:\tlearn: 0.5512695\ttotal: 307ms\tremaining: 0us\n"
     ]
    },
    {
     "data": {
      "text/plain": [
       "<catboost.core.CatBoostClassifier at 0x2df812470>"
      ]
     },
     "execution_count": 197,
     "metadata": {},
     "output_type": "execute_result"
    }
   ],
   "source": [
    "model2.fit(xxtrain)"
   ]
  },
  {
   "cell_type": "code",
   "execution_count": 198,
   "id": "5c97c385",
   "metadata": {},
   "outputs": [],
   "source": [
    "ppp = model2.predict(xxtt)"
   ]
  },
  {
   "cell_type": "code",
   "execution_count": 200,
   "id": "ef5a6f14",
   "metadata": {},
   "outputs": [
    {
     "data": {
      "text/plain": [
       "0.17483582023694835"
      ]
     },
     "execution_count": 200,
     "metadata": {},
     "output_type": "execute_result"
    }
   ],
   "source": [
    "f1_score(xxttl, ppp)"
   ]
  },
  {
   "cell_type": "code",
   "execution_count": 126,
   "id": "a36132d4",
   "metadata": {},
   "outputs": [],
   "source": [
    "y = x.loc[x.weird]"
   ]
  },
  {
   "cell_type": "code",
   "execution_count": 127,
   "id": "c330f329",
   "metadata": {},
   "outputs": [
    {
     "data": {
      "text/html": [
       "<div>\n",
       "<style scoped>\n",
       "    .dataframe tbody tr th:only-of-type {\n",
       "        vertical-align: middle;\n",
       "    }\n",
       "\n",
       "    .dataframe tbody tr th {\n",
       "        vertical-align: top;\n",
       "    }\n",
       "\n",
       "    .dataframe thead th {\n",
       "        text-align: right;\n",
       "    }\n",
       "</style>\n",
       "<table border=\"1\" class=\"dataframe\">\n",
       "  <thead>\n",
       "    <tr style=\"text-align: right;\">\n",
       "      <th></th>\n",
       "      <th>application_id</th>\n",
       "      <th>loan_limit</th>\n",
       "      <th>loan_rate</th>\n",
       "      <th>credit_score</th>\n",
       "      <th>company_enter_month</th>\n",
       "      <th>insert_time</th>\n",
       "      <th>desired_amount</th>\n",
       "      <th>EARNEDINCOME</th>\n",
       "      <th>is_applied</th>\n",
       "      <th>predict</th>\n",
       "      <th>more</th>\n",
       "      <th>sum</th>\n",
       "      <th>weird</th>\n",
       "    </tr>\n",
       "  </thead>\n",
       "  <tbody>\n",
       "    <tr>\n",
       "      <th>4955884</th>\n",
       "      <td>14</td>\n",
       "      <td>10000000.0</td>\n",
       "      <td>12.9</td>\n",
       "      <td>590.0</td>\n",
       "      <td>2021-06-01</td>\n",
       "      <td>2022-04-15 01:02:52</td>\n",
       "      <td>20000000.0</td>\n",
       "      <td>1</td>\n",
       "      <td>1.0</td>\n",
       "      <td>0</td>\n",
       "      <td>True</td>\n",
       "      <td>82000000</td>\n",
       "      <td>True</td>\n",
       "    </tr>\n",
       "    <tr>\n",
       "      <th>5814803</th>\n",
       "      <td>36</td>\n",
       "      <td>27000000.0</td>\n",
       "      <td>12.3</td>\n",
       "      <td>640.0</td>\n",
       "      <td>2018-12-01</td>\n",
       "      <td>2022-04-22 14:12:10</td>\n",
       "      <td>30000000.0</td>\n",
       "      <td>1</td>\n",
       "      <td>1.0</td>\n",
       "      <td>0</td>\n",
       "      <td>True</td>\n",
       "      <td>88000000</td>\n",
       "      <td>True</td>\n",
       "    </tr>\n",
       "    <tr>\n",
       "      <th>5814765</th>\n",
       "      <td>36</td>\n",
       "      <td>10000000.0</td>\n",
       "      <td>12.5</td>\n",
       "      <td>640.0</td>\n",
       "      <td>2018-12-01</td>\n",
       "      <td>2022-04-22 14:12:10</td>\n",
       "      <td>30000000.0</td>\n",
       "      <td>1</td>\n",
       "      <td>1.0</td>\n",
       "      <td>0</td>\n",
       "      <td>True</td>\n",
       "      <td>98000000</td>\n",
       "      <td>True</td>\n",
       "    </tr>\n",
       "    <tr>\n",
       "      <th>3330938</th>\n",
       "      <td>38</td>\n",
       "      <td>10000000.0</td>\n",
       "      <td>7.1</td>\n",
       "      <td>540.0</td>\n",
       "      <td>2021-07-01</td>\n",
       "      <td>2022-04-01 14:18:25</td>\n",
       "      <td>5000000.0</td>\n",
       "      <td>0</td>\n",
       "      <td>1.0</td>\n",
       "      <td>0</td>\n",
       "      <td>True</td>\n",
       "      <td>40000000</td>\n",
       "      <td>True</td>\n",
       "    </tr>\n",
       "    <tr>\n",
       "      <th>3588714</th>\n",
       "      <td>48</td>\n",
       "      <td>3000000.0</td>\n",
       "      <td>15.0</td>\n",
       "      <td>570.0</td>\n",
       "      <td>2021-09-01</td>\n",
       "      <td>2022-04-04 12:56:43</td>\n",
       "      <td>10000000.0</td>\n",
       "      <td>1</td>\n",
       "      <td>1.0</td>\n",
       "      <td>0</td>\n",
       "      <td>True</td>\n",
       "      <td>45000000</td>\n",
       "      <td>True</td>\n",
       "    </tr>\n",
       "    <tr>\n",
       "      <th>...</th>\n",
       "      <td>...</td>\n",
       "      <td>...</td>\n",
       "      <td>...</td>\n",
       "      <td>...</td>\n",
       "      <td>...</td>\n",
       "      <td>...</td>\n",
       "      <td>...</td>\n",
       "      <td>...</td>\n",
       "      <td>...</td>\n",
       "      <td>...</td>\n",
       "      <td>...</td>\n",
       "      <td>...</td>\n",
       "      <td>...</td>\n",
       "    </tr>\n",
       "    <tr>\n",
       "      <th>5339419</th>\n",
       "      <td>2167787</td>\n",
       "      <td>31000000.0</td>\n",
       "      <td>7.7</td>\n",
       "      <td>682.0</td>\n",
       "      <td>2021-04-01</td>\n",
       "      <td>2022-04-18 23:24:45</td>\n",
       "      <td>6.0</td>\n",
       "      <td>0</td>\n",
       "      <td>1.0</td>\n",
       "      <td>0</td>\n",
       "      <td>True</td>\n",
       "      <td>60000000</td>\n",
       "      <td>True</td>\n",
       "    </tr>\n",
       "    <tr>\n",
       "      <th>8046457</th>\n",
       "      <td>2167803</td>\n",
       "      <td>10000000.0</td>\n",
       "      <td>19.9</td>\n",
       "      <td>630.0</td>\n",
       "      <td>2022-01-01</td>\n",
       "      <td>2022-05-12 14:26:29</td>\n",
       "      <td>3.0</td>\n",
       "      <td>1</td>\n",
       "      <td>1.0</td>\n",
       "      <td>0</td>\n",
       "      <td>True</td>\n",
       "      <td>82000000</td>\n",
       "      <td>True</td>\n",
       "    </tr>\n",
       "    <tr>\n",
       "      <th>4459325</th>\n",
       "      <td>2167811</td>\n",
       "      <td>12000000.0</td>\n",
       "      <td>8.0</td>\n",
       "      <td>620.0</td>\n",
       "      <td>2022-01-01</td>\n",
       "      <td>2022-04-11 14:49:23</td>\n",
       "      <td>1000000.0</td>\n",
       "      <td>1</td>\n",
       "      <td>1.0</td>\n",
       "      <td>0</td>\n",
       "      <td>True</td>\n",
       "      <td>60000000</td>\n",
       "      <td>True</td>\n",
       "    </tr>\n",
       "    <tr>\n",
       "      <th>3405174</th>\n",
       "      <td>2167817</td>\n",
       "      <td>1000000.0</td>\n",
       "      <td>19.9</td>\n",
       "      <td>580.0</td>\n",
       "      <td>2018-11-01</td>\n",
       "      <td>2022-04-02 10:10:31</td>\n",
       "      <td>2000000.0</td>\n",
       "      <td>0</td>\n",
       "      <td>1.0</td>\n",
       "      <td>0</td>\n",
       "      <td>True</td>\n",
       "      <td>36000000</td>\n",
       "      <td>True</td>\n",
       "    </tr>\n",
       "    <tr>\n",
       "      <th>2591393</th>\n",
       "      <td>2167826</td>\n",
       "      <td>13000000.0</td>\n",
       "      <td>17.4</td>\n",
       "      <td>560.0</td>\n",
       "      <td>2017-05-01</td>\n",
       "      <td>2022-03-25 11:57:48</td>\n",
       "      <td>5000000.0</td>\n",
       "      <td>1</td>\n",
       "      <td>1.0</td>\n",
       "      <td>0</td>\n",
       "      <td>True</td>\n",
       "      <td>57000000</td>\n",
       "      <td>True</td>\n",
       "    </tr>\n",
       "  </tbody>\n",
       "</table>\n",
       "<p>230642 rows × 13 columns</p>\n",
       "</div>"
      ],
      "text/plain": [
       "         application_id  loan_limit  loan_rate  credit_score  \\\n",
       "4955884              14  10000000.0       12.9         590.0   \n",
       "5814803              36  27000000.0       12.3         640.0   \n",
       "5814765              36  10000000.0       12.5         640.0   \n",
       "3330938              38  10000000.0        7.1         540.0   \n",
       "3588714              48   3000000.0       15.0         570.0   \n",
       "...                 ...         ...        ...           ...   \n",
       "5339419         2167787  31000000.0        7.7         682.0   \n",
       "8046457         2167803  10000000.0       19.9         630.0   \n",
       "4459325         2167811  12000000.0        8.0         620.0   \n",
       "3405174         2167817   1000000.0       19.9         580.0   \n",
       "2591393         2167826  13000000.0       17.4         560.0   \n",
       "\n",
       "        company_enter_month         insert_time  desired_amount  EARNEDINCOME  \\\n",
       "4955884          2021-06-01 2022-04-15 01:02:52      20000000.0             1   \n",
       "5814803          2018-12-01 2022-04-22 14:12:10      30000000.0             1   \n",
       "5814765          2018-12-01 2022-04-22 14:12:10      30000000.0             1   \n",
       "3330938          2021-07-01 2022-04-01 14:18:25       5000000.0             0   \n",
       "3588714          2021-09-01 2022-04-04 12:56:43      10000000.0             1   \n",
       "...                     ...                 ...             ...           ...   \n",
       "5339419          2021-04-01 2022-04-18 23:24:45             6.0             0   \n",
       "8046457          2022-01-01 2022-05-12 14:26:29             3.0             1   \n",
       "4459325          2022-01-01 2022-04-11 14:49:23       1000000.0             1   \n",
       "3405174          2018-11-01 2022-04-02 10:10:31       2000000.0             0   \n",
       "2591393          2017-05-01 2022-03-25 11:57:48       5000000.0             1   \n",
       "\n",
       "         is_applied  predict  more       sum  weird  \n",
       "4955884         1.0        0  True  82000000   True  \n",
       "5814803         1.0        0  True  88000000   True  \n",
       "5814765         1.0        0  True  98000000   True  \n",
       "3330938         1.0        0  True  40000000   True  \n",
       "3588714         1.0        0  True  45000000   True  \n",
       "...             ...      ...   ...       ...    ...  \n",
       "5339419         1.0        0  True  60000000   True  \n",
       "8046457         1.0        0  True  82000000   True  \n",
       "4459325         1.0        0  True  60000000   True  \n",
       "3405174         1.0        0  True  36000000   True  \n",
       "2591393         1.0        0  True  57000000   True  \n",
       "\n",
       "[230642 rows x 13 columns]"
      ]
     },
     "execution_count": 127,
     "metadata": {},
     "output_type": "execute_result"
    }
   ],
   "source": [
    "y"
   ]
  },
  {
   "cell_type": "code",
   "execution_count": 144,
   "id": "7a2a81d3",
   "metadata": {},
   "outputs": [],
   "source": [
    "trainy = Pool(\n",
    "    data = Y_train,\n",
    "    label = trainy_label,\n",
    "    weight = trainy_label * (1-2*k) + k\n",
    ")"
   ]
  },
  {
   "cell_type": "code",
   "execution_count": 74,
   "id": "7d01ccfa",
   "metadata": {},
   "outputs": [
    {
     "data": {
      "text/plain": [
       "0.5123673207708854"
      ]
     },
     "execution_count": 74,
     "metadata": {},
     "output_type": "execute_result"
    }
   ],
   "source": [
    "f1_score(x.is_applied, x.predict)"
   ]
  },
  {
   "cell_type": "code",
   "execution_count": 75,
   "id": "1eaebbc9",
   "metadata": {},
   "outputs": [],
   "source": [
    "from sklearn.metrics import confusion_matrix"
   ]
  },
  {
   "cell_type": "code",
   "execution_count": 77,
   "id": "b331d98b",
   "metadata": {},
   "outputs": [
    {
     "data": {
      "text/plain": [
       "array([3822162,  386207,  230642,  324069])"
      ]
     },
     "execution_count": 77,
     "metadata": {},
     "output_type": "execute_result"
    }
   ],
   "source": [
    "confusion_matrix(x.is_applied, x.predict).ravel()"
   ]
  },
  {
   "cell_type": "code",
   "execution_count": 78,
   "id": "e083d0ad",
   "metadata": {},
   "outputs": [],
   "source": [
    "from catboost import CatBoostClassifier, Pool"
   ]
  },
  {
   "cell_type": "code",
   "execution_count": 133,
   "id": "119e0879",
   "metadata": {},
   "outputs": [],
   "source": [
    "model = CatBoostClassifier(iterations=2,\n",
    "                           depth=5,\n",
    "                           learning_rate=1,\n",
    "                           loss_function='Logloss',\n",
    "                           verbose=True)"
   ]
  },
  {
   "cell_type": "code",
   "execution_count": 134,
   "id": "5541a1bc",
   "metadata": {},
   "outputs": [],
   "source": [
    "X_train = x[x['insert_time']<'2022-05-16']\n",
    "X_test = x[x['insert_time']>= '2022-05-16']"
   ]
  },
  {
   "cell_type": "code",
   "execution_count": 135,
   "id": "73d43889",
   "metadata": {},
   "outputs": [],
   "source": [
    "del X_train [\"insert_time\"]\n",
    "del X_test [\"insert_time\"]"
   ]
  },
  {
   "cell_type": "code",
   "execution_count": 136,
   "id": "379785ab",
   "metadata": {},
   "outputs": [],
   "source": [
    "del X_train [\"sum\"]\n",
    "del X_test [\"sum\"]"
   ]
  },
  {
   "cell_type": "code",
   "execution_count": 137,
   "id": "f5cec718",
   "metadata": {},
   "outputs": [],
   "source": [
    "del X_train[\"more\"]\n",
    "del X_test [\"more\"]"
   ]
  },
  {
   "cell_type": "code",
   "execution_count": 138,
   "id": "c4a8d359",
   "metadata": {},
   "outputs": [],
   "source": [
    "train_label = X_train[\"is_applied\"]\n",
    "test_label = X_test[\"is_applied\"]"
   ]
  },
  {
   "cell_type": "code",
   "execution_count": 139,
   "id": "f76008f7",
   "metadata": {},
   "outputs": [],
   "source": [
    "del X_train[\"is_applied\"]\n",
    "del X_test[\"is_applied\"]"
   ]
  },
  {
   "cell_type": "code",
   "execution_count": 140,
   "id": "9418e8f9",
   "metadata": {},
   "outputs": [],
   "source": [
    "del X_train[\"application_id\"]\n",
    "del X_test[\"application_id\"]"
   ]
  },
  {
   "cell_type": "code",
   "execution_count": 141,
   "id": "6a4d6034",
   "metadata": {},
   "outputs": [],
   "source": [
    "del X_train[\"weird\"]\n",
    "del X_test[\"weird\"]"
   ]
  },
  {
   "cell_type": "code",
   "execution_count": 142,
   "id": "114ae63a",
   "metadata": {},
   "outputs": [],
   "source": [
    "k = x.is_applied.mean()"
   ]
  },
  {
   "cell_type": "code",
   "execution_count": 143,
   "id": "8fb949b2",
   "metadata": {},
   "outputs": [],
   "source": [
    "train = Pool(\n",
    "    data = X_train,\n",
    "    label = train_label,\n",
    "    weight = train_label * (1-2*k) + k\n",
    ")"
   ]
  },
  {
   "cell_type": "code",
   "execution_count": 145,
   "id": "c73c9884",
   "metadata": {},
   "outputs": [
    {
     "name": "stdout",
     "output_type": "stream",
     "text": [
      "0:\tlearn: 0.5030316\ttotal: 201ms\tremaining: 201ms\n",
      "1:\tlearn: 0.4820259\ttotal: 310ms\tremaining: 0us\n"
     ]
    },
    {
     "data": {
      "text/plain": [
       "<catboost.core.CatBoostClassifier at 0x16029ae90>"
      ]
     },
     "execution_count": 145,
     "metadata": {},
     "output_type": "execute_result"
    }
   ],
   "source": [
    "model.fit(train)"
   ]
  },
  {
   "cell_type": "code",
   "execution_count": 146,
   "id": "288f1d36",
   "metadata": {},
   "outputs": [],
   "source": [
    "pp = model.predict(X_test)"
   ]
  },
  {
   "cell_type": "code",
   "execution_count": 147,
   "id": "7f5f7b42",
   "metadata": {
    "scrolled": true
   },
   "outputs": [
    {
     "data": {
      "text/plain": [
       "0.48169246313388336"
      ]
     },
     "execution_count": 147,
     "metadata": {},
     "output_type": "execute_result"
    }
   ],
   "source": [
    "f1_score(test_label, pp)"
   ]
  },
  {
   "cell_type": "code",
   "execution_count": 148,
   "id": "04b4e077",
   "metadata": {},
   "outputs": [
    {
     "data": {
      "text/plain": [
       "array([ 7.36268323,  4.05583113, 10.33484238,  2.02747862,  7.49613976,\n",
       "        3.41214522, 65.31087966])"
      ]
     },
     "execution_count": 148,
     "metadata": {},
     "output_type": "execute_result"
    }
   ],
   "source": [
    "model.get_feature_importance()"
   ]
  },
  {
   "cell_type": "code",
   "execution_count": 124,
   "id": "0ade1648",
   "metadata": {},
   "outputs": [
    {
     "data": {
      "text/plain": [
       "array([730734,  58141,    699, 106119])"
      ]
     },
     "execution_count": 124,
     "metadata": {},
     "output_type": "execute_result"
    }
   ],
   "source": [
    "confusion_matrix(test_label, pp).ravel()"
   ]
  }
 ],
 "metadata": {
  "kernelspec": {
   "display_name": "Python 3 (ipykernel)",
   "language": "python",
   "name": "python3"
  },
  "language_info": {
   "codemirror_mode": {
    "name": "ipython",
    "version": 3
   },
   "file_extension": ".py",
   "mimetype": "text/x-python",
   "name": "python",
   "nbconvert_exporter": "python",
   "pygments_lexer": "ipython3",
   "version": "3.10.6"
  }
 },
 "nbformat": 4,
 "nbformat_minor": 5
}
