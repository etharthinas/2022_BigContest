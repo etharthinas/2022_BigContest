{
 "cells": [
  {
   "cell_type": "code",
   "execution_count": 1,
   "id": "4fd8094e",
   "metadata": {},
   "outputs": [],
   "source": [
    "import pandas as pd\n",
    "import numpy as np"
   ]
  },
  {
   "cell_type": "code",
   "execution_count": 3,
   "id": "8af02685",
   "metadata": {},
   "outputs": [],
   "source": [
    "data = pd.read_csv(\"rational_pred.csv\")"
   ]
  },
  {
   "cell_type": "code",
   "execution_count": 5,
   "id": "bf3f6b1e",
   "metadata": {},
   "outputs": [],
   "source": [
    "del data[\"Unnamed: 0\"]"
   ]
  },
  {
   "cell_type": "code",
   "execution_count": 50,
   "id": "aaf7b50c",
   "metadata": {},
   "outputs": [],
   "source": [
    "data.loc[:, \"weird\"] = (data[\"is_applied\"] - data[\"predict\"] == 1) *1"
   ]
  },
  {
   "cell_type": "code",
   "execution_count": 52,
   "id": "53a97935",
   "metadata": {},
   "outputs": [],
   "source": [
    "idx = data.loc[data.weird == 1].index"
   ]
  },
  {
   "cell_type": "code",
   "execution_count": 11,
   "id": "192ac553",
   "metadata": {},
   "outputs": [],
   "source": [
    "d = pd.read_csv(\"learn.csv\")"
   ]
  },
  {
   "cell_type": "code",
   "execution_count": 13,
   "id": "b522633d",
   "metadata": {},
   "outputs": [],
   "source": [
    "del d[\"Unnamed: 0\"]"
   ]
  },
  {
   "cell_type": "code",
   "execution_count": 15,
   "id": "6dd0a491",
   "metadata": {},
   "outputs": [],
   "source": [
    "d.loc[:,\"id\"] = d.bank_id * 1000 + d.product_id"
   ]
  },
  {
   "cell_type": "code",
   "execution_count": 17,
   "id": "c82a1eeb",
   "metadata": {},
   "outputs": [],
   "source": [
    "del d[\"loanapply_insert_time\"]\n",
    "del d[\"bank_id\"]\n",
    "del d[\"product_id\"]\n",
    "del d[\"birth_year\"]\n",
    "del d[\"gender\"]\n",
    "del d[\"houseown_type\"]\n",
    "del d[\"personal_rehabilitation_yn\"]\n",
    "del d[\"personal_rehabilitation_complete_yn\"]\n",
    "del d[\"existing_loan_cnt\"]\n",
    "del d[\"existing_loan_amt\"]"
   ]
  },
  {
   "cell_type": "code",
   "execution_count": 19,
   "id": "72e4decc",
   "metadata": {},
   "outputs": [],
   "source": [
    "del d[\"yearly_income\"]"
   ]
  },
  {
   "cell_type": "code",
   "execution_count": 21,
   "id": "8ebf7578",
   "metadata": {},
   "outputs": [],
   "source": [
    "del d[\"user_id\"]"
   ]
  },
  {
   "cell_type": "code",
   "execution_count": 23,
   "id": "d874622e",
   "metadata": {},
   "outputs": [],
   "source": [
    "del d[\"employment_type\"]"
   ]
  },
  {
   "cell_type": "code",
   "execution_count": 24,
   "id": "fe301873",
   "metadata": {},
   "outputs": [],
   "source": [
    "c1 = pd.get_dummies(d.income_type)"
   ]
  },
  {
   "cell_type": "code",
   "execution_count": 25,
   "id": "ad153594",
   "metadata": {},
   "outputs": [],
   "source": [
    "d = pd.concat([d, c1], axis = 1)"
   ]
  },
  {
   "cell_type": "code",
   "execution_count": 27,
   "id": "109e3c2c",
   "metadata": {},
   "outputs": [],
   "source": [
    "del d[\"income_type\"]"
   ]
  },
  {
   "cell_type": "code",
   "execution_count": 29,
   "id": "55abafc1",
   "metadata": {},
   "outputs": [],
   "source": [
    "del d[\"EARNEDINCOME2\"]\n",
    "del d[\"FREELANCER\"]\n",
    "del d[\"OTHERINCOME\"]\n",
    "del d[\"PRACTITIONER\"]\n",
    "del d[\"PRIVATEBUSINESS\"]"
   ]
  },
  {
   "cell_type": "code",
   "execution_count": 32,
   "id": "a6e4715c",
   "metadata": {},
   "outputs": [],
   "source": [
    "d.insert_time = pd.to_datetime(d.insert_time)\n",
    "d.company_enter_month = pd.to_datetime(d.company_enter_month)"
   ]
  },
  {
   "cell_type": "code",
   "execution_count": 33,
   "id": "41766a2f",
   "metadata": {},
   "outputs": [
    {
     "data": {
      "text/html": [
       "<div>\n",
       "<style scoped>\n",
       "    .dataframe tbody tr th:only-of-type {\n",
       "        vertical-align: middle;\n",
       "    }\n",
       "\n",
       "    .dataframe tbody tr th {\n",
       "        vertical-align: top;\n",
       "    }\n",
       "\n",
       "    .dataframe thead th {\n",
       "        text-align: right;\n",
       "    }\n",
       "</style>\n",
       "<table border=\"1\" class=\"dataframe\">\n",
       "  <thead>\n",
       "    <tr style=\"text-align: right;\">\n",
       "      <th></th>\n",
       "      <th>application_id</th>\n",
       "      <th>loan_limit</th>\n",
       "      <th>loan_rate</th>\n",
       "      <th>is_applied</th>\n",
       "      <th>insert_time</th>\n",
       "      <th>credit_score</th>\n",
       "      <th>company_enter_month</th>\n",
       "      <th>desired_amount</th>\n",
       "      <th>purpose</th>\n",
       "      <th>id</th>\n",
       "      <th>EARNEDINCOME</th>\n",
       "    </tr>\n",
       "  </thead>\n",
       "  <tbody>\n",
       "    <tr>\n",
       "      <th>0</th>\n",
       "      <td>566528</td>\n",
       "      <td>20000000.0</td>\n",
       "      <td>19.1</td>\n",
       "      <td>0.0</td>\n",
       "      <td>2022-03-01 00:11:35</td>\n",
       "      <td>580.0</td>\n",
       "      <td>2022-06-01</td>\n",
       "      <td>1000000.0</td>\n",
       "      <td>생활비</td>\n",
       "      <td>13123</td>\n",
       "      <td>0</td>\n",
       "    </tr>\n",
       "    <tr>\n",
       "      <th>1</th>\n",
       "      <td>180433</td>\n",
       "      <td>16000000.0</td>\n",
       "      <td>15.0</td>\n",
       "      <td>0.0</td>\n",
       "      <td>2022-03-01 00:12:05</td>\n",
       "      <td>740.0</td>\n",
       "      <td>2022-02-01</td>\n",
       "      <td>3000000.0</td>\n",
       "      <td>생활비</td>\n",
       "      <td>19231</td>\n",
       "      <td>0</td>\n",
       "    </tr>\n",
       "    <tr>\n",
       "      <th>2</th>\n",
       "      <td>180433</td>\n",
       "      <td>22000000.0</td>\n",
       "      <td>16.6</td>\n",
       "      <td>0.0</td>\n",
       "      <td>2022-03-01 00:12:05</td>\n",
       "      <td>740.0</td>\n",
       "      <td>2022-02-01</td>\n",
       "      <td>3000000.0</td>\n",
       "      <td>생활비</td>\n",
       "      <td>13262</td>\n",
       "      <td>0</td>\n",
       "    </tr>\n",
       "    <tr>\n",
       "      <th>3</th>\n",
       "      <td>1657888</td>\n",
       "      <td>3000000.0</td>\n",
       "      <td>13.5</td>\n",
       "      <td>0.0</td>\n",
       "      <td>2022-03-01 00:12:06</td>\n",
       "      <td>580.0</td>\n",
       "      <td>2021-02-01</td>\n",
       "      <td>3000000.0</td>\n",
       "      <td>생활비</td>\n",
       "      <td>42216</td>\n",
       "      <td>0</td>\n",
       "    </tr>\n",
       "    <tr>\n",
       "      <th>4</th>\n",
       "      <td>180433</td>\n",
       "      <td>3000000.0</td>\n",
       "      <td>14.9</td>\n",
       "      <td>0.0</td>\n",
       "      <td>2022-03-01 00:12:05</td>\n",
       "      <td>740.0</td>\n",
       "      <td>2022-02-01</td>\n",
       "      <td>3000000.0</td>\n",
       "      <td>생활비</td>\n",
       "      <td>1061</td>\n",
       "      <td>0</td>\n",
       "    </tr>\n",
       "    <tr>\n",
       "      <th>...</th>\n",
       "      <td>...</td>\n",
       "      <td>...</td>\n",
       "      <td>...</td>\n",
       "      <td>...</td>\n",
       "      <td>...</td>\n",
       "      <td>...</td>\n",
       "      <td>...</td>\n",
       "      <td>...</td>\n",
       "      <td>...</td>\n",
       "      <td>...</td>\n",
       "      <td>...</td>\n",
       "    </tr>\n",
       "    <tr>\n",
       "      <th>10264381</th>\n",
       "      <td>455157</td>\n",
       "      <td>3000000.0</td>\n",
       "      <td>18.0</td>\n",
       "      <td>0.0</td>\n",
       "      <td>2022-05-31 23:54:27</td>\n",
       "      <td>610.0</td>\n",
       "      <td>1997-04-01</td>\n",
       "      <td>50000000.0</td>\n",
       "      <td>대환대출</td>\n",
       "      <td>42258</td>\n",
       "      <td>1</td>\n",
       "    </tr>\n",
       "    <tr>\n",
       "      <th>10264382</th>\n",
       "      <td>455157</td>\n",
       "      <td>3000000.0</td>\n",
       "      <td>17.5</td>\n",
       "      <td>0.0</td>\n",
       "      <td>2022-05-31 23:54:27</td>\n",
       "      <td>610.0</td>\n",
       "      <td>1997-04-01</td>\n",
       "      <td>50000000.0</td>\n",
       "      <td>대환대출</td>\n",
       "      <td>46227</td>\n",
       "      <td>1</td>\n",
       "    </tr>\n",
       "    <tr>\n",
       "      <th>10264383</th>\n",
       "      <td>455157</td>\n",
       "      <td>5000000.0</td>\n",
       "      <td>18.4</td>\n",
       "      <td>0.0</td>\n",
       "      <td>2022-05-31 23:54:27</td>\n",
       "      <td>610.0</td>\n",
       "      <td>1997-04-01</td>\n",
       "      <td>50000000.0</td>\n",
       "      <td>대환대출</td>\n",
       "      <td>22221</td>\n",
       "      <td>1</td>\n",
       "    </tr>\n",
       "    <tr>\n",
       "      <th>10264384</th>\n",
       "      <td>455157</td>\n",
       "      <td>3000000.0</td>\n",
       "      <td>14.5</td>\n",
       "      <td>0.0</td>\n",
       "      <td>2022-05-31 23:54:27</td>\n",
       "      <td>610.0</td>\n",
       "      <td>1997-04-01</td>\n",
       "      <td>50000000.0</td>\n",
       "      <td>대환대출</td>\n",
       "      <td>38016</td>\n",
       "      <td>1</td>\n",
       "    </tr>\n",
       "    <tr>\n",
       "      <th>10264385</th>\n",
       "      <td>831190</td>\n",
       "      <td>2000000.0</td>\n",
       "      <td>9.5</td>\n",
       "      <td>0.0</td>\n",
       "      <td>2022-05-31 23:54:24</td>\n",
       "      <td>760.0</td>\n",
       "      <td>2019-05-01</td>\n",
       "      <td>40000000.0</td>\n",
       "      <td>대환대출</td>\n",
       "      <td>52187</td>\n",
       "      <td>0</td>\n",
       "    </tr>\n",
       "  </tbody>\n",
       "</table>\n",
       "<p>10264386 rows × 11 columns</p>\n",
       "</div>"
      ],
      "text/plain": [
       "          application_id  loan_limit  loan_rate  is_applied  \\\n",
       "0                 566528  20000000.0       19.1         0.0   \n",
       "1                 180433  16000000.0       15.0         0.0   \n",
       "2                 180433  22000000.0       16.6         0.0   \n",
       "3                1657888   3000000.0       13.5         0.0   \n",
       "4                 180433   3000000.0       14.9         0.0   \n",
       "...                  ...         ...        ...         ...   \n",
       "10264381          455157   3000000.0       18.0         0.0   \n",
       "10264382          455157   3000000.0       17.5         0.0   \n",
       "10264383          455157   5000000.0       18.4         0.0   \n",
       "10264384          455157   3000000.0       14.5         0.0   \n",
       "10264385          831190   2000000.0        9.5         0.0   \n",
       "\n",
       "                 insert_time  credit_score company_enter_month  \\\n",
       "0        2022-03-01 00:11:35         580.0          2022-06-01   \n",
       "1        2022-03-01 00:12:05         740.0          2022-02-01   \n",
       "2        2022-03-01 00:12:05         740.0          2022-02-01   \n",
       "3        2022-03-01 00:12:06         580.0          2021-02-01   \n",
       "4        2022-03-01 00:12:05         740.0          2022-02-01   \n",
       "...                      ...           ...                 ...   \n",
       "10264381 2022-05-31 23:54:27         610.0          1997-04-01   \n",
       "10264382 2022-05-31 23:54:27         610.0          1997-04-01   \n",
       "10264383 2022-05-31 23:54:27         610.0          1997-04-01   \n",
       "10264384 2022-05-31 23:54:27         610.0          1997-04-01   \n",
       "10264385 2022-05-31 23:54:24         760.0          2019-05-01   \n",
       "\n",
       "          desired_amount purpose     id  EARNEDINCOME  \n",
       "0              1000000.0     생활비  13123             0  \n",
       "1              3000000.0     생활비  19231             0  \n",
       "2              3000000.0     생활비  13262             0  \n",
       "3              3000000.0     생활비  42216             0  \n",
       "4              3000000.0     생활비   1061             0  \n",
       "...                  ...     ...    ...           ...  \n",
       "10264381      50000000.0    대환대출  42258             1  \n",
       "10264382      50000000.0    대환대출  46227             1  \n",
       "10264383      50000000.0    대환대출  22221             1  \n",
       "10264384      50000000.0    대환대출  38016             1  \n",
       "10264385      40000000.0    대환대출  52187             0  \n",
       "\n",
       "[10264386 rows x 11 columns]"
      ]
     },
     "execution_count": 33,
     "metadata": {},
     "output_type": "execute_result"
    }
   ],
   "source": [
    "d"
   ]
  },
  {
   "cell_type": "code",
   "execution_count": 53,
   "id": "2bb6ca5e",
   "metadata": {},
   "outputs": [],
   "source": [
    "weird_id = d.loc[idx, \"id\"]"
   ]
  },
  {
   "cell_type": "code",
   "execution_count": 54,
   "id": "cc36482f",
   "metadata": {},
   "outputs": [
    {
     "data": {
      "text/plain": [
       "6          24263\n",
       "42         36157\n",
       "43         55025\n",
       "72         26080\n",
       "80         14128\n",
       "           ...  \n",
       "4763008    21196\n",
       "4763045    13262\n",
       "4763062    35168\n",
       "4763067    17019\n",
       "4763077    13262\n",
       "Name: id, Length: 230642, dtype: int64"
      ]
     },
     "execution_count": 54,
     "metadata": {},
     "output_type": "execute_result"
    }
   ],
   "source": [
    "weird_id"
   ]
  },
  {
   "cell_type": "code",
   "execution_count": 57,
   "id": "cd73c67d",
   "metadata": {},
   "outputs": [],
   "source": [
    "y = d.groupby(\"application_id\").max()"
   ]
  },
  {
   "cell_type": "code",
   "execution_count": 63,
   "id": "34f5235b",
   "metadata": {},
   "outputs": [],
   "source": [
    "appyes = y.loc[y.is_applied == 1].index"
   ]
  },
  {
   "cell_type": "code",
   "execution_count": 74,
   "id": "cd74348e",
   "metadata": {},
   "outputs": [],
   "source": [
    "x = d.loc[d.application_id.isin(appyes)]"
   ]
  },
  {
   "cell_type": "code",
   "execution_count": 75,
   "id": "32eff032",
   "metadata": {},
   "outputs": [],
   "source": [
    "x = x.sort_values(by = [\"application_id\", \"loan_rate\"])"
   ]
  },
  {
   "cell_type": "code",
   "execution_count": 76,
   "id": "d57cef0b",
   "metadata": {},
   "outputs": [],
   "source": [
    "x.loc[:, [\"sum\", \"more\", \"predict\"]] = 0"
   ]
  },
  {
   "cell_type": "code",
   "execution_count": 79,
   "id": "2eb4951e",
   "metadata": {},
   "outputs": [],
   "source": [
    "del x[\"sum\"]\n",
    "del x[\"more\"]"
   ]
  },
  {
   "cell_type": "code",
   "execution_count": 86,
   "id": "5d1010db",
   "metadata": {},
   "outputs": [],
   "source": [
    "pred = np.array(data.predict)"
   ]
  },
  {
   "cell_type": "code",
   "execution_count": 87,
   "id": "af74bc18",
   "metadata": {},
   "outputs": [],
   "source": [
    "x.loc[:, \"predict\"] = pred"
   ]
  },
  {
   "cell_type": "code",
   "execution_count": 90,
   "id": "ada20a0a",
   "metadata": {},
   "outputs": [
    {
     "data": {
      "text/plain": [
       "6          24263\n",
       "42         36157\n",
       "43         55025\n",
       "72         26080\n",
       "80         14128\n",
       "           ...  \n",
       "4763008    21196\n",
       "4763045    13262\n",
       "4763062    35168\n",
       "4763067    17019\n",
       "4763077    13262\n",
       "Name: id, Length: 230642, dtype: int64"
      ]
     },
     "execution_count": 90,
     "metadata": {},
     "output_type": "execute_result"
    }
   ],
   "source": [
    "weird_id"
   ]
  },
  {
   "cell_type": "code",
   "execution_count": 94,
   "id": "5c68ac42",
   "metadata": {},
   "outputs": [],
   "source": [
    "x.loc[:, \"weird\"] = x.id.isin(weird_id)"
   ]
  },
  {
   "cell_type": "code",
   "execution_count": 95,
   "id": "9a869e37",
   "metadata": {},
   "outputs": [],
   "source": [
    "from catboost import CatBoostClassifier, Pool"
   ]
  },
  {
   "cell_type": "code",
   "execution_count": 96,
   "id": "1520772b",
   "metadata": {},
   "outputs": [],
   "source": [
    "model = CatBoostClassifier(iterations=2,\n",
    "                           depth=5,\n",
    "                           learning_rate=1,\n",
    "                           loss_function='Logloss',\n",
    "                           verbose=True)"
   ]
  },
  {
   "cell_type": "code",
   "execution_count": 98,
   "id": "78dda488",
   "metadata": {},
   "outputs": [],
   "source": [
    "del x[\"application_id\"]\n",
    "del x[\"id\"]"
   ]
  },
  {
   "cell_type": "code",
   "execution_count": 113,
   "id": "890e9dc6",
   "metadata": {},
   "outputs": [],
   "source": [
    "del x[\"purpose\"]"
   ]
  },
  {
   "cell_type": "code",
   "execution_count": 114,
   "id": "5216cddc",
   "metadata": {},
   "outputs": [],
   "source": [
    "xxtr = x[x['insert_time']<'2022-05-16']\n",
    "xxtt = x[x['insert_time']>= '2022-05-16']"
   ]
  },
  {
   "cell_type": "code",
   "execution_count": 115,
   "id": "c6a0b600",
   "metadata": {},
   "outputs": [],
   "source": [
    "del xxtr[\"insert_time\"]\n",
    "del xxtt[\"insert_time\"]"
   ]
  },
  {
   "cell_type": "code",
   "execution_count": 116,
   "id": "1cb323f9",
   "metadata": {},
   "outputs": [],
   "source": [
    "xxtrl = xxtr[\"is_applied\"]\n",
    "xxttl = xxtt[\"is_applied\"]"
   ]
  },
  {
   "cell_type": "code",
   "execution_count": 117,
   "id": "d4ff873b",
   "metadata": {},
   "outputs": [],
   "source": [
    "del xxtr[\"is_applied\"]\n",
    "del xxtt[\"is_applied\"]"
   ]
  },
  {
   "cell_type": "code",
   "execution_count": 104,
   "id": "30de9f78",
   "metadata": {},
   "outputs": [],
   "source": [
    "kk = x.is_applied.mean()"
   ]
  },
  {
   "cell_type": "code",
   "execution_count": 118,
   "id": "f6b8fb17",
   "metadata": {},
   "outputs": [],
   "source": [
    "train = Pool(\n",
    "    data= xxtr,\n",
    "    label = xxtrl,\n",
    "    weight = xxtrl * (1-2*kk) + kk\n",
    ")"
   ]
  },
  {
   "cell_type": "code",
   "execution_count": 119,
   "id": "59964322",
   "metadata": {},
   "outputs": [
    {
     "name": "stdout",
     "output_type": "stream",
     "text": [
      "0:\tlearn: 0.5027430\ttotal: 265ms\tremaining: 265ms\n",
      "1:\tlearn: 0.4811326\ttotal: 371ms\tremaining: 0us\n"
     ]
    },
    {
     "data": {
      "text/plain": [
       "<catboost.core.CatBoostClassifier at 0x3ef378eb0>"
      ]
     },
     "execution_count": 119,
     "metadata": {},
     "output_type": "execute_result"
    }
   ],
   "source": [
    "model.fit(train)"
   ]
  },
  {
   "cell_type": "code",
   "execution_count": 120,
   "id": "8b4b1960",
   "metadata": {},
   "outputs": [],
   "source": [
    "p = model.predict(xxtt)"
   ]
  },
  {
   "cell_type": "code",
   "execution_count": 121,
   "id": "f6d92fe9",
   "metadata": {},
   "outputs": [],
   "source": [
    "from sklearn.metrics import f1_score, confusion_matrix"
   ]
  },
  {
   "cell_type": "code",
   "execution_count": 122,
   "id": "7298152c",
   "metadata": {},
   "outputs": [
    {
     "data": {
      "text/plain": [
       "0.4788557213930348"
      ]
     },
     "execution_count": 122,
     "metadata": {},
     "output_type": "execute_result"
    }
   ],
   "source": [
    "f1_score(xxttl, p)"
   ]
  },
  {
   "cell_type": "code",
   "execution_count": 124,
   "id": "0bf523a0",
   "metadata": {},
   "outputs": [
    {
     "data": {
      "text/plain": [
       "array([ 7.69868754,  4.10410306, 10.27134005,  2.18780694,  7.64741629,\n",
       "        3.31213986, 64.77850625,  0.        ])"
      ]
     },
     "execution_count": 124,
     "metadata": {},
     "output_type": "execute_result"
    }
   ],
   "source": [
    "model.get_feature_importance()"
   ]
  },
  {
   "cell_type": "code",
   "execution_count": 125,
   "id": "0612b37d",
   "metadata": {},
   "outputs": [
    {
     "data": {
      "text/html": [
       "<div>\n",
       "<style scoped>\n",
       "    .dataframe tbody tr th:only-of-type {\n",
       "        vertical-align: middle;\n",
       "    }\n",
       "\n",
       "    .dataframe tbody tr th {\n",
       "        vertical-align: top;\n",
       "    }\n",
       "\n",
       "    .dataframe thead th {\n",
       "        text-align: right;\n",
       "    }\n",
       "</style>\n",
       "<table border=\"1\" class=\"dataframe\">\n",
       "  <thead>\n",
       "    <tr style=\"text-align: right;\">\n",
       "      <th></th>\n",
       "      <th>loan_limit</th>\n",
       "      <th>loan_rate</th>\n",
       "      <th>credit_score</th>\n",
       "      <th>company_enter_month</th>\n",
       "      <th>desired_amount</th>\n",
       "      <th>EARNEDINCOME</th>\n",
       "      <th>predict</th>\n",
       "      <th>weird</th>\n",
       "    </tr>\n",
       "  </thead>\n",
       "  <tbody>\n",
       "    <tr>\n",
       "      <th>4955883</th>\n",
       "      <td>12000000.0</td>\n",
       "      <td>6.6</td>\n",
       "      <td>590.0</td>\n",
       "      <td>2021-06-01</td>\n",
       "      <td>20000000.0</td>\n",
       "      <td>1</td>\n",
       "      <td>1</td>\n",
       "      <td>True</td>\n",
       "    </tr>\n",
       "    <tr>\n",
       "      <th>4955966</th>\n",
       "      <td>12000000.0</td>\n",
       "      <td>6.6</td>\n",
       "      <td>590.0</td>\n",
       "      <td>2021-06-01</td>\n",
       "      <td>20000000.0</td>\n",
       "      <td>1</td>\n",
       "      <td>1</td>\n",
       "      <td>True</td>\n",
       "    </tr>\n",
       "    <tr>\n",
       "      <th>4955890</th>\n",
       "      <td>12000000.0</td>\n",
       "      <td>7.1</td>\n",
       "      <td>590.0</td>\n",
       "      <td>2021-06-01</td>\n",
       "      <td>20000000.0</td>\n",
       "      <td>1</td>\n",
       "      <td>0</td>\n",
       "      <td>True</td>\n",
       "    </tr>\n",
       "    <tr>\n",
       "      <th>4955887</th>\n",
       "      <td>12000000.0</td>\n",
       "      <td>7.9</td>\n",
       "      <td>590.0</td>\n",
       "      <td>2021-06-01</td>\n",
       "      <td>20000000.0</td>\n",
       "      <td>1</td>\n",
       "      <td>0</td>\n",
       "      <td>True</td>\n",
       "    </tr>\n",
       "    <tr>\n",
       "      <th>4955970</th>\n",
       "      <td>12000000.0</td>\n",
       "      <td>8.0</td>\n",
       "      <td>590.0</td>\n",
       "      <td>2021-06-01</td>\n",
       "      <td>20000000.0</td>\n",
       "      <td>1</td>\n",
       "      <td>0</td>\n",
       "      <td>True</td>\n",
       "    </tr>\n",
       "    <tr>\n",
       "      <th>...</th>\n",
       "      <td>...</td>\n",
       "      <td>...</td>\n",
       "      <td>...</td>\n",
       "      <td>...</td>\n",
       "      <td>...</td>\n",
       "      <td>...</td>\n",
       "      <td>...</td>\n",
       "      <td>...</td>\n",
       "    </tr>\n",
       "    <tr>\n",
       "      <th>2591389</th>\n",
       "      <td>22000000.0</td>\n",
       "      <td>16.9</td>\n",
       "      <td>560.0</td>\n",
       "      <td>2017-05-01</td>\n",
       "      <td>5000000.0</td>\n",
       "      <td>1</td>\n",
       "      <td>1</td>\n",
       "      <td>True</td>\n",
       "    </tr>\n",
       "    <tr>\n",
       "      <th>2591428</th>\n",
       "      <td>22000000.0</td>\n",
       "      <td>16.9</td>\n",
       "      <td>560.0</td>\n",
       "      <td>2017-05-01</td>\n",
       "      <td>5000000.0</td>\n",
       "      <td>1</td>\n",
       "      <td>0</td>\n",
       "      <td>True</td>\n",
       "    </tr>\n",
       "    <tr>\n",
       "      <th>2591393</th>\n",
       "      <td>13000000.0</td>\n",
       "      <td>17.4</td>\n",
       "      <td>560.0</td>\n",
       "      <td>2017-05-01</td>\n",
       "      <td>5000000.0</td>\n",
       "      <td>1</td>\n",
       "      <td>0</td>\n",
       "      <td>True</td>\n",
       "    </tr>\n",
       "    <tr>\n",
       "      <th>2591390</th>\n",
       "      <td>5000000.0</td>\n",
       "      <td>18.7</td>\n",
       "      <td>560.0</td>\n",
       "      <td>2017-05-01</td>\n",
       "      <td>5000000.0</td>\n",
       "      <td>1</td>\n",
       "      <td>0</td>\n",
       "      <td>True</td>\n",
       "    </tr>\n",
       "    <tr>\n",
       "      <th>2591391</th>\n",
       "      <td>20000000.0</td>\n",
       "      <td>19.9</td>\n",
       "      <td>560.0</td>\n",
       "      <td>2017-05-01</td>\n",
       "      <td>5000000.0</td>\n",
       "      <td>1</td>\n",
       "      <td>0</td>\n",
       "      <td>True</td>\n",
       "    </tr>\n",
       "  </tbody>\n",
       "</table>\n",
       "<p>3867387 rows × 8 columns</p>\n",
       "</div>"
      ],
      "text/plain": [
       "         loan_limit  loan_rate  credit_score company_enter_month  \\\n",
       "4955883  12000000.0        6.6         590.0          2021-06-01   \n",
       "4955966  12000000.0        6.6         590.0          2021-06-01   \n",
       "4955890  12000000.0        7.1         590.0          2021-06-01   \n",
       "4955887  12000000.0        7.9         590.0          2021-06-01   \n",
       "4955970  12000000.0        8.0         590.0          2021-06-01   \n",
       "...             ...        ...           ...                 ...   \n",
       "2591389  22000000.0       16.9         560.0          2017-05-01   \n",
       "2591428  22000000.0       16.9         560.0          2017-05-01   \n",
       "2591393  13000000.0       17.4         560.0          2017-05-01   \n",
       "2591390   5000000.0       18.7         560.0          2017-05-01   \n",
       "2591391  20000000.0       19.9         560.0          2017-05-01   \n",
       "\n",
       "         desired_amount  EARNEDINCOME  predict  weird  \n",
       "4955883      20000000.0             1        1   True  \n",
       "4955966      20000000.0             1        1   True  \n",
       "4955890      20000000.0             1        0   True  \n",
       "4955887      20000000.0             1        0   True  \n",
       "4955970      20000000.0             1        0   True  \n",
       "...                 ...           ...      ...    ...  \n",
       "2591389       5000000.0             1        1   True  \n",
       "2591428       5000000.0             1        0   True  \n",
       "2591393       5000000.0             1        0   True  \n",
       "2591390       5000000.0             1        0   True  \n",
       "2591391       5000000.0             1        0   True  \n",
       "\n",
       "[3867387 rows x 8 columns]"
      ]
     },
     "execution_count": 125,
     "metadata": {},
     "output_type": "execute_result"
    }
   ],
   "source": [
    "xxtr"
   ]
  }
 ],
 "metadata": {
  "kernelspec": {
   "display_name": "Python 3 (ipykernel)",
   "language": "python",
   "name": "python3"
  },
  "language_info": {
   "codemirror_mode": {
    "name": "ipython",
    "version": 3
   },
   "file_extension": ".py",
   "mimetype": "text/x-python",
   "name": "python",
   "nbconvert_exporter": "python",
   "pygments_lexer": "ipython3",
   "version": "3.10.6"
  }
 },
 "nbformat": 4,
 "nbformat_minor": 5
}
