{
 "cells": [
  {
   "cell_type": "code",
   "execution_count": 1,
   "id": "ac9dd65e",
   "metadata": {},
   "outputs": [],
   "source": [
    "import pandas as pd\n",
    "import numpy as np\n",
    "from sklearn.metrics import f1_score, confusion_matrix, r2_score\n",
    "from catboost import CatBoostClassifier, Pool\n",
    "from sklearn.model_selection import train_test_split\n",
    "from sklearn.tree import DecisionTreeRegressor"
   ]
  },
  {
   "cell_type": "code",
   "execution_count": 2,
   "id": "7fa4e261",
   "metadata": {},
   "outputs": [],
   "source": [
    "users = pd.read_csv(\"user_spec.csv\")\n",
    "loans = pd.read_csv(\"loan_result.csv\")"
   ]
  },
  {
   "cell_type": "code",
   "execution_count": 3,
   "id": "600414f4",
   "metadata": {},
   "outputs": [],
   "source": [
    "joined = loans.join(users.set_index(\"application_id\"), on=\"application_id\")\n",
    "joined = joined.dropna(subset = [\"loan_limit\", \"loan_rate\"])"
   ]
  },
  {
   "cell_type": "code",
   "execution_count": 4,
   "id": "2ad9df54",
   "metadata": {},
   "outputs": [],
   "source": [
    "# yearly_income 변수를 평균값으로 채워넣습니다.\n",
    "mean_income = joined.yearly_income.mean()\n",
    "joined.yearly_income = joined.yearly_income.fillna(mean_income)"
   ]
  },
  {
   "cell_type": "code",
   "execution_count": 5,
   "id": "0eaa552f",
   "metadata": {},
   "outputs": [],
   "source": [
    "# birth_year 변수를 중간값으로 채워넣습니다.\n",
    "median_birth_year = joined.birth_year.median()\n",
    "joined.birth_year = joined.birth_year.fillna(median_birth_year)\n",
    "joined.birth_year = pd.to_datetime(joined.birth_year, format = \"%Y\")"
   ]
  },
  {
   "cell_type": "code",
   "execution_count": 6,
   "id": "f71cb8a5",
   "metadata": {},
   "outputs": [],
   "source": [
    "# personal_rehabilitation, existing_loan 관련 변수는 결측치가 매우 많기 때문에 0으로 채워넣습니다.\n",
    "joined[[\n",
    "    \"personal_rehabilitation_yn\", \"personal_rehabilitation_complete_yn\", \n",
    "    \"existing_loan_cnt\", \"existing_loan_amt\"\n",
    "]] = joined[[\n",
    "    \"personal_rehabilitation_yn\", \"personal_rehabilitation_complete_yn\", \n",
    "    \"existing_loan_cnt\", \"existing_loan_amt\"\n",
    "]].fillna(0)"
   ]
  },
  {
   "cell_type": "code",
   "execution_count": 7,
   "id": "73c6f06e",
   "metadata": {},
   "outputs": [],
   "source": [
    "# company_enter_month는 현재 시간으로 채워넣습니다.\n",
    "joined.company_enter_month = joined.company_enter_month.fillna(202206)\n",
    "joined.company_enter_month = joined.company_enter_month.astype(\"str\").str[:6]\n",
    "temp = joined.company_enter_month.str[:6]\n",
    "temp = pd.to_datetime(temp, format = \"%Y%m\")\n",
    "joined.company_enter_month = temp"
   ]
  },
  {
   "cell_type": "code",
   "execution_count": 8,
   "id": "275afbce",
   "metadata": {},
   "outputs": [],
   "source": [
    "joined.loanapply_insert_time = pd.to_datetime(joined.loanapply_insert_time)\n",
    "joined.user_id = joined.user_id.astype(int)"
   ]
  },
  {
   "cell_type": "code",
   "execution_count": 9,
   "id": "77566c30",
   "metadata": {},
   "outputs": [],
   "source": [
    "# gender 변수는 전체 평균 비율에 맞추어 랜덤하게 채워넣습니다.\n",
    "gender_na = joined[joined.gender.isna()]\n",
    "gender_not_na = joined[~joined.gender.isna()]\n",
    "total_user_num = len(gender_not_na.user_id.unique())\n",
    "by_user = gender_not_na.groupby(\"user_id\").max()\n",
    "num_males = by_user.gender.sum()\n",
    "prob = num_males / total_user_num\n",
    "na_user_id_list = gender_na.user_id.unique()\n",
    "np.random.seed(0)\n",
    "random_array = np.random.binomial(1, prob, len(na_user_id_list))\n",
    "random_gender = dict(zip(na_user_id_list, random_array))\n",
    "na_user_genders = joined.loc[joined.user_id.isin(na_user_id_list)].groupby(joined.user_id).max()\n",
    "not_na_id = na_user_genders[~na_user_genders.gender.isna()].user_id\n",
    "not_na_gender = na_user_genders[~na_user_genders.gender.isna()].gender\n",
    "non_random_gender = dict(zip(not_na_id, not_na_gender))\n",
    "joined.gender = joined.gender.fillna(joined.user_id.map(non_random_gender))\n",
    "joined.gender = joined.gender.fillna(joined.user_id.map(random_gender))"
   ]
  },
  {
   "cell_type": "code",
   "execution_count": 10,
   "id": "1a7a6f59",
   "metadata": {},
   "outputs": [],
   "source": [
    "# 금액과 관련한 변수는 상용로그로 정규화합니다.\n",
    "joined['birth_year'] = joined['birth_year'].apply(lambda x: int(str(x)[0:4]))\n",
    "joined['yearly_income'] = joined['yearly_income'].apply(lambda t: np.log10(1+t))\n",
    "joined['desired_amount'] = joined['desired_amount'].apply(lambda t: np.log10(1+t))\n",
    "joined['existing_loan_amt'] = joined['existing_loan_amt'].apply(lambda t: np.log10(1+t))\n",
    "joined['existing_loan_cnt'] = joined['existing_loan_cnt'].apply(lambda t: int(float(t)))"
   ]
  },
  {
   "cell_type": "code",
   "execution_count": 11,
   "id": "f51db231",
   "metadata": {},
   "outputs": [],
   "source": [
    "# credit_score의 결측치는 회귀나무를 사용해 채워넣습니다.\n",
    "# 사용한 변수는 birth_year, gender, yearly_income, \n",
    "# personal_rehabilitation 관련 변수, existing_loan 관련 변수입니다.\n",
    "credit_tree_joined = pd.concat(\n",
    "    [\n",
    "        joined,\n",
    "        pd.get_dummies(joined.income_type, prefix='income'),\n",
    "        pd.get_dummies(joined.houseown_type, prefix='house')\n",
    "    ],\n",
    "    axis=1\n",
    ").reset_index(drop=True).drop(\n",
    "    [\n",
    "        \"application_id\", \"loanapply_insert_time\",\n",
    "        'insert_time',\"bank_id\", \"product_id\",\n",
    "        'income_type','loan_rate','loan_limit',\n",
    "        'is_applied','user_id','company_enter_month',\n",
    "        'purpose','employment_type','houseown_type'\n",
    "    ],\n",
    "    axis=1\n",
    ")"
   ]
  },
  {
   "cell_type": "code",
   "execution_count": 12,
   "id": "9342966f",
   "metadata": {},
   "outputs": [],
   "source": [
    "train_credit = credit_tree_joined[credit_tree_joined['credit_score'].notna()]\n",
    "train_null_credit = credit_tree_joined[credit_tree_joined['credit_score'].isna()]"
   ]
  },
  {
   "cell_type": "code",
   "execution_count": 13,
   "id": "c86d880a",
   "metadata": {},
   "outputs": [
    {
     "data": {
      "text/html": [
       "<style>#sk-container-id-1 {color: black;background-color: white;}#sk-container-id-1 pre{padding: 0;}#sk-container-id-1 div.sk-toggleable {background-color: white;}#sk-container-id-1 label.sk-toggleable__label {cursor: pointer;display: block;width: 100%;margin-bottom: 0;padding: 0.3em;box-sizing: border-box;text-align: center;}#sk-container-id-1 label.sk-toggleable__label-arrow:before {content: \"▸\";float: left;margin-right: 0.25em;color: #696969;}#sk-container-id-1 label.sk-toggleable__label-arrow:hover:before {color: black;}#sk-container-id-1 div.sk-estimator:hover label.sk-toggleable__label-arrow:before {color: black;}#sk-container-id-1 div.sk-toggleable__content {max-height: 0;max-width: 0;overflow: hidden;text-align: left;background-color: #f0f8ff;}#sk-container-id-1 div.sk-toggleable__content pre {margin: 0.2em;color: black;border-radius: 0.25em;background-color: #f0f8ff;}#sk-container-id-1 input.sk-toggleable__control:checked~div.sk-toggleable__content {max-height: 200px;max-width: 100%;overflow: auto;}#sk-container-id-1 input.sk-toggleable__control:checked~label.sk-toggleable__label-arrow:before {content: \"▾\";}#sk-container-id-1 div.sk-estimator input.sk-toggleable__control:checked~label.sk-toggleable__label {background-color: #d4ebff;}#sk-container-id-1 div.sk-label input.sk-toggleable__control:checked~label.sk-toggleable__label {background-color: #d4ebff;}#sk-container-id-1 input.sk-hidden--visually {border: 0;clip: rect(1px 1px 1px 1px);clip: rect(1px, 1px, 1px, 1px);height: 1px;margin: -1px;overflow: hidden;padding: 0;position: absolute;width: 1px;}#sk-container-id-1 div.sk-estimator {font-family: monospace;background-color: #f0f8ff;border: 1px dotted black;border-radius: 0.25em;box-sizing: border-box;margin-bottom: 0.5em;}#sk-container-id-1 div.sk-estimator:hover {background-color: #d4ebff;}#sk-container-id-1 div.sk-parallel-item::after {content: \"\";width: 100%;border-bottom: 1px solid gray;flex-grow: 1;}#sk-container-id-1 div.sk-label:hover label.sk-toggleable__label {background-color: #d4ebff;}#sk-container-id-1 div.sk-serial::before {content: \"\";position: absolute;border-left: 1px solid gray;box-sizing: border-box;top: 0;bottom: 0;left: 50%;z-index: 0;}#sk-container-id-1 div.sk-serial {display: flex;flex-direction: column;align-items: center;background-color: white;padding-right: 0.2em;padding-left: 0.2em;position: relative;}#sk-container-id-1 div.sk-item {position: relative;z-index: 1;}#sk-container-id-1 div.sk-parallel {display: flex;align-items: stretch;justify-content: center;background-color: white;position: relative;}#sk-container-id-1 div.sk-item::before, #sk-container-id-1 div.sk-parallel-item::before {content: \"\";position: absolute;border-left: 1px solid gray;box-sizing: border-box;top: 0;bottom: 0;left: 50%;z-index: -1;}#sk-container-id-1 div.sk-parallel-item {display: flex;flex-direction: column;z-index: 1;position: relative;background-color: white;}#sk-container-id-1 div.sk-parallel-item:first-child::after {align-self: flex-end;width: 50%;}#sk-container-id-1 div.sk-parallel-item:last-child::after {align-self: flex-start;width: 50%;}#sk-container-id-1 div.sk-parallel-item:only-child::after {width: 0;}#sk-container-id-1 div.sk-dashed-wrapped {border: 1px dashed gray;margin: 0 0.4em 0.5em 0.4em;box-sizing: border-box;padding-bottom: 0.4em;background-color: white;}#sk-container-id-1 div.sk-label label {font-family: monospace;font-weight: bold;display: inline-block;line-height: 1.2em;}#sk-container-id-1 div.sk-label-container {text-align: center;}#sk-container-id-1 div.sk-container {/* jupyter's `normalize.less` sets `[hidden] { display: none; }` but bootstrap.min.css set `[hidden] { display: none !important; }` so we also need the `!important` here to be able to override the default hidden behavior on the sphinx rendered scikit-learn.org. See: https://github.com/scikit-learn/scikit-learn/issues/21755 */display: inline-block !important;position: relative;}#sk-container-id-1 div.sk-text-repr-fallback {display: none;}</style><div id=\"sk-container-id-1\" class=\"sk-top-container\"><div class=\"sk-text-repr-fallback\"><pre>DecisionTreeRegressor(random_state=44)</pre><b>In a Jupyter environment, please rerun this cell to show the HTML representation or trust the notebook. <br />On GitHub, the HTML representation is unable to render, please try loading this page with nbviewer.org.</b></div><div class=\"sk-container\" hidden><div class=\"sk-item\"><div class=\"sk-estimator sk-toggleable\"><input class=\"sk-toggleable__control sk-hidden--visually\" id=\"sk-estimator-id-1\" type=\"checkbox\" checked><label for=\"sk-estimator-id-1\" class=\"sk-toggleable__label sk-toggleable__label-arrow\">DecisionTreeRegressor</label><div class=\"sk-toggleable__content\"><pre>DecisionTreeRegressor(random_state=44)</pre></div></div></div></div></div>"
      ],
      "text/plain": [
       "DecisionTreeRegressor(random_state=44)"
      ]
     },
     "execution_count": 13,
     "metadata": {},
     "output_type": "execute_result"
    }
   ],
   "source": [
    "credit_tree_X = train_credit.drop(['credit_score'], axis=1)\n",
    "credit_tree_y = train_credit['credit_score']\n",
    "credit_tree_X_train, credit_tree_X_test, credit_tree_y_train, credit_tree_y_test = train_test_split(\n",
    "    credit_tree_X, credit_tree_y, test_size=0.3, random_state=44\n",
    ")\n",
    "credit_tree_model = DecisionTreeRegressor(random_state=44)\n",
    "credit_tree_model.fit(credit_tree_X_train, credit_tree_y_train)"
   ]
  },
  {
   "cell_type": "code",
   "execution_count": 14,
   "id": "f9e04abd",
   "metadata": {},
   "outputs": [
    {
     "data": {
      "text/plain": [
       "0.955760685174084"
      ]
     },
     "execution_count": 14,
     "metadata": {},
     "output_type": "execute_result"
    }
   ],
   "source": [
    "# 회귀를 r2 score로 평가해보니 1에 매우 가깝습니다. 즉 충분히 신뢰할 만합니다.\n",
    "r2_score(credit_tree_y_test, credit_tree_model.predict(credit_tree_X_test))"
   ]
  },
  {
   "cell_type": "code",
   "execution_count": 15,
   "id": "336ab072",
   "metadata": {},
   "outputs": [
    {
     "name": "stderr",
     "output_type": "stream",
     "text": [
      "/var/folders/mj/jcmvk9nd451b_mnylnj74qrm0000gn/T/ipykernel_4042/3759801311.py:3: SettingWithCopyWarning: \n",
      "A value is trying to be set on a copy of a slice from a DataFrame.\n",
      "Try using .loc[row_indexer,col_indexer] = value instead\n",
      "\n",
      "See the caveats in the documentation: https://pandas.pydata.org/pandas-docs/stable/user_guide/indexing.html#returning-a-view-versus-a-copy\n",
      "  null_credit['credit_score'] = credit_predict\n"
     ]
    }
   ],
   "source": [
    "credit_predict = credit_tree_model.predict(train_null_credit.drop(['credit_score'],axis = 1))\n",
    "null_credit = joined[joined['credit_score'].isna()]\n",
    "null_credit['credit_score'] = credit_predict"
   ]
  },
  {
   "cell_type": "code",
   "execution_count": 16,
   "id": "3785df8f",
   "metadata": {},
   "outputs": [
    {
     "name": "stderr",
     "output_type": "stream",
     "text": [
      "/var/folders/mj/jcmvk9nd451b_mnylnj74qrm0000gn/T/ipykernel_4042/4107112860.py:1: SettingWithCopyWarning: \n",
      "A value is trying to be set on a copy of a slice from a DataFrame.\n",
      "Try using .loc[row_indexer,col_indexer] = value instead\n",
      "\n",
      "See the caveats in the documentation: https://pandas.pydata.org/pandas-docs/stable/user_guide/indexing.html#returning-a-view-versus-a-copy\n",
      "  null_credit['credit_score']= null_credit['credit_score']//10*10\n"
     ]
    }
   ],
   "source": [
    "null_credit['credit_score']= null_credit['credit_score']//10*10"
   ]
  },
  {
   "cell_type": "code",
   "execution_count": 17,
   "id": "c83344c3",
   "metadata": {},
   "outputs": [],
   "source": [
    "data = pd.concat([joined[joined['credit_score'].notna()],null_credit])"
   ]
  },
  {
   "cell_type": "code",
   "execution_count": 18,
   "id": "69bb1e8d",
   "metadata": {},
   "outputs": [],
   "source": [
    "data.insert_time = pd.to_datetime(data.insert_time)"
   ]
  },
  {
   "cell_type": "code",
   "execution_count": 19,
   "id": "aab20991",
   "metadata": {},
   "outputs": [],
   "source": [
    "# data에서 필요한 변수만 가져옵니다. 또한 income_type 변수를 One-Hot-Encoding 합니다.\n",
    "data=data[[\n",
    "    'loan_limit','loan_rate','credit_score',\n",
    "    'company_enter_month','desired_amount','income_type',\n",
    "    'insert_time','user_id','application_id', 'is_applied'\n",
    "]]\n",
    "data['earnedincome']=(data['income_type']=='EARNEDINCOME')*1\n",
    "del data ['income_type']"
   ]
  },
  {
   "cell_type": "code",
   "execution_count": 20,
   "id": "3d12ee11",
   "metadata": {},
   "outputs": [],
   "source": [
    "data = data.sort_values(by=['user_id','insert_time'])"
   ]
  },
  {
   "cell_type": "code",
   "execution_count": 21,
   "id": "982697dc",
   "metadata": {},
   "outputs": [],
   "source": [
    "user_array=data['user_id'].values\n",
    "timestamp_array=data['insert_time'].dt.date.values\n",
    "application_array=data['application_id'].values\n",
    "array=np.zeros(len(data))\n",
    "recent_user=0\n",
    "recent_application=0\n",
    "i = 0\n",
    "store = float(0)"
   ]
  },
  {
   "cell_type": "code",
   "execution_count": 22,
   "id": "b854607f",
   "metadata": {},
   "outputs": [],
   "source": [
    "# user별로 이전에 application을 승인했는지 여부를 종합한 파생변수를 만듭니다.\n",
    "# 이전에 application을 승인한 경우 그 사이 흐른 시간만큼 지수적으로 할인합니다.\n",
    "for u in user_array:\n",
    "    if u==recent_user:\n",
    "        if application_array[i]==recent_application:\n",
    "            array[i]=store\n",
    "        else:\n",
    "            store=0\n",
    "            for t in time_list:\n",
    "                if timestamp_array[i]==t:\n",
    "                    store=store+1\n",
    "                else:\n",
    "                    store=store+0.9**((timestamp_array[i]-t).days)\n",
    "                    \n",
    "            array[i]=store\n",
    "            time_list.append(timestamp_array[i])\n",
    "            recent_application=application_array[i]\n",
    "    else:\n",
    "        time_list=[]\n",
    "        store=0\n",
    "        array[i]=store\n",
    "        time_list.append(timestamp_array[i])\n",
    "        recent_user=user_array[i]\n",
    "        recent_application=application_array[i]\n",
    "    i=i+1"
   ]
  },
  {
   "cell_type": "code",
   "execution_count": 23,
   "id": "b0f90c1f",
   "metadata": {},
   "outputs": [],
   "source": [
    "data['recent_app_count'] = array"
   ]
  },
  {
   "cell_type": "code",
   "execution_count": 85,
   "id": "76215f79",
   "metadata": {},
   "outputs": [],
   "source": [
    "problem1_data=data[data['insert_time']<'2022-06-01']\n",
    "problem1_data=problem1_data.sort_values(by=['is_applied', 'loan_rate'])\n",
    "problem1_data=problem1_data.drop_duplicates(['application_id'],keep='last')"
   ]
  },
  {
   "cell_type": "code",
   "execution_count": 86,
   "id": "698c1786",
   "metadata": {},
   "outputs": [],
   "source": [
    "# 2022년 05월 16일을 기준으로 학습 데이터, 테스트 데이터를 나누었습니다.\n",
    "problem1_train_data=problem1_data[problem1_data['insert_time']<'2022-05-16']\n",
    "problem1_train_label=problem1_train_data['is_applied']\n",
    "del problem1_train_data['is_applied']\n",
    "problem1_test_data=problem1_data[problem1_data['insert_time']>='2022-05-16']\n",
    "problem1_test_label=problem1_test_data['is_applied']\n",
    "del problem1_test_data['is_applied']"
   ]
  },
  {
   "cell_type": "code",
   "execution_count": 87,
   "id": "64306f3f",
   "metadata": {},
   "outputs": [],
   "source": [
    "del problem1_train_data[\"insert_time\"]\n",
    "del problem1_test_data[\"insert_time\"]\n",
    "del problem1_train_data[\"user_id\"]\n",
    "del problem1_train_data[\"application_id\"]\n",
    "del problem1_test_data[\"user_id\"]\n",
    "del problem1_test_data[\"application_id\"]"
   ]
  },
  {
   "cell_type": "code",
   "execution_count": 88,
   "id": "af40e02b",
   "metadata": {},
   "outputs": [],
   "source": [
    "# CatBoost를 활용해 1단계 문제 (한도 조회시 승인 여부)를 해결합니다.\n",
    "problem1_model = CatBoostClassifier(iterations=4,\n",
    "                           depth=15,\n",
    "                           learning_rate=0.83,\n",
    "                           loss_function='Logloss',\n",
    "                           verbose=True)"
   ]
  },
  {
   "cell_type": "code",
   "execution_count": 89,
   "id": "c3a928b1",
   "metadata": {},
   "outputs": [
    {
     "name": "stdout",
     "output_type": "stream",
     "text": [
      "0:\tlearn: 0.4371297\ttotal: 277ms\tremaining: 832ms\n",
      "1:\tlearn: 0.3897184\ttotal: 527ms\tremaining: 527ms\n",
      "2:\tlearn: 0.3720202\ttotal: 841ms\tremaining: 280ms\n",
      "3:\tlearn: 0.3651273\ttotal: 1.1s\tremaining: 0us\n"
     ]
    },
    {
     "data": {
      "text/plain": [
       "<catboost.core.CatBoostClassifier at 0x286195c30>"
      ]
     },
     "execution_count": 89,
     "metadata": {},
     "output_type": "execute_result"
    }
   ],
   "source": [
    "problem1_model.fit(problem1_train_data,problem1_train_label)"
   ]
  },
  {
   "cell_type": "code",
   "execution_count": 90,
   "id": "e5784a7b",
   "metadata": {},
   "outputs": [],
   "source": [
    "applied_ratio = problem1_data.is_applied.mean()"
   ]
  },
  {
   "cell_type": "code",
   "execution_count": 91,
   "id": "c44dcf4e",
   "metadata": {},
   "outputs": [
    {
     "data": {
      "text/plain": [
       "0.8333056731114983"
      ]
     },
     "execution_count": 91,
     "metadata": {},
     "output_type": "execute_result"
    }
   ],
   "source": [
    "# f1_score이 0.83입니다.\n",
    "preds_proba=problem1_model.predict_proba(problem1_test_data)\n",
    "preds_proba=preds_proba[:,1]\n",
    "f1_score(problem1_test_label,preds_proba> applied_ratio)"
   ]
  },
  {
   "cell_type": "code",
   "execution_count": 92,
   "id": "9ead0693",
   "metadata": {
    "scrolled": true
   },
   "outputs": [
    {
     "data": {
      "text/plain": [
       "array([14.23908267, 38.68345526, 15.62255784,  3.17574216, 13.64622827,\n",
       "        6.69010945,  7.94282434,  0.        ])"
      ]
     },
     "execution_count": 92,
     "metadata": {},
     "output_type": "execute_result"
    }
   ],
   "source": [
    "# 각 feature의 중요도를 표시합니다.\n",
    "problem1_model.get_feature_importance()"
   ]
  },
  {
   "cell_type": "code",
   "execution_count": 95,
   "id": "23b62f17",
   "metadata": {},
   "outputs": [
    {
     "name": "stderr",
     "output_type": "stream",
     "text": [
      "/var/folders/mj/jcmvk9nd451b_mnylnj74qrm0000gn/T/ipykernel_4042/762248113.py:1: SettingWithCopyWarning: \n",
      "A value is trying to be set on a copy of a slice from a DataFrame.\n",
      "Try using .loc[row_indexer,col_indexer] = value instead\n",
      "\n",
      "See the caveats in the documentation: https://pandas.pydata.org/pandas-docs/stable/user_guide/indexing.html#returning-a-view-versus-a-copy\n",
      "  problem1_test_data.loc[:, \"predict\"] = preds_proba > applied_ratio\n"
     ]
    }
   ],
   "source": [
    "problem1_test_data.loc[:, \"predict\"] = preds_proba > applied_ratio"
   ]
  },
  {
   "cell_type": "code",
   "execution_count": 96,
   "id": "7034e2ac",
   "metadata": {},
   "outputs": [
    {
     "name": "stderr",
     "output_type": "stream",
     "text": [
      "/var/folders/mj/jcmvk9nd451b_mnylnj74qrm0000gn/T/ipykernel_4042/1083243462.py:4: SettingWithCopyWarning: \n",
      "A value is trying to be set on a copy of a slice from a DataFrame.\n",
      "Try using .loc[row_indexer,col_indexer] = value instead\n",
      "\n",
      "See the caveats in the documentation: https://pandas.pydata.org/pandas-docs/stable/user_guide/indexing.html#returning-a-view-versus-a-copy\n",
      "  predict_app.loc[:, [\"sum\", \"is_enough\", \"predict\"]] = 0\n"
     ]
    }
   ],
   "source": [
    "# 2단계 문제를 풀기 위해 1단계에서 승인된 것으로 표시된 한도 조회에 대하여 데이터를 불러옵니다.\n",
    "idx = problem1_test_data.loc[problem1_test_data[\"predict\"]].index\n",
    "app_yes_id= problem1_data.loc[idx, \"application_id\"]\n",
    "predict_app = problem2_data.loc[problem2_data.application_id.isin(app_yes_id)]\n",
    "predict_app.loc[:, [\"sum\", \"is_enough\", \"predict\"]] = 0"
   ]
  },
  {
   "cell_type": "code",
   "execution_count": 75,
   "id": "aebaa100",
   "metadata": {},
   "outputs": [],
   "source": [
    "problem2_data = data.loc[data.insert_time >= \"2022-05-16\"]\n",
    "problem2_data = data.loc[data.insert_time < \"2022-06-01\"]"
   ]
  },
  {
   "cell_type": "code",
   "execution_count": 78,
   "id": "b9fe832e",
   "metadata": {},
   "outputs": [],
   "source": [
    "# 필요한 feature만 가져옵니다.user의 feature은 사용하지 않습니다.\n",
    "predict_app = predict_app[[\n",
    "    \"application_id\", \"loan_limit\", \"loan_rate\", \"is_applied\", \n",
    "    \"desired_amount\", \"sum\", \"is_enough\", \"predict\"\n",
    "]]"
   ]
  },
  {
   "cell_type": "code",
   "execution_count": 79,
   "id": "d5be2424",
   "metadata": {},
   "outputs": [],
   "source": [
    "predict_app = predict_app.sort_values(by = [\"application_id\", \"loan_rate\"])"
   ]
  },
  {
   "cell_type": "code",
   "execution_count": 80,
   "id": "d377d59c",
   "metadata": {},
   "outputs": [],
   "source": [
    "predict_app.iloc[0, 5] = predict_app.iloc[0, 1]"
   ]
  },
  {
   "cell_type": "code",
   "execution_count": 81,
   "id": "2354e871",
   "metadata": {},
   "outputs": [],
   "source": [
    "for i in range (1, len(predict_app)):\n",
    "    predict_app.iloc[i, 5] = predict_app.iloc[i, 1]\n",
    "    if (predict_app.iloc[i, 0] == predict_app.iloc[i-1, 0]):\n",
    "        predict_app.iloc[i, 5] += predict_app.iloc[i-1, 5]"
   ]
  },
  {
   "cell_type": "code",
   "execution_count": 82,
   "id": "eed62468",
   "metadata": {},
   "outputs": [],
   "source": [
    "predict_app[\"is_enough\"] = predict_app[\"sum\"] > predict_app.desired_amount\n",
    "predict_app.iloc[0, 7] = 1\n",
    "predict_app.iloc[1, 7] = 1"
   ]
  },
  {
   "cell_type": "code",
   "execution_count": 83,
   "id": "b979723e",
   "metadata": {},
   "outputs": [],
   "source": [
    "# loan_rate 순으로 정렬한 후 desired_amount를 넘을 때까지 대출한다고 가정합니다.\n",
    "for i in range(2, len(predict_app)):\n",
    "    if (predict_app.iloc[i, 0] == predict_app.iloc[i-1, 0]):\n",
    "        if (not predict_app.iloc[i, 6]):\n",
    "            predict_app.iloc[i, 7] = 1\n",
    "        elif (not predict_app.iloc[i-1, 6]):\n",
    "            predict_app.iloc[i, 7] = 1\n",
    "        elif (not predict_app.iloc[i-2, 6]):\n",
    "            predict_app.iloc[i, 7] = 1\n",
    "    else:\n",
    "        predict_app.iloc[i, 7] = 1"
   ]
  },
  {
   "cell_type": "code",
   "execution_count": 84,
   "id": "9f0ff13a",
   "metadata": {},
   "outputs": [
    {
     "data": {
      "text/plain": [
       "0.44281519441898737"
      ]
     },
     "execution_count": 84,
     "metadata": {},
     "output_type": "execute_result"
    }
   ],
   "source": [
    "# 0.44의 f1_score입니다.\n",
    "f1_score(predict_app.is_applied, predict_app.predict)"
   ]
  },
  {
   "cell_type": "code",
   "execution_count": 45,
   "id": "e8dc541c",
   "metadata": {},
   "outputs": [],
   "source": [
    "applied_index = predict_app.loc[predict_app.predict == 1].index"
   ]
  },
  {
   "cell_type": "code",
   "execution_count": 46,
   "id": "30e886d5",
   "metadata": {},
   "outputs": [],
   "source": [
    "data.loc[:, \"predict\"] = 0\n",
    "data.loc[applied_index, \"predict\"] = 1"
   ]
  },
  {
   "cell_type": "code",
   "execution_count": 47,
   "id": "9f855631",
   "metadata": {},
   "outputs": [],
   "source": [
    "test_data = data.loc[data.insert_time >= \"2022-05-16\"]\n",
    "test_data = test_data.loc[test_data.insert_time < \"2022-06-01\"]"
   ]
  },
  {
   "cell_type": "code",
   "execution_count": 48,
   "id": "95630d0c",
   "metadata": {},
   "outputs": [
    {
     "data": {
      "text/plain": [
       "0.4522449618295014"
      ]
     },
     "execution_count": 48,
     "metadata": {},
     "output_type": "execute_result"
    }
   ],
   "source": [
    "# 1, 2단계 문제 총합에 대한 f1_score: 0.45입니다.\n",
    "f1_score(test_data.is_applied, test_data.predict)"
   ]
  }
 ],
 "metadata": {
  "kernelspec": {
   "display_name": "Python 3 (ipykernel)",
   "language": "python",
   "name": "python3"
  },
  "language_info": {
   "codemirror_mode": {
    "name": "ipython",
    "version": 3
   },
   "file_extension": ".py",
   "mimetype": "text/x-python",
   "name": "python",
   "nbconvert_exporter": "python",
   "pygments_lexer": "ipython3",
   "version": "3.10.6"
  }
 },
 "nbformat": 4,
 "nbformat_minor": 5
}
