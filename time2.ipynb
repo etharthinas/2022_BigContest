{
 "cells": [
  {
   "cell_type": "code",
   "execution_count": 1,
   "id": "25eaa242",
   "metadata": {},
   "outputs": [],
   "source": [
    "import pandas as pd\n",
    "from datetime import datetime\n",
    "from datetime import timedelta\n",
    "from catboost import CatBoostClassifier\n",
    "from sklearn.metrics import f1_score, confusion_matrix\n",
    "data = pd.read_csv(\"learn.csv\")"
   ]
  },
  {
   "cell_type": "code",
   "execution_count": 2,
   "id": "890ced33",
   "metadata": {},
   "outputs": [],
   "source": [
    "import numpy as np\n",
    "from catboost import Pool"
   ]
  },
  {
   "cell_type": "code",
   "execution_count": 3,
   "id": "99e13386",
   "metadata": {},
   "outputs": [],
   "source": [
    "del data [\"Unnamed: 0\"]"
   ]
  },
  {
   "cell_type": "code",
   "execution_count": 11,
   "id": "5331148a",
   "metadata": {},
   "outputs": [],
   "source": [
    "data.insert_time = pd.to_datetime(data.insert_time)\n",
    "data.company_enter_month = pd.to_datetime(data.company_enter_month)"
   ]
  },
  {
   "cell_type": "code",
   "execution_count": 6,
   "id": "d25ad434",
   "metadata": {},
   "outputs": [],
   "source": [
    "data=data[['loan_limit','loan_rate','credit_score',\n",
    "           'company_enter_month','desired_amount','income_type','insert_time',\n",
    "           'user_id','application_id', 'is_applied']]"
   ]
  },
  {
   "cell_type": "code",
   "execution_count": 7,
   "id": "402a8674",
   "metadata": {},
   "outputs": [],
   "source": [
    "data['earnedincome']=(data['income_type']=='EARNEDINCOME')*1\n",
    "del data ['income_type']"
   ]
  },
  {
   "cell_type": "code",
   "execution_count": 8,
   "id": "9b8b07d5",
   "metadata": {
    "scrolled": true
   },
   "outputs": [
    {
     "data": {
      "text/html": [
       "<div>\n",
       "<style scoped>\n",
       "    .dataframe tbody tr th:only-of-type {\n",
       "        vertical-align: middle;\n",
       "    }\n",
       "\n",
       "    .dataframe tbody tr th {\n",
       "        vertical-align: top;\n",
       "    }\n",
       "\n",
       "    .dataframe thead th {\n",
       "        text-align: right;\n",
       "    }\n",
       "</style>\n",
       "<table border=\"1\" class=\"dataframe\">\n",
       "  <thead>\n",
       "    <tr style=\"text-align: right;\">\n",
       "      <th></th>\n",
       "      <th>loan_limit</th>\n",
       "      <th>loan_rate</th>\n",
       "      <th>credit_score</th>\n",
       "      <th>company_enter_month</th>\n",
       "      <th>desired_amount</th>\n",
       "      <th>insert_time</th>\n",
       "      <th>user_id</th>\n",
       "      <th>application_id</th>\n",
       "      <th>is_applied</th>\n",
       "      <th>earnedincome</th>\n",
       "    </tr>\n",
       "  </thead>\n",
       "  <tbody>\n",
       "    <tr>\n",
       "      <th>9184097</th>\n",
       "      <td>20000000.0</td>\n",
       "      <td>15.0</td>\n",
       "      <td>810.0</td>\n",
       "      <td>2022-01-01</td>\n",
       "      <td>15000000.0</td>\n",
       "      <td>2022-05-21 23:41:09</td>\n",
       "      <td>9</td>\n",
       "      <td>248576</td>\n",
       "      <td>0.0</td>\n",
       "      <td>1</td>\n",
       "    </tr>\n",
       "    <tr>\n",
       "      <th>9184098</th>\n",
       "      <td>16000000.0</td>\n",
       "      <td>7.5</td>\n",
       "      <td>810.0</td>\n",
       "      <td>2022-01-01</td>\n",
       "      <td>15000000.0</td>\n",
       "      <td>2022-05-21 23:41:09</td>\n",
       "      <td>9</td>\n",
       "      <td>248576</td>\n",
       "      <td>0.0</td>\n",
       "      <td>1</td>\n",
       "    </tr>\n",
       "    <tr>\n",
       "      <th>9184099</th>\n",
       "      <td>16000000.0</td>\n",
       "      <td>7.0</td>\n",
       "      <td>810.0</td>\n",
       "      <td>2022-01-01</td>\n",
       "      <td>15000000.0</td>\n",
       "      <td>2022-05-21 23:41:09</td>\n",
       "      <td>9</td>\n",
       "      <td>248576</td>\n",
       "      <td>0.0</td>\n",
       "      <td>1</td>\n",
       "    </tr>\n",
       "    <tr>\n",
       "      <th>9184100</th>\n",
       "      <td>16000000.0</td>\n",
       "      <td>6.5</td>\n",
       "      <td>810.0</td>\n",
       "      <td>2022-01-01</td>\n",
       "      <td>15000000.0</td>\n",
       "      <td>2022-05-21 23:41:09</td>\n",
       "      <td>9</td>\n",
       "      <td>248576</td>\n",
       "      <td>0.0</td>\n",
       "      <td>1</td>\n",
       "    </tr>\n",
       "    <tr>\n",
       "      <th>9184101</th>\n",
       "      <td>20000000.0</td>\n",
       "      <td>14.4</td>\n",
       "      <td>810.0</td>\n",
       "      <td>2022-01-01</td>\n",
       "      <td>15000000.0</td>\n",
       "      <td>2022-05-21 23:41:09</td>\n",
       "      <td>9</td>\n",
       "      <td>248576</td>\n",
       "      <td>0.0</td>\n",
       "      <td>1</td>\n",
       "    </tr>\n",
       "    <tr>\n",
       "      <th>...</th>\n",
       "      <td>...</td>\n",
       "      <td>...</td>\n",
       "      <td>...</td>\n",
       "      <td>...</td>\n",
       "      <td>...</td>\n",
       "      <td>...</td>\n",
       "      <td>...</td>\n",
       "      <td>...</td>\n",
       "      <td>...</td>\n",
       "      <td>...</td>\n",
       "    </tr>\n",
       "    <tr>\n",
       "      <th>7784593</th>\n",
       "      <td>28000000.0</td>\n",
       "      <td>6.9</td>\n",
       "      <td>900.0</td>\n",
       "      <td>2022-04-01</td>\n",
       "      <td>200.0</td>\n",
       "      <td>2022-05-10 20:40:52</td>\n",
       "      <td>879697</td>\n",
       "      <td>1543548</td>\n",
       "      <td>0.0</td>\n",
       "      <td>1</td>\n",
       "    </tr>\n",
       "    <tr>\n",
       "      <th>7784594</th>\n",
       "      <td>50000000.0</td>\n",
       "      <td>11.9</td>\n",
       "      <td>900.0</td>\n",
       "      <td>2022-04-01</td>\n",
       "      <td>200.0</td>\n",
       "      <td>2022-05-10 20:40:52</td>\n",
       "      <td>879697</td>\n",
       "      <td>1543548</td>\n",
       "      <td>0.0</td>\n",
       "      <td>1</td>\n",
       "    </tr>\n",
       "    <tr>\n",
       "      <th>7784627</th>\n",
       "      <td>3000000.0</td>\n",
       "      <td>5.4</td>\n",
       "      <td>900.0</td>\n",
       "      <td>2022-04-01</td>\n",
       "      <td>200.0</td>\n",
       "      <td>2022-05-10 20:40:52</td>\n",
       "      <td>879697</td>\n",
       "      <td>1543548</td>\n",
       "      <td>0.0</td>\n",
       "      <td>1</td>\n",
       "    </tr>\n",
       "    <tr>\n",
       "      <th>7784643</th>\n",
       "      <td>50000000.0</td>\n",
       "      <td>10.6</td>\n",
       "      <td>900.0</td>\n",
       "      <td>2022-04-01</td>\n",
       "      <td>200.0</td>\n",
       "      <td>2022-05-10 20:40:52</td>\n",
       "      <td>879697</td>\n",
       "      <td>1543548</td>\n",
       "      <td>0.0</td>\n",
       "      <td>1</td>\n",
       "    </tr>\n",
       "    <tr>\n",
       "      <th>7784644</th>\n",
       "      <td>34000000.0</td>\n",
       "      <td>11.9</td>\n",
       "      <td>900.0</td>\n",
       "      <td>2022-04-01</td>\n",
       "      <td>200.0</td>\n",
       "      <td>2022-05-10 20:40:52</td>\n",
       "      <td>879697</td>\n",
       "      <td>1543548</td>\n",
       "      <td>0.0</td>\n",
       "      <td>1</td>\n",
       "    </tr>\n",
       "  </tbody>\n",
       "</table>\n",
       "<p>10264386 rows × 10 columns</p>\n",
       "</div>"
      ],
      "text/plain": [
       "         loan_limit  loan_rate  credit_score company_enter_month  \\\n",
       "9184097  20000000.0       15.0         810.0          2022-01-01   \n",
       "9184098  16000000.0        7.5         810.0          2022-01-01   \n",
       "9184099  16000000.0        7.0         810.0          2022-01-01   \n",
       "9184100  16000000.0        6.5         810.0          2022-01-01   \n",
       "9184101  20000000.0       14.4         810.0          2022-01-01   \n",
       "...             ...        ...           ...                 ...   \n",
       "7784593  28000000.0        6.9         900.0          2022-04-01   \n",
       "7784594  50000000.0       11.9         900.0          2022-04-01   \n",
       "7784627   3000000.0        5.4         900.0          2022-04-01   \n",
       "7784643  50000000.0       10.6         900.0          2022-04-01   \n",
       "7784644  34000000.0       11.9         900.0          2022-04-01   \n",
       "\n",
       "         desired_amount          insert_time  user_id  application_id  \\\n",
       "9184097      15000000.0  2022-05-21 23:41:09        9          248576   \n",
       "9184098      15000000.0  2022-05-21 23:41:09        9          248576   \n",
       "9184099      15000000.0  2022-05-21 23:41:09        9          248576   \n",
       "9184100      15000000.0  2022-05-21 23:41:09        9          248576   \n",
       "9184101      15000000.0  2022-05-21 23:41:09        9          248576   \n",
       "...                 ...                  ...      ...             ...   \n",
       "7784593           200.0  2022-05-10 20:40:52   879697         1543548   \n",
       "7784594           200.0  2022-05-10 20:40:52   879697         1543548   \n",
       "7784627           200.0  2022-05-10 20:40:52   879697         1543548   \n",
       "7784643           200.0  2022-05-10 20:40:52   879697         1543548   \n",
       "7784644           200.0  2022-05-10 20:40:52   879697         1543548   \n",
       "\n",
       "         is_applied  earnedincome  \n",
       "9184097         0.0             1  \n",
       "9184098         0.0             1  \n",
       "9184099         0.0             1  \n",
       "9184100         0.0             1  \n",
       "9184101         0.0             1  \n",
       "...             ...           ...  \n",
       "7784593         0.0             1  \n",
       "7784594         0.0             1  \n",
       "7784627         0.0             1  \n",
       "7784643         0.0             1  \n",
       "7784644         0.0             1  \n",
       "\n",
       "[10264386 rows x 10 columns]"
      ]
     },
     "execution_count": 8,
     "metadata": {},
     "output_type": "execute_result"
    }
   ],
   "source": [
    "data.sort_values(by=['user_id','insert_time'])"
   ]
  },
  {
   "cell_type": "code",
   "execution_count": 12,
   "id": "0745671e",
   "metadata": {},
   "outputs": [],
   "source": [
    "user=data['user_id'].values\n",
    "time=data['insert_time'].dt.date.values\n",
    "application=data['application_id'].values\n",
    "arr=np.zeros(len(data))\n",
    "recent_user=0\n",
    "recent_application=0\n",
    "i = 0\n",
    "store = float(0)"
   ]
  },
  {
   "cell_type": "code",
   "execution_count": 13,
   "id": "b2d03c46",
   "metadata": {},
   "outputs": [],
   "source": [
    "\n",
    "for u in user:\n",
    "    if u==recent_user:\n",
    "        if application[i]==recent_application:\n",
    "            arr[i]=store\n",
    "        else:\n",
    "            store=0\n",
    "            for l in time_list:\n",
    "                if time[i]==l:\n",
    "                    store=store+1\n",
    "                else:\n",
    "                    store=store+0.9**((time[i]-l).days)\n",
    "                    \n",
    "            arr[i]=store\n",
    "            time_list.append(time[i])\n",
    "            recent_application=application[i]\n",
    "    else:\n",
    "        time_list=[]\n",
    "        store=0\n",
    "        arr[i]=store\n",
    "        time_list.append(time[i])\n",
    "        recent_user=user[i]\n",
    "        recent_application=application[i]\n",
    "    i=i+1"
   ]
  },
  {
   "cell_type": "code",
   "execution_count": 14,
   "id": "d22f4def",
   "metadata": {},
   "outputs": [],
   "source": [
    "data['recentappcount'] = arr"
   ]
  },
  {
   "cell_type": "code",
   "execution_count": 15,
   "id": "63460937",
   "metadata": {},
   "outputs": [],
   "source": [
    "data=data[data['insert_time']<'2022-06-01']\n",
    "data=data.sort_values(by='is_applied')\n",
    "data=data.drop_duplicates(['application_id'],keep='last')"
   ]
  },
  {
   "cell_type": "code",
   "execution_count": 16,
   "id": "3fbd76f0",
   "metadata": {},
   "outputs": [],
   "source": [
    "train_data=data[data['insert_time']<'2022-05-16']\n",
    "train_data2=train_data.copy()\n",
    "del train_data['is_applied']\n",
    "test_data=data[data['insert_time']>='2022-05-16']\n",
    "test_data=test_data[test_data['insert_time']<'2022-06-01']\n",
    "test_data2=test_data.copy()\n",
    "del test_data['is_applied']\n",
    "train_label=train_data2['is_applied']\n",
    "test_label=test_data2['is_applied']"
   ]
  },
  {
   "cell_type": "code",
   "execution_count": 17,
   "id": "f60efd8d",
   "metadata": {},
   "outputs": [],
   "source": [
    "model = CatBoostClassifier(iterations=4,\n",
    "                           depth=15,\n",
    "                           learning_rate=0.83,\n",
    "                           loss_function='Logloss',\n",
    "                           verbose=True)"
   ]
  },
  {
   "cell_type": "code",
   "execution_count": 18,
   "id": "aed811f9",
   "metadata": {},
   "outputs": [
    {
     "name": "stdout",
     "output_type": "stream",
     "text": [
      "0:\tlearn: 0.5935547\ttotal: 454ms\tremaining: 1.36s\n",
      "1:\tlearn: 0.5742657\ttotal: 918ms\tremaining: 918ms\n",
      "2:\tlearn: 0.5653454\ttotal: 1.25s\tremaining: 418ms\n",
      "3:\tlearn: 0.5617062\ttotal: 1.61s\tremaining: 0us\n"
     ]
    },
    {
     "data": {
      "text/plain": [
       "<catboost.core.CatBoostClassifier at 0x2913c6d70>"
      ]
     },
     "execution_count": 18,
     "metadata": {},
     "output_type": "execute_result"
    }
   ],
   "source": [
    "model.fit(train_data,train_label)"
   ]
  },
  {
   "cell_type": "code",
   "execution_count": 25,
   "id": "852bed0a",
   "metadata": {},
   "outputs": [],
   "source": [
    "preds_proba=model.predict_proba(test_data)\n",
    "preds_proba=preds_proba[:,1]"
   ]
  },
  {
   "cell_type": "code",
   "execution_count": 26,
   "id": "18fda97c",
   "metadata": {},
   "outputs": [
    {
     "data": {
      "text/plain": [
       "0.7411930065571477"
      ]
     },
     "execution_count": 26,
     "metadata": {},
     "output_type": "execute_result"
    }
   ],
   "source": [
    "f1_score(test_label,preds_proba> 1- 0.5179389239664024)"
   ]
  },
  {
   "cell_type": "code",
   "execution_count": 24,
   "id": "411b5f41",
   "metadata": {},
   "outputs": [
    {
     "data": {
      "text/plain": [
       "0.7357939647414523"
      ]
     },
     "execution_count": 24,
     "metadata": {},
     "output_type": "execute_result"
    }
   ],
   "source": [
    "preds_class=model.predict(test_data)\n",
    "f1_score(test_label,preds_class)"
   ]
  },
  {
   "cell_type": "code",
   "execution_count": 81,
   "id": "47e0b6d5",
   "metadata": {},
   "outputs": [
    {
     "data": {
      "text/plain": [
       "array([35816, 26429, 14264, 58270])"
      ]
     },
     "execution_count": 81,
     "metadata": {},
     "output_type": "execute_result"
    }
   ],
   "source": [
    "confusion_matrix(test_label, preds_proba >  1- 0.5179389239664024).ravel()"
   ]
  },
  {
   "cell_type": "code",
   "execution_count": 30,
   "id": "11202492",
   "metadata": {},
   "outputs": [
    {
     "data": {
      "text/plain": [
       "array([24.32075591, 23.08832804, 19.09794364,  2.41671911, 22.7779675 ,\n",
       "        1.73469843,  0.61209716,  0.64020002,  5.3112902 ,  0.        ])"
      ]
     },
     "execution_count": 30,
     "metadata": {},
     "output_type": "execute_result"
    }
   ],
   "source": [
    "model.get_feature_importance()"
   ]
  },
  {
   "cell_type": "code",
   "execution_count": 32,
   "id": "a7043751",
   "metadata": {},
   "outputs": [],
   "source": [
    "test_data.loc[:, \"predict\"] = preds_proba > 1- 0.5179389239664024"
   ]
  },
  {
   "cell_type": "code",
   "execution_count": 36,
   "id": "8d0cfcfa",
   "metadata": {},
   "outputs": [],
   "source": [
    "appyes = test_data.loc[test_data.predict, \"application_id\"]"
   ]
  },
  {
   "cell_type": "code",
   "execution_count": 38,
   "id": "f44be903",
   "metadata": {},
   "outputs": [],
   "source": [
    "newdata = pd.read_csv(\"learn.csv\")"
   ]
  },
  {
   "cell_type": "code",
   "execution_count": 39,
   "id": "f38be207",
   "metadata": {},
   "outputs": [],
   "source": [
    "newdata.loc[:, \"predict\"] = 0"
   ]
  },
  {
   "cell_type": "code",
   "execution_count": 42,
   "id": "414f7aab",
   "metadata": {},
   "outputs": [],
   "source": [
    "del newdata[\"Unnamed: 0\"]"
   ]
  },
  {
   "cell_type": "code",
   "execution_count": 43,
   "id": "eb02cd96",
   "metadata": {},
   "outputs": [],
   "source": [
    "newdata.insert_time = pd.to_datetime(newdata.insert_time)\n",
    "newdata.company_enter_month = pd.to_datetime(newdata.company_enter_month)"
   ]
  },
  {
   "cell_type": "code",
   "execution_count": 44,
   "id": "a1ed11cf",
   "metadata": {},
   "outputs": [],
   "source": [
    "newdata=newdata[['loan_limit','loan_rate','credit_score',\n",
    "           'company_enter_month','desired_amount','income_type','insert_time',\n",
    "           'user_id','application_id', 'is_applied']]"
   ]
  },
  {
   "cell_type": "code",
   "execution_count": 46,
   "id": "041f117a",
   "metadata": {},
   "outputs": [
    {
     "name": "stderr",
     "output_type": "stream",
     "text": [
      "/var/folders/mj/jcmvk9nd451b_mnylnj74qrm0000gn/T/ipykernel_13375/2673208710.py:1: SettingWithCopyWarning: \n",
      "A value is trying to be set on a copy of a slice from a DataFrame.\n",
      "Try using .loc[row_indexer,col_indexer] = value instead\n",
      "\n",
      "See the caveats in the documentation: https://pandas.pydata.org/pandas-docs/stable/user_guide/indexing.html#returning-a-view-versus-a-copy\n",
      "  newdata['earnedincome']=(newdata['income_type']=='EARNEDINCOME')*1\n"
     ]
    }
   ],
   "source": [
    "newdata['earnedincome']=(newdata['income_type']=='EARNEDINCOME')*1\n",
    "del newdata ['income_type']"
   ]
  },
  {
   "cell_type": "code",
   "execution_count": 47,
   "id": "fe1c4454",
   "metadata": {},
   "outputs": [],
   "source": [
    "xx = newdata.loc[newdata.application_id.isin(appyes)]"
   ]
  },
  {
   "cell_type": "code",
   "execution_count": 95,
   "id": "f21f3011",
   "metadata": {},
   "outputs": [],
   "source": [
    "xx.loc[:, [\"sum\", \"is_enough\", \"pred\"]] = 0"
   ]
  },
  {
   "cell_type": "code",
   "execution_count": 51,
   "id": "9e210dda",
   "metadata": {},
   "outputs": [],
   "source": [
    "xx = xx[[\"application_id\", \"loan_limit\", \"loan_rate\", \"is_applied\", \"desired_amount\", \"sum\", \"is_enough\", \"pred\"]]"
   ]
  },
  {
   "cell_type": "code",
   "execution_count": 94,
   "id": "ac56b2d0",
   "metadata": {},
   "outputs": [],
   "source": [
    "xx = xx.sort_values(by = [\"application_id\", \"loan_rate\"])"
   ]
  },
  {
   "cell_type": "code",
   "execution_count": 96,
   "id": "6292b3da",
   "metadata": {},
   "outputs": [],
   "source": [
    "xx.iloc[0, 5] = xx.iloc[0, 1]"
   ]
  },
  {
   "cell_type": "code",
   "execution_count": 97,
   "id": "8ee2bf3f",
   "metadata": {},
   "outputs": [],
   "source": [
    "for i in range (1, len(xx)):\n",
    "    xx.iloc[i, 5] = xx.iloc[i, 1]\n",
    "    if (xx.iloc[i, 0] == xx.iloc[i-1, 0]):\n",
    "        xx.iloc[i, 5] += xx.iloc[i-1, 5]"
   ]
  },
  {
   "cell_type": "code",
   "execution_count": 98,
   "id": "c8a23e34",
   "metadata": {},
   "outputs": [],
   "source": [
    "xx[\"is_enough\"] = xx[\"sum\"] > xx.desired_amount"
   ]
  },
  {
   "cell_type": "code",
   "execution_count": 99,
   "id": "d2c8ddd4",
   "metadata": {},
   "outputs": [],
   "source": [
    "for i in range(2, len(xx)):\n",
    "    if (xx.iloc[i, 0] == xx.iloc[i-1, 0]):\n",
    "        if (not xx.iloc[i, 6]):\n",
    "            xx.iloc[i, 7] = 1\n",
    "        elif (not xx.iloc[i-1, 6]):\n",
    "            xx.iloc[i, 7] = 1\n",
    "        elif (not xx.iloc[i-2, 6]):\n",
    "            xx.iloc[i, 7] = 1\n",
    "    else:\n",
    "        xx.iloc[i, 7] = 1"
   ]
  },
  {
   "cell_type": "code",
   "execution_count": 100,
   "id": "c6b6d553",
   "metadata": {},
   "outputs": [],
   "source": [
    "xx.iloc[0, 7] = 1\n",
    "xx.iloc[1, 7] = 1"
   ]
  },
  {
   "cell_type": "code",
   "execution_count": 101,
   "id": "f2b52c80",
   "metadata": {},
   "outputs": [
    {
     "data": {
      "text/html": [
       "<div>\n",
       "<style scoped>\n",
       "    .dataframe tbody tr th:only-of-type {\n",
       "        vertical-align: middle;\n",
       "    }\n",
       "\n",
       "    .dataframe tbody tr th {\n",
       "        vertical-align: top;\n",
       "    }\n",
       "\n",
       "    .dataframe thead th {\n",
       "        text-align: right;\n",
       "    }\n",
       "</style>\n",
       "<table border=\"1\" class=\"dataframe\">\n",
       "  <thead>\n",
       "    <tr style=\"text-align: right;\">\n",
       "      <th></th>\n",
       "      <th>application_id</th>\n",
       "      <th>loan_limit</th>\n",
       "      <th>loan_rate</th>\n",
       "      <th>is_applied</th>\n",
       "      <th>desired_amount</th>\n",
       "      <th>sum</th>\n",
       "      <th>is_enough</th>\n",
       "      <th>pred</th>\n",
       "    </tr>\n",
       "  </thead>\n",
       "  <tbody>\n",
       "    <tr>\n",
       "      <th>8839935</th>\n",
       "      <td>59</td>\n",
       "      <td>100000000.0</td>\n",
       "      <td>4.0</td>\n",
       "      <td>1.0</td>\n",
       "      <td>500000000.0</td>\n",
       "      <td>100000000</td>\n",
       "      <td>False</td>\n",
       "      <td>1</td>\n",
       "    </tr>\n",
       "    <tr>\n",
       "      <th>8839923</th>\n",
       "      <td>59</td>\n",
       "      <td>24000000.0</td>\n",
       "      <td>4.1</td>\n",
       "      <td>0.0</td>\n",
       "      <td>500000000.0</td>\n",
       "      <td>124000000</td>\n",
       "      <td>False</td>\n",
       "      <td>1</td>\n",
       "    </tr>\n",
       "    <tr>\n",
       "      <th>8839918</th>\n",
       "      <td>59</td>\n",
       "      <td>60000000.0</td>\n",
       "      <td>4.3</td>\n",
       "      <td>0.0</td>\n",
       "      <td>500000000.0</td>\n",
       "      <td>184000000</td>\n",
       "      <td>False</td>\n",
       "      <td>1</td>\n",
       "    </tr>\n",
       "    <tr>\n",
       "      <th>8839955</th>\n",
       "      <td>59</td>\n",
       "      <td>3000000.0</td>\n",
       "      <td>5.5</td>\n",
       "      <td>0.0</td>\n",
       "      <td>500000000.0</td>\n",
       "      <td>187000000</td>\n",
       "      <td>False</td>\n",
       "      <td>1</td>\n",
       "    </tr>\n",
       "    <tr>\n",
       "      <th>8839926</th>\n",
       "      <td>59</td>\n",
       "      <td>50000000.0</td>\n",
       "      <td>6.7</td>\n",
       "      <td>0.0</td>\n",
       "      <td>500000000.0</td>\n",
       "      <td>237000000</td>\n",
       "      <td>False</td>\n",
       "      <td>1</td>\n",
       "    </tr>\n",
       "    <tr>\n",
       "      <th>...</th>\n",
       "      <td>...</td>\n",
       "      <td>...</td>\n",
       "      <td>...</td>\n",
       "      <td>...</td>\n",
       "      <td>...</td>\n",
       "      <td>...</td>\n",
       "      <td>...</td>\n",
       "      <td>...</td>\n",
       "    </tr>\n",
       "    <tr>\n",
       "      <th>9879289</th>\n",
       "      <td>2167719</td>\n",
       "      <td>25000000.0</td>\n",
       "      <td>17.7</td>\n",
       "      <td>1.0</td>\n",
       "      <td>3000000.0</td>\n",
       "      <td>25000000</td>\n",
       "      <td>True</td>\n",
       "      <td>1</td>\n",
       "    </tr>\n",
       "    <tr>\n",
       "      <th>9879290</th>\n",
       "      <td>2167719</td>\n",
       "      <td>25000000.0</td>\n",
       "      <td>19.1</td>\n",
       "      <td>0.0</td>\n",
       "      <td>3000000.0</td>\n",
       "      <td>50000000</td>\n",
       "      <td>True</td>\n",
       "      <td>0</td>\n",
       "    </tr>\n",
       "    <tr>\n",
       "      <th>8720895</th>\n",
       "      <td>2167790</td>\n",
       "      <td>14000000.0</td>\n",
       "      <td>12.8</td>\n",
       "      <td>0.0</td>\n",
       "      <td>10000000.0</td>\n",
       "      <td>14000000</td>\n",
       "      <td>True</td>\n",
       "      <td>1</td>\n",
       "    </tr>\n",
       "    <tr>\n",
       "      <th>8720858</th>\n",
       "      <td>2167790</td>\n",
       "      <td>42000000.0</td>\n",
       "      <td>15.5</td>\n",
       "      <td>0.0</td>\n",
       "      <td>10000000.0</td>\n",
       "      <td>56000000</td>\n",
       "      <td>True</td>\n",
       "      <td>0</td>\n",
       "    </tr>\n",
       "    <tr>\n",
       "      <th>8720868</th>\n",
       "      <td>2167790</td>\n",
       "      <td>23000000.0</td>\n",
       "      <td>15.9</td>\n",
       "      <td>0.0</td>\n",
       "      <td>10000000.0</td>\n",
       "      <td>79000000</td>\n",
       "      <td>True</td>\n",
       "      <td>0</td>\n",
       "    </tr>\n",
       "  </tbody>\n",
       "</table>\n",
       "<p>1079110 rows × 8 columns</p>\n",
       "</div>"
      ],
      "text/plain": [
       "         application_id   loan_limit  loan_rate  is_applied  desired_amount  \\\n",
       "8839935              59  100000000.0        4.0         1.0     500000000.0   \n",
       "8839923              59   24000000.0        4.1         0.0     500000000.0   \n",
       "8839918              59   60000000.0        4.3         0.0     500000000.0   \n",
       "8839955              59    3000000.0        5.5         0.0     500000000.0   \n",
       "8839926              59   50000000.0        6.7         0.0     500000000.0   \n",
       "...                 ...          ...        ...         ...             ...   \n",
       "9879289         2167719   25000000.0       17.7         1.0       3000000.0   \n",
       "9879290         2167719   25000000.0       19.1         0.0       3000000.0   \n",
       "8720895         2167790   14000000.0       12.8         0.0      10000000.0   \n",
       "8720858         2167790   42000000.0       15.5         0.0      10000000.0   \n",
       "8720868         2167790   23000000.0       15.9         0.0      10000000.0   \n",
       "\n",
       "               sum  is_enough  pred  \n",
       "8839935  100000000      False     1  \n",
       "8839923  124000000      False     1  \n",
       "8839918  184000000      False     1  \n",
       "8839955  187000000      False     1  \n",
       "8839926  237000000      False     1  \n",
       "...            ...        ...   ...  \n",
       "9879289   25000000       True     1  \n",
       "9879290   50000000       True     0  \n",
       "8720895   14000000       True     1  \n",
       "8720858   56000000       True     0  \n",
       "8720868   79000000       True     0  \n",
       "\n",
       "[1079110 rows x 8 columns]"
      ]
     },
     "execution_count": 101,
     "metadata": {},
     "output_type": "execute_result"
    }
   ],
   "source": [
    "xx"
   ]
  },
  {
   "cell_type": "code",
   "execution_count": 102,
   "id": "c5943995",
   "metadata": {},
   "outputs": [
    {
     "data": {
      "text/plain": [
       "0.4193164202067218"
      ]
     },
     "execution_count": 102,
     "metadata": {},
     "output_type": "execute_result"
    }
   ],
   "source": [
    "f1_score(xx.is_applied, xx.pred)"
   ]
  },
  {
   "cell_type": "code",
   "execution_count": 103,
   "id": "9a722786",
   "metadata": {},
   "outputs": [],
   "source": [
    "yesindex = xx.loc[xx.pred == 1].index"
   ]
  },
  {
   "cell_type": "code",
   "execution_count": 104,
   "id": "5436d4f8",
   "metadata": {},
   "outputs": [],
   "source": [
    "test = newdata.loc[newdata.insert_time >= \"2022-05-16\"]"
   ]
  },
  {
   "cell_type": "code",
   "execution_count": 105,
   "id": "832ceb18",
   "metadata": {},
   "outputs": [
    {
     "name": "stderr",
     "output_type": "stream",
     "text": [
      "/var/folders/mj/jcmvk9nd451b_mnylnj74qrm0000gn/T/ipykernel_13375/4117222034.py:1: SettingWithCopyWarning: \n",
      "A value is trying to be set on a copy of a slice from a DataFrame.\n",
      "Try using .loc[row_indexer,col_indexer] = value instead\n",
      "\n",
      "See the caveats in the documentation: https://pandas.pydata.org/pandas-docs/stable/user_guide/indexing.html#returning-a-view-versus-a-copy\n",
      "  test.loc[:, \"predict\"] = 0\n"
     ]
    }
   ],
   "source": [
    "test.loc[:, \"predict\"] = 0"
   ]
  },
  {
   "cell_type": "code",
   "execution_count": 106,
   "id": "590d43df",
   "metadata": {},
   "outputs": [],
   "source": [
    "test.loc[yesindex, \"predict\"] = 1"
   ]
  },
  {
   "cell_type": "code",
   "execution_count": 107,
   "id": "344d298f",
   "metadata": {},
   "outputs": [
    {
     "data": {
      "text/html": [
       "<div>\n",
       "<style scoped>\n",
       "    .dataframe tbody tr th:only-of-type {\n",
       "        vertical-align: middle;\n",
       "    }\n",
       "\n",
       "    .dataframe tbody tr th {\n",
       "        vertical-align: top;\n",
       "    }\n",
       "\n",
       "    .dataframe thead th {\n",
       "        text-align: right;\n",
       "    }\n",
       "</style>\n",
       "<table border=\"1\" class=\"dataframe\">\n",
       "  <thead>\n",
       "    <tr style=\"text-align: right;\">\n",
       "      <th></th>\n",
       "      <th>loan_limit</th>\n",
       "      <th>loan_rate</th>\n",
       "      <th>credit_score</th>\n",
       "      <th>company_enter_month</th>\n",
       "      <th>desired_amount</th>\n",
       "      <th>insert_time</th>\n",
       "      <th>user_id</th>\n",
       "      <th>application_id</th>\n",
       "      <th>is_applied</th>\n",
       "      <th>earnedincome</th>\n",
       "      <th>predict</th>\n",
       "    </tr>\n",
       "  </thead>\n",
       "  <tbody>\n",
       "    <tr>\n",
       "      <th>8395658</th>\n",
       "      <td>13000000.0</td>\n",
       "      <td>17.5</td>\n",
       "      <td>650.0</td>\n",
       "      <td>2022-06-01</td>\n",
       "      <td>2000000.0</td>\n",
       "      <td>2022-05-16 00:11:50</td>\n",
       "      <td>355550</td>\n",
       "      <td>2136969</td>\n",
       "      <td>0.0</td>\n",
       "      <td>0</td>\n",
       "      <td>0</td>\n",
       "    </tr>\n",
       "    <tr>\n",
       "      <th>8395659</th>\n",
       "      <td>5000000.0</td>\n",
       "      <td>14.5</td>\n",
       "      <td>650.0</td>\n",
       "      <td>2022-06-01</td>\n",
       "      <td>2000000.0</td>\n",
       "      <td>2022-05-16 00:11:50</td>\n",
       "      <td>355550</td>\n",
       "      <td>2136969</td>\n",
       "      <td>0.0</td>\n",
       "      <td>0</td>\n",
       "      <td>0</td>\n",
       "    </tr>\n",
       "    <tr>\n",
       "      <th>8395660</th>\n",
       "      <td>3000000.0</td>\n",
       "      <td>12.5</td>\n",
       "      <td>650.0</td>\n",
       "      <td>2022-06-01</td>\n",
       "      <td>2000000.0</td>\n",
       "      <td>2022-05-16 00:11:50</td>\n",
       "      <td>355550</td>\n",
       "      <td>2136969</td>\n",
       "      <td>1.0</td>\n",
       "      <td>0</td>\n",
       "      <td>1</td>\n",
       "    </tr>\n",
       "    <tr>\n",
       "      <th>8395661</th>\n",
       "      <td>10000000.0</td>\n",
       "      <td>17.5</td>\n",
       "      <td>630.0</td>\n",
       "      <td>2020-10-01</td>\n",
       "      <td>5000000.0</td>\n",
       "      <td>2022-05-16 00:11:51</td>\n",
       "      <td>102740</td>\n",
       "      <td>824356</td>\n",
       "      <td>1.0</td>\n",
       "      <td>1</td>\n",
       "      <td>1</td>\n",
       "    </tr>\n",
       "    <tr>\n",
       "      <th>8395662</th>\n",
       "      <td>5000000.0</td>\n",
       "      <td>16.3</td>\n",
       "      <td>700.0</td>\n",
       "      <td>2022-06-01</td>\n",
       "      <td>1000000.0</td>\n",
       "      <td>2022-05-16 00:12:14</td>\n",
       "      <td>707400</td>\n",
       "      <td>993637</td>\n",
       "      <td>1.0</td>\n",
       "      <td>0</td>\n",
       "      <td>0</td>\n",
       "    </tr>\n",
       "    <tr>\n",
       "      <th>...</th>\n",
       "      <td>...</td>\n",
       "      <td>...</td>\n",
       "      <td>...</td>\n",
       "      <td>...</td>\n",
       "      <td>...</td>\n",
       "      <td>...</td>\n",
       "      <td>...</td>\n",
       "      <td>...</td>\n",
       "      <td>...</td>\n",
       "      <td>...</td>\n",
       "      <td>...</td>\n",
       "    </tr>\n",
       "    <tr>\n",
       "      <th>10264381</th>\n",
       "      <td>3000000.0</td>\n",
       "      <td>18.0</td>\n",
       "      <td>610.0</td>\n",
       "      <td>1997-04-01</td>\n",
       "      <td>50000000.0</td>\n",
       "      <td>2022-05-31 23:54:27</td>\n",
       "      <td>717233</td>\n",
       "      <td>455157</td>\n",
       "      <td>0.0</td>\n",
       "      <td>1</td>\n",
       "      <td>0</td>\n",
       "    </tr>\n",
       "    <tr>\n",
       "      <th>10264382</th>\n",
       "      <td>3000000.0</td>\n",
       "      <td>17.5</td>\n",
       "      <td>610.0</td>\n",
       "      <td>1997-04-01</td>\n",
       "      <td>50000000.0</td>\n",
       "      <td>2022-05-31 23:54:27</td>\n",
       "      <td>717233</td>\n",
       "      <td>455157</td>\n",
       "      <td>0.0</td>\n",
       "      <td>1</td>\n",
       "      <td>0</td>\n",
       "    </tr>\n",
       "    <tr>\n",
       "      <th>10264383</th>\n",
       "      <td>5000000.0</td>\n",
       "      <td>18.4</td>\n",
       "      <td>610.0</td>\n",
       "      <td>1997-04-01</td>\n",
       "      <td>50000000.0</td>\n",
       "      <td>2022-05-31 23:54:27</td>\n",
       "      <td>717233</td>\n",
       "      <td>455157</td>\n",
       "      <td>0.0</td>\n",
       "      <td>1</td>\n",
       "      <td>0</td>\n",
       "    </tr>\n",
       "    <tr>\n",
       "      <th>10264384</th>\n",
       "      <td>3000000.0</td>\n",
       "      <td>14.5</td>\n",
       "      <td>610.0</td>\n",
       "      <td>1997-04-01</td>\n",
       "      <td>50000000.0</td>\n",
       "      <td>2022-05-31 23:54:27</td>\n",
       "      <td>717233</td>\n",
       "      <td>455157</td>\n",
       "      <td>0.0</td>\n",
       "      <td>1</td>\n",
       "      <td>0</td>\n",
       "    </tr>\n",
       "    <tr>\n",
       "      <th>10264385</th>\n",
       "      <td>2000000.0</td>\n",
       "      <td>9.5</td>\n",
       "      <td>760.0</td>\n",
       "      <td>2019-05-01</td>\n",
       "      <td>40000000.0</td>\n",
       "      <td>2022-05-31 23:54:24</td>\n",
       "      <td>472597</td>\n",
       "      <td>831190</td>\n",
       "      <td>0.0</td>\n",
       "      <td>0</td>\n",
       "      <td>0</td>\n",
       "    </tr>\n",
       "  </tbody>\n",
       "</table>\n",
       "<p>1868728 rows × 11 columns</p>\n",
       "</div>"
      ],
      "text/plain": [
       "          loan_limit  loan_rate  credit_score company_enter_month  \\\n",
       "8395658   13000000.0       17.5         650.0          2022-06-01   \n",
       "8395659    5000000.0       14.5         650.0          2022-06-01   \n",
       "8395660    3000000.0       12.5         650.0          2022-06-01   \n",
       "8395661   10000000.0       17.5         630.0          2020-10-01   \n",
       "8395662    5000000.0       16.3         700.0          2022-06-01   \n",
       "...              ...        ...           ...                 ...   \n",
       "10264381   3000000.0       18.0         610.0          1997-04-01   \n",
       "10264382   3000000.0       17.5         610.0          1997-04-01   \n",
       "10264383   5000000.0       18.4         610.0          1997-04-01   \n",
       "10264384   3000000.0       14.5         610.0          1997-04-01   \n",
       "10264385   2000000.0        9.5         760.0          2019-05-01   \n",
       "\n",
       "          desired_amount         insert_time  user_id  application_id  \\\n",
       "8395658        2000000.0 2022-05-16 00:11:50   355550         2136969   \n",
       "8395659        2000000.0 2022-05-16 00:11:50   355550         2136969   \n",
       "8395660        2000000.0 2022-05-16 00:11:50   355550         2136969   \n",
       "8395661        5000000.0 2022-05-16 00:11:51   102740          824356   \n",
       "8395662        1000000.0 2022-05-16 00:12:14   707400          993637   \n",
       "...                  ...                 ...      ...             ...   \n",
       "10264381      50000000.0 2022-05-31 23:54:27   717233          455157   \n",
       "10264382      50000000.0 2022-05-31 23:54:27   717233          455157   \n",
       "10264383      50000000.0 2022-05-31 23:54:27   717233          455157   \n",
       "10264384      50000000.0 2022-05-31 23:54:27   717233          455157   \n",
       "10264385      40000000.0 2022-05-31 23:54:24   472597          831190   \n",
       "\n",
       "          is_applied  earnedincome  predict  \n",
       "8395658          0.0             0        0  \n",
       "8395659          0.0             0        0  \n",
       "8395660          1.0             0        1  \n",
       "8395661          1.0             1        1  \n",
       "8395662          1.0             0        0  \n",
       "...              ...           ...      ...  \n",
       "10264381         0.0             1        0  \n",
       "10264382         0.0             1        0  \n",
       "10264383         0.0             1        0  \n",
       "10264384         0.0             1        0  \n",
       "10264385         0.0             0        0  \n",
       "\n",
       "[1868728 rows x 11 columns]"
      ]
     },
     "execution_count": 107,
     "metadata": {},
     "output_type": "execute_result"
    }
   ],
   "source": [
    "test"
   ]
  },
  {
   "cell_type": "code",
   "execution_count": 108,
   "id": "0a3dcb29",
   "metadata": {},
   "outputs": [
    {
     "data": {
      "text/plain": [
       "0.3871856352196723"
      ]
     },
     "execution_count": 108,
     "metadata": {},
     "output_type": "execute_result"
    }
   ],
   "source": [
    "f1_score(test.is_applied, test.predict)"
   ]
  },
  {
   "cell_type": "code",
   "execution_count": 110,
   "id": "c442fdb3",
   "metadata": {},
   "outputs": [
    {
     "data": {
      "text/plain": [
       "array([1645075,  116835,   53126,   53692])"
      ]
     },
     "execution_count": 110,
     "metadata": {},
     "output_type": "execute_result"
    }
   ],
   "source": [
    "confusion_matrix(test.is_applied, test.predict).ravel()"
   ]
  }
 ],
 "metadata": {
  "kernelspec": {
   "display_name": "Python 3 (ipykernel)",
   "language": "python",
   "name": "python3"
  },
  "language_info": {
   "codemirror_mode": {
    "name": "ipython",
    "version": 3
   },
   "file_extension": ".py",
   "mimetype": "text/x-python",
   "name": "python",
   "nbconvert_exporter": "python",
   "pygments_lexer": "ipython3",
   "version": "3.10.6"
  }
 },
 "nbformat": 4,
 "nbformat_minor": 5
}
