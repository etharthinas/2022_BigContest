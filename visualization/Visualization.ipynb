{
 "cells": [
  {
   "cell_type": "code",
   "execution_count": 2,
   "id": "d1cf8f55",
   "metadata": {},
   "outputs": [],
   "source": [
    "import pandas as pd\n",
    "import numpy as np\n",
    "import matplotlib.pyplot as plt\n",
    "pd.set_option(\"display.max_columns\", None)\n",
    "import seaborn as sns\n",
    "import plotly.express as px\n",
    "import plotly.graph_objects as go"
   ]
  },
  {
   "cell_type": "code",
   "execution_count": 3,
   "id": "a7690aff",
   "metadata": {},
   "outputs": [],
   "source": [
    "data = pd.read_csv(\"learn.csv\")"
   ]
  },
  {
   "cell_type": "code",
   "execution_count": 4,
   "id": "f1d30ec7",
   "metadata": {},
   "outputs": [],
   "source": [
    "del data[\"Unnamed: 0\"]\n",
    "data.loanapply_insert_time = pd.to_datetime(data.loanapply_insert_time)\n",
    "data.insert_time = pd.to_datetime(data.insert_time)\n",
    "data.company_enter_month = pd.to_datetime(data.company_enter_month)"
   ]
  },
  {
   "cell_type": "markdown",
   "id": "bb6a192a",
   "metadata": {},
   "source": [
    "\"1. user들의 “비합리성” 척도: 승인된 application에 대해서 product를 이자율별로 나열시켜놓은 후에 가장 이자율을 적게 하는 경우의 이자율과 실제 선택된 상품을 기준으로 한 이자율 사이의 비율\\n\",\n",
    "    \"2. application별 product 수 히스토그램\\n\",\n",
    "    \"3. 모든 product의 loan_limit 히스토그램\\n\",\n",
    "    \"4. credit_score과 loan_rate의 히스토그램, credit_score과 desired_amount의 히스토그램 (신용점수가 낮을수록 돈을 더 많이 빌리고 싶어하나? 혹은 덜 빌리고 싶어하나?)\\n\",\n",
    "    \"5. credit_score과 평균 승인률 (application별 승인률)의 히스토그램\\n\",\n",
    "    \"6. user별로 application을 승인한 Session의 길이 / 평균 Session의 길이\\n\",\n",
    "    \"7. user별로 Session당 본인인증한 비율 vs. 전체 application 중 승인률 scatter-plot\\n\",\n",
    "    \"8. desired_amount와 application별 평균 승인률 히스토그램, desired_amount / yearly_income과 application별 평균 승인률 히스토그램 (갚을 능력이 얼마나 있는가)\\n\",\n",
    "    \"9. application에 대하여 product들의 평균 이자율과 승인여부 히스토그램\\n\",\n",
    "    \"10. 날짜별로 application의 전체 개수 line-graph\\\"\""
   ]
  },
  {
   "cell_type": "code",
   "execution_count": 5,
   "id": "11409ac0",
   "metadata": {},
   "outputs": [],
   "source": [
    "c = data.groupby(\"application_id\").max()"
   ]
  },
  {
   "cell_type": "code",
   "execution_count": 6,
   "id": "792991f7",
   "metadata": {},
   "outputs": [],
   "source": [
    "k = c.loc[c.is_applied == 1]"
   ]
  },
  {
   "cell_type": "markdown",
   "id": "73d3a49a",
   "metadata": {},
   "source": [
    "#10\n",
    "fig = go.Figure(data=[go.Histogram(x=k.loanapply_insert_time,\n",
    "                                   xbins=dict(\n",
    "                                       start='2022-03-01',\n",
    "                                       end='2022-05-31',\n",
    "                                              size='D7'),\n",
    "                                   autobinx=False)])\n",
    "fig.show()"
   ]
  },
  {
   "cell_type": "code",
   "execution_count": 10,
   "id": "183fb3cf",
   "metadata": {},
   "outputs": [],
   "source": [
    "#2\n",
    "data.loc[:,\"count\"] = np.ones(len(data))\n",
    "c = data.groupby(\"application_id\").sum()"
   ]
  },
  {
   "cell_type": "markdown",
   "id": "56e1f086",
   "metadata": {},
   "source": [
    "px.histogram(x = c[\"count\"])"
   ]
  },
  {
   "cell_type": "markdown",
   "id": "378c8252",
   "metadata": {},
   "source": [
    "#3\n",
    "x = np.log10(data.loan_limit+1)\n",
    "plt.hist(x, bins = np.arange(40)/4)\n",
    "plt.savefig(\"image.png\")"
   ]
  },
  {
   "cell_type": "markdown",
   "id": "410cef99",
   "metadata": {},
   "source": [
    "#4-1\n",
    "px.histogram(x = data.credit_score, y = data.loan_rate, histfunc = \"avg\", nbins = 90)"
   ]
  },
  {
   "cell_type": "markdown",
   "id": "2b65add2",
   "metadata": {},
   "source": [
    "#4-2\n",
    "px.histogram(x = data.credit_score, y = data.desired_amount, histfunc = \"avg\", nbins = 90)"
   ]
  },
  {
   "cell_type": "code",
   "execution_count": 33,
   "id": "42bbe119",
   "metadata": {},
   "outputs": [],
   "source": [
    "#5\n",
    "c = data.groupby(\"application_id\").max()"
   ]
  },
  {
   "cell_type": "code",
   "execution_count": 34,
   "id": "8e43fb5c",
   "metadata": {},
   "outputs": [],
   "source": [
    "c.reset_index(inplace = True, drop = True)"
   ]
  },
  {
   "cell_type": "code",
   "execution_count": 35,
   "id": "5f92e3c0",
   "metadata": {},
   "outputs": [],
   "source": [
    "d = c.groupby(\"user_id\").mean()"
   ]
  },
  {
   "cell_type": "markdown",
   "id": "a699c353",
   "metadata": {},
   "source": [
    "px.histogram(x = d.credit_score, y = d.is_applied, histfunc = \"avg\", nbins = 90)"
   ]
  },
  {
   "cell_type": "markdown",
   "id": "875de0d5",
   "metadata": {},
   "source": [
    "#8\n",
    "px.histogram(x = np.log10(d.desired_amount+1), y = d.is_applied, histfunc = \"avg\", nbins = 100)"
   ]
  },
  {
   "cell_type": "code",
   "execution_count": 25,
   "id": "35f85c8d",
   "metadata": {},
   "outputs": [],
   "source": [
    "c = data.groupby(\"application_id\").max()\n",
    "d = data.groupby(\"application_id\").mean()"
   ]
  },
  {
   "cell_type": "markdown",
   "id": "5b5301b0",
   "metadata": {},
   "source": [
    "px.histogram(x = d.loan_rate, y = c.is_applied, histfunc = \"sum\", nbins = 100)"
   ]
  }
 ],
 "metadata": {
  "kernelspec": {
   "display_name": "Python 3 (ipykernel)",
   "language": "python",
   "name": "python3"
  },
  "language_info": {
   "codemirror_mode": {
    "name": "ipython",
    "version": 3
   },
   "file_extension": ".py",
   "mimetype": "text/x-python",
   "name": "python",
   "nbconvert_exporter": "python",
   "pygments_lexer": "ipython3",
   "version": "3.10.6"
  }
 },
 "nbformat": 4,
 "nbformat_minor": 5
}
