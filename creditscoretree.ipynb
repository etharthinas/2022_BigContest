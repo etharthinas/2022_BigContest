{
  "nbformat": 4,
  "nbformat_minor": 0,
  "metadata": {
    "colab": {
      "provenance": [],
      "collapsed_sections": [],
      "authorship_tag": "ABX9TyOkLSUFroPUPMz2qlz2xn8F",
      "include_colab_link": true
    },
    "kernelspec": {
      "name": "python3",
      "display_name": "Python 3"
    },
    "language_info": {
      "name": "python"
    }
  },
  "cells": [
    {
      "cell_type": "markdown",
      "metadata": {
        "id": "view-in-github",
        "colab_type": "text"
      },
      "source": [
        "<a href=\"https://colab.research.google.com/github/etharthinas/2022_BigContest/blob/main/creditscoretree.ipynb\" target=\"_parent\"><img src=\"https://colab.research.google.com/assets/colab-badge.svg\" alt=\"Open In Colab\"/></a>"
      ]
    },
    {
      "cell_type": "code",
      "execution_count": null,
      "metadata": {
        "colab": {
          "base_uri": "https://localhost:8080/"
        },
        "id": "nIaPXqScjk-P",
        "outputId": "b11d146b-a5e7-4f49-fb43-deeeea8f61de"
      },
      "outputs": [
        {
          "output_type": "stream",
          "name": "stdout",
          "text": [
            "Drive already mounted at /content/drive; to attempt to forcibly remount, call drive.mount(\"/content/drive\", force_remount=True).\n"
          ]
        }
      ],
      "source": [
        "from google.colab import drive\n",
        "drive.mount('/content/drive')"
      ]
    },
    {
      "cell_type": "code",
      "source": [
        "import pandas as pd\n",
        "from sklearn.model_selection import train_test_split\n",
        "from sklearn.tree import DecisionTreeRegressor"
      ],
      "metadata": {
        "id": "VBTs6mMlo8-e"
      },
      "execution_count": null,
      "outputs": []
    },
    {
      "cell_type": "code",
      "source": [
        "path = \"/content/drive/MyDrive/joined.csv\"\n",
        "joined = pd.read_csv(path,index_col=0)\n",
        "joined = joined[joined['credit_score'].notna()]\n",
        "joinee = joined\n",
        "happy = pd.read_csv(\"/content/drive/MyDrive/happy.csv\",index_col = 0)"
      ],
      "metadata": {
        "id": "WmfDb7eJtqv9"
      },
      "execution_count": null,
      "outputs": []
    },
    {
      "cell_type": "code",
      "source": [
        "joined['birth_year'] = joined['birth_year'].apply(lambda x: int(str(x)[0:4]))\n",
        "joined['yearly_income'] = joined['yearly_income'].apply(lambda t: int(t)/1000000)\n",
        "joined['desired_amount'] = joined['desired_amount'].apply(lambda t: int(t)/1000000)\n",
        "joined['existing_loan_amt'] = joined['existing_loan_amt'].apply(lambda t: int(t)/1000000)\n",
        "joined['existing_loan_cnt'] = joined['existing_loan_cnt'].apply(lambda t: int(float(t)))"
      ],
      "metadata": {
        "id": "NXVSVW_XqObz"
      },
      "execution_count": null,
      "outputs": []
    },
    {
      "cell_type": "code",
      "source": [
        "hap = happy\n",
        "hap['birth_year'] = happy['birth_year'].apply(lambda x: int(str(x)[0:4]))\n",
        "hap['yearly_income'] = happy['yearly_income'].apply(lambda t: int(t)/1000000)\n",
        "hap['desired_amount'] = happy['desired_amount'].apply(lambda t: int(t)/1000000)\n",
        "hap['existing_loan_amt'] = happy['existing_loan_amt'].apply(lambda t: int(t)/1000000)\n",
        "hap['existing_loan_cnt'] = happy['existing_loan_cnt'].apply(lambda t: int(float(t)))"
      ],
      "metadata": {
        "id": "xTd2Bad2_chU"
      },
      "execution_count": null,
      "outputs": []
    },
    {
      "cell_type": "code",
      "source": [
        "newnewnewjoined = pd.concat([joined, pd.get_dummies(joined.income_type, prefix='income'), pd.get_dummies(joined.houseown_type, prefix='house')],axis=1)\n",
        "newhap = pd.concat([hap, pd.get_dummies(hap.income_type, prefix='income'), pd.get_dummies(hap.houseown_type, prefix='house')],axis=1)"
      ],
      "metadata": {
        "id": "8K84wXH8ueiW"
      },
      "execution_count": null,
      "outputs": []
    },
    {
      "cell_type": "code",
      "source": [
        "newnewnewnewjoined = newnewnewjoined.reset_index(drop=True)\n",
        "newhap = newhap.drop([\"application_id\", \"loanapply_insert_time\",'insert_time','credit_score',\"bank_id\", \"product_id\", 'income_type','loan_rate','loan_limit', 'is_applied', 'user_id','company_enter_month','purpose','employment_type','houseown_type'], axis=1)\n",
        "happyhappy = newhap.reset_index()"
      ],
      "metadata": {
        "id": "WX_Qn0677Plp"
      },
      "execution_count": null,
      "outputs": []
    },
    {
      "cell_type": "code",
      "source": [
        "X = newnewnewnewjoined.drop([\"application_id\", \"loanapply_insert_time\",'insert_time','credit_score',\"bank_id\", \"product_id\", 'income_type','loan_rate','loan_limit', 'is_applied', 'user_id','company_enter_month','purpose','employment_type','houseown_type'], axis=1)\n",
        "y = newnewnewnewjoined[\"credit_score\"]"
      ],
      "metadata": {
        "id": "FeH-P1RjoYXz"
      },
      "execution_count": null,
      "outputs": []
    },
    {
      "cell_type": "code",
      "source": [
        "X_train, X_test, y_train, y_test = train_test_split(X, y, test_size=0.3, random_state=44)"
      ],
      "metadata": {
        "id": "7rGyp7f44J6o"
      },
      "execution_count": null,
      "outputs": []
    },
    {
      "cell_type": "code",
      "source": [
        "happyres = happyhappy.drop(happyhappy.columns[[0, 1]], axis=1)"
      ],
      "metadata": {
        "id": "0DA78rR1G3Ai"
      },
      "execution_count": null,
      "outputs": []
    },
    {
      "cell_type": "code",
      "source": [
        "model = DecisionTreeRegressor(random_state=44)\n",
        "model.fit(X_train, y_train)"
      ],
      "metadata": {
        "id": "Tu3bWCwBtURp"
      },
      "execution_count": null,
      "outputs": []
    },
    {
      "cell_type": "code",
      "source": [
        "predictions = model.predict(happyres)\n",
        "happy['credit_score'] = predictions"
      ],
      "metadata": {
        "id": "9-0RsUriHs6O"
      },
      "execution_count": null,
      "outputs": []
    },
    {
      "cell_type": "code",
      "source": [
        "happy['credit_score']= happy['credit_score'].apply(lambda x: int(x)/10*10)"
      ],
      "metadata": {
        "id": "4PEgidMmtU3k"
      },
      "execution_count": null,
      "outputs": []
    },
    {
      "cell_type": "code",
      "source": [
        "fulldata = pd.concat([joinee,happy])\n",
        "fulldata.to_csv(\"/content/drive/MyDrive/fulljoined.csv\", mode='w')"
      ],
      "metadata": {
        "id": "befMbUMII24o"
      },
      "execution_count": null,
      "outputs": []
    }
  ]
}